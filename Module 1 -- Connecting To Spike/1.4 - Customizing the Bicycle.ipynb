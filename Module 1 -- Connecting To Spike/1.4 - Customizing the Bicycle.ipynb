{
 "cells": [
  {
   "cell_type": "markdown",
   "id": "c44b831b",
   "metadata": {},
   "source": [
    "# Module 1.4: Customizing the Bicycle:"
   ]
  },
  {
   "cell_type": "markdown",
   "id": "d43656c6",
   "metadata": {},
   "source": [
    "## Adding a Unique Element to the Bicycle:\n",
    "\n",
    "Now, it is time for you to add your own mechanism! The only requirements are that your bicycle must still be able to move, and that your addition involves another motor: the finished product should be able to be controlled using two motors. Choose from the list of ideas below or come up with your own idea entirely!\n",
    "\n",
    "Some possible ideas include: \n",
    "* A steering system so that the bicycle can turn\n",
    "* A person that rides the bicycle\n",
    "* A way for the bicycle to balance on only two wheels"
   ]
  },
  {
   "cell_type": "markdown",
   "id": "dedb34f7",
   "metadata": {},
   "source": [
    "## Programming the Bicycle:\n",
    "\n",
    "#### Connecting to Spike:\n",
    "Run the code to search for serial ports and select your hub."
   ]
  },
  {
   "cell_type": "code",
   "execution_count": 1,
   "id": "7f13f601",
   "metadata": {
    "scrolled": true
   },
   "outputs": [
    {
     "data": {
      "application/vnd.jupyter.widget-view+json": {
       "model_id": "a5d66bb8036743bf834bc1ccb2279aea",
       "version_major": 2,
       "version_minor": 0
      },
      "text/plain": [
       "Select(description='Select Port:', options=('/dev/cu.Bluetooth-Incoming-Port', '/dev/cu.LEGOHub30E283048E8E', …"
      ]
     },
     "metadata": {},
     "output_type": "display_data"
    },
    {
     "data": {
      "application/vnd.jupyter.widget-view+json": {
       "model_id": "595b192971854a388bb117b70b065397",
       "version_major": 2,
       "version_minor": 0
      },
      "text/plain": [
       "Output()"
      ]
     },
     "metadata": {},
     "output_type": "display_data"
    }
   ],
   "source": [
    "ser = None\n",
    "import serial\n",
    "import sys\n",
    "import glob\n",
    "import time\n",
    "import serial.tools.list_ports\n",
    "import ipywidgets as widgets\n",
    "from ipywidgets import HBox, Label, Layout\n",
    "from IPython.display import display\n",
    "from IPython.core.display import HTML\n",
    "from IPython.display import clear_output\n",
    "\n",
    "global buttonOneCodeText, buttonTwoCodeText, buttonThreeCodeText, buttonFourCodeText, buttonFiveCodeText, buttonSixCodeText\n",
    "\n",
    "buttonOneCodeText = '''Code Button #1 here'''\n",
    "buttonTwoCodeText = '''Code Button #2 here'''\n",
    "buttonThreeCodeText = '''Code Button #3 here'''\n",
    "buttonFourCodeText = '''Code Button #4 here'''\n",
    "buttonFiveCodeText = '''Code Button #5 here'''\n",
    "buttonSixCodeText = '''Code Button #6 here'''\n",
    "\n",
    "def serial_ports():\n",
    "    result = []\n",
    "    ports = serial.tools.list_ports.comports()\n",
    "    for port, desc, hwid in sorted(ports):\n",
    "        comm =  \"{}: {}\".format(port, desc)\n",
    "        result.append(comm) \n",
    "    return result\n",
    "\n",
    "def InitSerial(port, bps = 9600, to = 0):\n",
    "    global ser\n",
    "    try:\n",
    "        ser = serial.Serial(port, bps, timeout = to)  # open serial port\n",
    "        ser.flushInput()\n",
    "        ser.flushOutput()\n",
    "        return ser.name\n",
    "    except Exception as e:\n",
    "        return 'ERR: ' + str(e)\n",
    "\n",
    "def CloseSerial():\n",
    "    return('done')\n",
    "    try:\n",
    "        ser.flush()\n",
    "        ser.close()\n",
    "        return 'done'\n",
    "    except Exception as e:\n",
    "        return 'ERR: ' + str(e)    \n",
    "\n",
    "def WriteSerial(string):\n",
    "    try:\n",
    "        reply = ser.write(string.encode())\n",
    "        return str(reply)\n",
    "    except Exception as e:\n",
    "        return 'ERR: ' + str(e)    \n",
    "\n",
    "def ReadSerial():\n",
    "    try:\n",
    "        reply = ''\n",
    "        while ser.in_waiting:\n",
    "            reply = reply + ser.readline().decode()\n",
    "        return reply\n",
    "    except Exception as e:\n",
    "        return 'ERR: ' +  str(e)\n",
    "    \n",
    "def SendRead(string):\n",
    "    if WriteSerial(string):\n",
    "        time.sleep(0.1)\n",
    "        return ReadSerial()\n",
    "    \n",
    "updatedPortList = []\n",
    "\n",
    "def search_for_ports():\n",
    "#     updatedPortList = []\n",
    "    serialPortList = serial_ports()\n",
    "    for x in serialPortList:\n",
    "        updatedPortList.append(x[:x.index(':')])\n",
    "SerialPort = \"\"\n",
    "def on_value_change(change):\n",
    "    with output2:\n",
    "        SerialPort = change['new']\n",
    "        InitSerial(SerialPort,115200)\n",
    "        WriteSerial('\\x03')\n",
    "        run_some_code()\n",
    "        \n",
    "def run_some_code():\n",
    "    connectCode = '''\n",
    "import hub,utime\n",
    "battery.info()\n",
    "    '''\n",
    "    motorTest = '''\n",
    "import hub,utime\n",
    "hub.port.D.info()\n",
    "    '''\n",
    "    WriteSerial('\\x05')\n",
    "    WriteSerial(connectCode)\n",
    "    WriteSerial('\\x04')\n",
    "    WriteSerial('\\x03')\n",
    "    \n",
    "    time.sleep(1) #wait for everything to get over there and read all the replies\n",
    "    words = ReadSerial()\n",
    "#     print(words)\n",
    "    if (\">>>\" in words):\n",
    "        print(\"You are now connected to SPIKE Prime!\")\n",
    "    else:\n",
    "        print(\"Error, try reconnecting or connecting to a different serial port.\")\n",
    "\n",
    "updatedPortList = []\n",
    "search_for_ports()\n",
    "dropdown = widgets.Select(\n",
    "            options=updatedPortList,\n",
    "            description='Select Port:',\n",
    "            disabled=False)\n",
    "output2 = widgets.Output()\n",
    "display(dropdown, output2)\n",
    "dropdown.observe(on_value_change, names='value')\n",
    "# note if the timeout is anything but zero it is slow"
   ]
  },
  {
   "cell_type": "markdown",
   "id": "60b2685a",
   "metadata": {},
   "source": [
    "#### Using the functions below, code each of the buttons to control your bicycle:\n",
    "* move(*motor port*,*speed from -100 to 100*)\n",
    "* stop(*motor port*)\n",
    "* delay(*seconds*)\n",
    "\n",
    "Run the cell below and code in the spaces that appear."
   ]
  },
  {
   "cell_type": "code",
   "execution_count": 2,
   "id": "052ebee8",
   "metadata": {
    "scrolled": false
   },
   "outputs": [
    {
     "data": {
      "application/vnd.jupyter.widget-view+json": {
       "model_id": "7b301120b61c41209d7d98b2e1591a93",
       "version_major": 2,
       "version_minor": 0
      },
      "text/plain": [
       "Textarea(value='Code Button #1 here')"
      ]
     },
     "metadata": {},
     "output_type": "display_data"
    },
    {
     "data": {
      "application/vnd.jupyter.widget-view+json": {
       "model_id": "59c75697d3284301bf35da551334dc39",
       "version_major": 2,
       "version_minor": 0
      },
      "text/plain": [
       "Button(button_style='success', description='Update Button #1', style=ButtonStyle(), tooltip='Click me')"
      ]
     },
     "metadata": {},
     "output_type": "display_data"
    },
    {
     "data": {
      "application/vnd.jupyter.widget-view+json": {
       "model_id": "a07beaa5ff1b4b158f52eeaa607c0018",
       "version_major": 2,
       "version_minor": 0
      },
      "text/plain": [
       "Output()"
      ]
     },
     "metadata": {},
     "output_type": "display_data"
    },
    {
     "data": {
      "application/vnd.jupyter.widget-view+json": {
       "model_id": "3abfda1c34f64f7db29c4b8f49cf0fe5",
       "version_major": 2,
       "version_minor": 0
      },
      "text/plain": [
       "Textarea(value='Code Button #2 here')"
      ]
     },
     "metadata": {},
     "output_type": "display_data"
    },
    {
     "data": {
      "application/vnd.jupyter.widget-view+json": {
       "model_id": "41ad3dcc0b9943c39655b478ee72e898",
       "version_major": 2,
       "version_minor": 0
      },
      "text/plain": [
       "Button(button_style='success', description='Update Button #2', style=ButtonStyle(), tooltip='Click me')"
      ]
     },
     "metadata": {},
     "output_type": "display_data"
    },
    {
     "data": {
      "application/vnd.jupyter.widget-view+json": {
       "model_id": "770ba3bb266f4d279b352b25e89ef877",
       "version_major": 2,
       "version_minor": 0
      },
      "text/plain": [
       "Output()"
      ]
     },
     "metadata": {},
     "output_type": "display_data"
    },
    {
     "data": {
      "application/vnd.jupyter.widget-view+json": {
       "model_id": "92e8b29d07f04729ad3840ba54e8c52f",
       "version_major": 2,
       "version_minor": 0
      },
      "text/plain": [
       "Textarea(value='Code Button #3 here')"
      ]
     },
     "metadata": {},
     "output_type": "display_data"
    },
    {
     "data": {
      "application/vnd.jupyter.widget-view+json": {
       "model_id": "eb00e44ad89046fca0973b4e6b5f82dd",
       "version_major": 2,
       "version_minor": 0
      },
      "text/plain": [
       "Button(button_style='success', description='Update Button #3', style=ButtonStyle(), tooltip='Click me')"
      ]
     },
     "metadata": {},
     "output_type": "display_data"
    },
    {
     "data": {
      "application/vnd.jupyter.widget-view+json": {
       "model_id": "5ba323fcf7854053bfed781fba50513c",
       "version_major": 2,
       "version_minor": 0
      },
      "text/plain": [
       "Output()"
      ]
     },
     "metadata": {},
     "output_type": "display_data"
    },
    {
     "data": {
      "application/vnd.jupyter.widget-view+json": {
       "model_id": "30bfeecb2f364f208db23a52b5ce976d",
       "version_major": 2,
       "version_minor": 0
      },
      "text/plain": [
       "Textarea(value='Code Button #4 here')"
      ]
     },
     "metadata": {},
     "output_type": "display_data"
    },
    {
     "data": {
      "application/vnd.jupyter.widget-view+json": {
       "model_id": "f158067aa0a04fc8a51d3b02759b6239",
       "version_major": 2,
       "version_minor": 0
      },
      "text/plain": [
       "Button(button_style='success', description='Update Button #4', style=ButtonStyle(), tooltip='Click me')"
      ]
     },
     "metadata": {},
     "output_type": "display_data"
    },
    {
     "data": {
      "application/vnd.jupyter.widget-view+json": {
       "model_id": "b6d6324ed57246af8c0bdbc2e1ef58a9",
       "version_major": 2,
       "version_minor": 0
      },
      "text/plain": [
       "Output()"
      ]
     },
     "metadata": {},
     "output_type": "display_data"
    },
    {
     "data": {
      "application/vnd.jupyter.widget-view+json": {
       "model_id": "5cdefb3701bf43719fa2faf6356ca85f",
       "version_major": 2,
       "version_minor": 0
      },
      "text/plain": [
       "Textarea(value='Code Button #5 here')"
      ]
     },
     "metadata": {},
     "output_type": "display_data"
    },
    {
     "data": {
      "application/vnd.jupyter.widget-view+json": {
       "model_id": "bd62fabe2897483eac4a9af339b8fc71",
       "version_major": 2,
       "version_minor": 0
      },
      "text/plain": [
       "Button(button_style='success', description='Update Button #5', style=ButtonStyle(), tooltip='Click me')"
      ]
     },
     "metadata": {},
     "output_type": "display_data"
    },
    {
     "data": {
      "application/vnd.jupyter.widget-view+json": {
       "model_id": "2472164010344d42823b167f4e2d7290",
       "version_major": 2,
       "version_minor": 0
      },
      "text/plain": [
       "Output()"
      ]
     },
     "metadata": {},
     "output_type": "display_data"
    },
    {
     "data": {
      "application/vnd.jupyter.widget-view+json": {
       "model_id": "dab43bb5967e455ca7ff4e95dca6f15b",
       "version_major": 2,
       "version_minor": 0
      },
      "text/plain": [
       "Textarea(value='Code Button #6 here')"
      ]
     },
     "metadata": {},
     "output_type": "display_data"
    },
    {
     "data": {
      "application/vnd.jupyter.widget-view+json": {
       "model_id": "d730d94d96884f2b9e55c9e28aeb93a5",
       "version_major": 2,
       "version_minor": 0
      },
      "text/plain": [
       "Button(button_style='success', description='Update Button #6', style=ButtonStyle(), tooltip='Click me')"
      ]
     },
     "metadata": {},
     "output_type": "display_data"
    },
    {
     "data": {
      "application/vnd.jupyter.widget-view+json": {
       "model_id": "897254d8afe440f7a80a01c2115cc8fe",
       "version_major": 2,
       "version_minor": 0
      },
      "text/plain": [
       "Output()"
      ]
     },
     "metadata": {},
     "output_type": "display_data"
    },
    {
     "name": "stdout",
     "output_type": "stream",
     "text": [
      "Error: line 1, ''' is not a valid port\n",
      "Error: line 1, ''' is not a valid port\n",
      "Error: line 1, ''D'' is not a valid port\n"
     ]
    }
   ],
   "source": [
    "def translateCode(code):\n",
    "    codeArray=code.splitlines()\n",
    "    translatedCode = ''''''\n",
    "    for line in codeArray:\n",
    "        if(line.startswith(\"move(\") and line.endswith(\")\")): # setSpeed\n",
    "            port = line[5]\n",
    "            speedval = line[7:-1]\n",
    "            if(port not in ['A','B','C','D','E','F']):\n",
    "                print(\"Error: line \"+str(code.index(line)+1)+\", \\'\"+port+\"\\' is not a valid port\")\n",
    "                return None\n",
    "            try:\n",
    "                speed = int(speedval)\n",
    "            except:\n",
    "                print(\"Error: line \"+str(code.index(line)+1)+\", \\'\"+speedval+\"\\' is not an integer\")\n",
    "                return None\n",
    "            move = '''hub.port.'''+port+'''.motor.pwm('''+speedval+''')\n",
    "'''\n",
    "            translatedCode+=move\n",
    "        elif(line.startswith(\"delay(\") and line.endswith(\")\")): # wait\n",
    "            time = line[6:-1]\n",
    "            try:\n",
    "                intIfWorks = int(time)\n",
    "            except:\n",
    "                print(\"Error: line \"+str(code.index(line)+1)+\", \\'\"+line+\"\\' does not contain a positive integer\")\n",
    "                return None\n",
    "            delay = '''utime.sleep('''+time+''')\n",
    "'''\n",
    "            translatedCode+=delay\n",
    "        elif(line.startswith(\"stop(\") and line.endswith(\")\")): # stop\n",
    "            port = line[5:-1]\n",
    "            if(port not in ['A','B','C','D','E','F']):\n",
    "                print(\"Error: line \"+str(code.index(line)+1)+\", \\'\"+port+\"\\' is not a valid port\")\n",
    "                return None\n",
    "            stop = '''hub.port.'''+port+'''.motor.brake()\n",
    "'''\n",
    "            translatedCode+=stop\n",
    "        else:\n",
    "            print(\"Error: line \"+str(code.index(line)+1)+\", \\'\"+line+\"\\' is not defined\")\n",
    "            return None\n",
    "    return translatedCode\n",
    "    \n",
    "\n",
    "def button1Updater(btn):\n",
    "    code = codeInput1.value\n",
    "    global buttonOneCodeText\n",
    "    buttonOneCodeText = code\n",
    "    translatedCode = translateCode(code)\n",
    "    if(translatedCode is not None):\n",
    "        global buttonOneCode \n",
    "        buttonOneCode = translatedCode\n",
    "def button2Updater(btn):\n",
    "    code = codeInput2.value\n",
    "    global buttonTwoCodeText\n",
    "    buttonTwoCodeText = code\n",
    "    translatedCode = translateCode(code)\n",
    "    if(translatedCode is not None):\n",
    "        global buttonTwoCode\n",
    "        buttonTwoCode = translatedCode\n",
    "def button3Updater(btn):\n",
    "    code = codeInput3.value\n",
    "    global buttonThreeCodeText\n",
    "    buttonThreeCodeText = code\n",
    "    translatedCode = translateCode(code)\n",
    "    if(translatedCode is not None):\n",
    "        global buttonThreeCode\n",
    "        buttonThreeCode = translatedCode\n",
    "def button4Updater(btn):\n",
    "    code = codeInput4.value\n",
    "    global buttonFourCodeText\n",
    "    buttonFourCodeText = code\n",
    "    translatedCode = translateCode(code)\n",
    "    if(translatedCode is not None):\n",
    "        global buttonFourCode\n",
    "        buttonFourCode = translatedCode\n",
    "def button5Updater(btn):\n",
    "    code = codeInput5.value\n",
    "    global buttonFiveCodeText\n",
    "    buttonFiveCodeText = code\n",
    "    translatedCode = translateCode(code)\n",
    "    if(translatedCode is not None):\n",
    "        global buttonFiveCode\n",
    "        buttonFiveCode = translatedCode\n",
    "def button6Updater(btn):\n",
    "    code = codeInput6.value\n",
    "    global buttonSixCodeText\n",
    "    buttonSixCodeText = code\n",
    "    translatedCode = translateCode(code)\n",
    "    if(translatedCode is not None):\n",
    "        global buttonSixCode\n",
    "        buttonSixCode = translatedCode\n",
    "\n",
    "codeInput1 = widgets.Textarea(\n",
    "    value=buttonOneCodeText,\n",
    "    disabled=False\n",
    ")\n",
    "updateButtonCode1 = widgets.Button(\n",
    "    description='Update Button #1',\n",
    "    disabled=False,\n",
    "    button_style='success',\n",
    "    tooltip='Click me',\n",
    ")\n",
    "updateButtonCode1Output = widgets.Output()\n",
    "\n",
    "codeInput2 = widgets.Textarea(\n",
    "    value=buttonTwoCodeText,\n",
    "    disabled=False\n",
    ")\n",
    "updateButtonCode2 = widgets.Button(\n",
    "    description='Update Button #2',\n",
    "    disabled=False,\n",
    "    button_style='success',\n",
    "    tooltip='Click me',\n",
    ")\n",
    "updateButtonCode2Output = widgets.Output()\n",
    "\n",
    "codeInput3 = widgets.Textarea(\n",
    "    value=buttonThreeCodeText,\n",
    "    disabled=False\n",
    ")\n",
    "updateButtonCode3 = widgets.Button(\n",
    "    description='Update Button #3',\n",
    "    disabled=False,\n",
    "    button_style='success',\n",
    "    tooltip='Click me',\n",
    ")\n",
    "updateButtonCode3Output = widgets.Output()\n",
    "\n",
    "codeInput4 = widgets.Textarea(\n",
    "    value=buttonFourCodeText,\n",
    "    disabled=False\n",
    ")\n",
    "updateButtonCode4 = widgets.Button(\n",
    "    description='Update Button #4',\n",
    "    disabled=False,\n",
    "    button_style='success',\n",
    "    tooltip='Click me',\n",
    ")\n",
    "updateButtonCode4Output = widgets.Output()\n",
    "\n",
    "codeInput5 = widgets.Textarea(\n",
    "    value=buttonFiveCodeText,\n",
    "    disabled=False\n",
    ")\n",
    "updateButtonCode5 = widgets.Button(\n",
    "    description='Update Button #5',\n",
    "    disabled=False,\n",
    "    button_style='success',\n",
    "    tooltip='Click me',\n",
    ")\n",
    "updateButtonCode5Output = widgets.Output()\n",
    "\n",
    "codeInput6 = widgets.Textarea(\n",
    "    value=buttonSixCodeText,\n",
    "    disabled=False\n",
    ")\n",
    "updateButtonCode6 = widgets.Button(\n",
    "    description='Update Button #6',\n",
    "    disabled=False,\n",
    "    button_style='success',\n",
    "    tooltip='Click me',\n",
    ")\n",
    "updateButtonCode6Output = widgets.Output()\n",
    "\n",
    "display(codeInput1)\n",
    "display(updateButtonCode1,updateButtonCode1Output)\n",
    "updateButtonCode1.on_click(button1Updater)\n",
    "\n",
    "display(codeInput2)\n",
    "display(updateButtonCode2,updateButtonCode2Output)\n",
    "updateButtonCode2.on_click(button2Updater)\n",
    "\n",
    "display(codeInput3)\n",
    "display(updateButtonCode3,updateButtonCode3Output)\n",
    "updateButtonCode3.on_click(button3Updater)\n",
    "\n",
    "display(codeInput4)\n",
    "display(updateButtonCode4,updateButtonCode4Output)\n",
    "updateButtonCode4.on_click(button4Updater)\n",
    "\n",
    "display(codeInput5)\n",
    "display(updateButtonCode5,updateButtonCode5Output)\n",
    "updateButtonCode5.on_click(button5Updater)\n",
    "\n",
    "display(codeInput6)\n",
    "display(updateButtonCode6,updateButtonCode6Output)\n",
    "updateButtonCode6.on_click(button6Updater)"
   ]
  },
  {
   "cell_type": "markdown",
   "id": "7122fee6",
   "metadata": {},
   "source": [
    "#### Use the buttons that you've programmed to control your bicycle\n",
    "\n",
    "Run the code below for the buttons to appear."
   ]
  },
  {
   "cell_type": "code",
   "execution_count": 3,
   "id": "8dbc8a6a",
   "metadata": {
    "scrolled": false
   },
   "outputs": [
    {
     "data": {
      "application/vnd.jupyter.widget-view+json": {
       "model_id": "89fec7db73674eac8533493a01c07605",
       "version_major": 2,
       "version_minor": 0
      },
      "text/plain": [
       "GridspecLayout(children=(Button(description='Button 1', layout=Layout(grid_area='widget001', height='auto', wi…"
      ]
     },
     "execution_count": 3,
     "metadata": {},
     "output_type": "execute_result"
    }
   ],
   "source": [
    "from ipywidgets import GridspecLayout, Button\n",
    "\n",
    "def buttonOne(btn):\n",
    "    WriteSerial('\\x05')\n",
    "    WriteSerial(buttonOneCode)\n",
    "    WriteSerial('\\x04')\n",
    "def buttonTwo(btn):\n",
    "    WriteSerial('\\x05')\n",
    "    WriteSerial(buttonTwoCode)\n",
    "    WriteSerial('\\x04')\n",
    "def buttonThree(btn):\n",
    "    WriteSerial('\\x05')\n",
    "    WriteSerial(buttonThreeCode)\n",
    "    WriteSerial('\\x04')\n",
    "def buttonFour(btn):\n",
    "    WriteSerial('\\x05')\n",
    "    WriteSerial(buttonFourCode)\n",
    "    WriteSerial('\\x04')\n",
    "def buttonFive(btn):\n",
    "    WriteSerial('\\x05')\n",
    "    WriteSerial(buttonFiveCode)\n",
    "    WriteSerial('\\x04')\n",
    "def buttonSix(btn):\n",
    "    WriteSerial('\\x05')\n",
    "    WriteSerial(buttonSixCode)\n",
    "    WriteSerial('\\x04')\n",
    "    \n",
    "button1 = widgets.Button(\n",
    "    disabled=False,\n",
    "    layout = Layout(height='auto', width='auto'),\n",
    "    description=\"Button 1\"\n",
    ")\n",
    "output1 = widgets.Output()\n",
    "button1.on_click(buttonOne)\n",
    "\n",
    "button2 = widgets.Button(\n",
    "    disabled=False,\n",
    "    layout = Layout(height='auto', width='auto'),\n",
    "    description=\"Button 2\"\n",
    ")\n",
    "output2 = widgets.Output()\n",
    "button2.on_click(buttonTwo)\n",
    "\n",
    "button3 = widgets.Button(\n",
    "    disabled=False,\n",
    "    layout = Layout(height='auto', width='auto'),\n",
    "    description=\"Button 3\"\n",
    ")\n",
    "output3 = widgets.Output()\n",
    "button3.on_click(buttonThree)\n",
    "\n",
    "button4 = widgets.Button(\n",
    "    disabled=False,\n",
    "    layout = Layout(height='auto', width='auto'),\n",
    "    description=\"Button 4\"\n",
    ")\n",
    "output4 = widgets.Output()\n",
    "button4.on_click(buttonFour)\n",
    "\n",
    "button5 = widgets.Button(\n",
    "    disabled=False,\n",
    "    layout = Layout(height='auto', width='auto'),\n",
    "    description=\"Button 5\"\n",
    ")\n",
    "output5 = widgets.Output()\n",
    "button5.on_click(buttonFive)\n",
    "\n",
    "button6 = widgets.Button(\n",
    "    disabled=False,\n",
    "    layout = Layout(height='auto', width='auto'),\n",
    "    description=\"Button 6\"\n",
    ")\n",
    "output6 = widgets.Output()\n",
    "button6.on_click(buttonSix)\n",
    "\n",
    "grid = GridspecLayout(2, 3)\n",
    "grid[0, 0] = button1\n",
    "grid[0, 1] = button2\n",
    "grid[0, 2] = button3\n",
    "grid[1, 0] = button4\n",
    "grid[1, 1] = button5\n",
    "grid[1, 2] = button6\n",
    "grid\n"
   ]
  },
  {
   "cell_type": "markdown",
   "id": "b1d7ad12",
   "metadata": {},
   "source": [
    "### Congratulations, you've completed the first module! \n",
    "When you are finished with your bicycle, disassemble it. You may choose to try this module's build challenge or opt to move on to the next module! "
   ]
  }
 ],
 "metadata": {
  "kernelspec": {
   "display_name": "Python 3 (ipykernel)",
   "language": "python",
   "name": "python3"
  },
  "language_info": {
   "codemirror_mode": {
    "name": "ipython",
    "version": 3
   },
   "file_extension": ".py",
   "mimetype": "text/x-python",
   "name": "python",
   "nbconvert_exporter": "python",
   "pygments_lexer": "ipython3",
   "version": "3.9.1"
  }
 },
 "nbformat": 4,
 "nbformat_minor": 5
}
