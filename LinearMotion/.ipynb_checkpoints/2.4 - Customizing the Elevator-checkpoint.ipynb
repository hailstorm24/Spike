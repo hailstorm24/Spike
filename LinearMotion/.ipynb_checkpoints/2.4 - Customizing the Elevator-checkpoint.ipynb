{
 "cells": [
  {
   "cell_type": "markdown",
   "id": "8325ffe4",
   "metadata": {},
   "source": [
    "# Module 2.4: Customizing the Elevator!"
   ]
  },
  {
   "cell_type": "markdown",
   "id": "942ebc7d",
   "metadata": {},
   "source": [
    "## Adding a Unique Element to the Elevator:\n",
    "Now, it's time to add an extra mechanism to your elevator. You may add more motors, but you do not have to -- the only requirement is that you are doing *something* to make your creation more complex. Choose from the list of ideas below or come up with your own idea entirely!\n",
    "\n",
    "Some possible ideas include:\n",
    "* Adding a third floor that the elevator reaches\n",
    "* Creating elevator doors that open and close\n",
    "* Designing a mechanism to eject the minifigure from the elevator when it reaches the second floor"
   ]
  },
  {
   "cell_type": "markdown",
   "id": "aab26191",
   "metadata": {},
   "source": [
    "## Programming the Elevator:\n",
    "\n",
    "Run the code to connect to SPIKE."
   ]
  },
  {
   "cell_type": "code",
   "execution_count": null,
   "id": "02058f94",
   "metadata": {},
   "outputs": [],
   "source": [
    "import serial\n",
    "import sys\n",
    "import glob\n",
    "import time\n",
    "import serial.tools.list_ports\n",
    "import ipywidgets as widgets\n",
    "from IPython.display import display\n",
    "from IPython.display import clear_output\n",
    "\n",
    "\n",
    "ser = None\n",
    "\n",
    "def serial_ports():\n",
    "     result = []\n",
    "     ports = serial.tools.list_ports.comports()\n",
    "     for port, desc, hwid in sorted(ports):\n",
    "          comm =  \"{}: {}\".format(port, desc)\n",
    "          result.append(comm) \n",
    "     return result\n",
    "\n",
    "def InitSerial(port, bps = 9600, to = 0):\n",
    "    global ser\n",
    "    try:\n",
    "        ser = serial.Serial(port, bps, timeout = to)  # open serial port\n",
    "        ser.flushInput()\n",
    "        ser.flushOutput()\n",
    "        return ser.name\n",
    "    except Exception as e:\n",
    "        return 'ERR: ' + str(e)\n",
    "\n",
    "def CloseSerial():\n",
    "    return('done')\n",
    "    try:\n",
    "        ser.flush()\n",
    "        ser.close()\n",
    "        return 'done'\n",
    "    except Exception as e:\n",
    "        return 'ERR: ' + str(e)    \n",
    "\n",
    "def WriteSerial(string):\n",
    "    try:\n",
    "        reply = ser.write(string.encode())\n",
    "        return str(reply)\n",
    "    except Exception as e:\n",
    "        return 'ERR: ' + str(e)    \n",
    "\n",
    "def ReadSerial():\n",
    "    try:\n",
    "        reply = ''\n",
    "        while ser.in_waiting:\n",
    "            reply = reply + ser.readline().decode()\n",
    "        return reply\n",
    "    except Exception as e:\n",
    "        return 'ERR: ' +  str(e)\n",
    "    \n",
    "def SendRead(string):\n",
    "    if WriteSerial(string):\n",
    "        time.sleep(0.1)\n",
    "        return ReadSerial()\n",
    "    \n",
    "updatedPortList = []\n",
    "\n",
    "def search_for_ports():\n",
    "#     updatedPortList = []\n",
    "    serialPortList = serial_ports()\n",
    "    for x in serialPortList:\n",
    "        updatedPortList.append(x[:x.index(':')])\n",
    "        \n",
    "def on_value_change(change):\n",
    "    with output2:\n",
    "        InitSerial(change['new'],115200)\n",
    "        WriteSerial('\\x03')\n",
    "        run_some_code()\n",
    "        \n",
    "def run_some_code():\n",
    "    code = '''\n",
    "import hub,utime\n",
    "    '''\n",
    "    WriteSerial('\\x05')\n",
    "    WriteSerial(code)\n",
    "    WriteSerial('\\x04')\n",
    "    WriteSerial('\\x03')\n",
    "    \n",
    "    time.sleep(1) #wait for everything to get over there and read all the replies\n",
    "    words = ReadSerial()\n",
    "#     print(words)\n",
    "    if (\">>>\" in words):\n",
    "        print(\"You are now connected to SPIKE Prime!\")\n",
    "    else:\n",
    "        print(\"Error, try reconnecting or connecting to a different serial port.\")\n",
    "print (\"done!\")\n",
    "\n",
    "updatedPortList = []\n",
    "search_for_ports()\n",
    "dropdown = widgets.Select(\n",
    "            options=updatedPortList,\n",
    "            description='Select Port:',\n",
    "            disabled=False)\n",
    "output2 = widgets.Output()\n",
    "display(dropdown, output2)\n",
    "dropdown.observe(on_value_change, names='value')"
   ]
  },
  {
   "cell_type": "markdown",
   "id": "d344d19a",
   "metadata": {},
   "source": [
    "Load the move and buttonPressed functions."
   ]
  },
  {
   "cell_type": "code",
   "execution_count": null,
   "id": "8d88b5a7",
   "metadata": {},
   "outputs": [],
   "source": [
    "# the move function turns a motor for a specified number of rotations\n",
    "def move(port,rotations,speed): # takes the port letter (ex. 'A'), number of motor rotations, and speed (between -100 and 100) as parameters\n",
    "    moveCode = \"\"\"hub.port.\"\"\"+str(port)+\"\"\".motor.run_for_degrees(\"\"\"+str(360*rotations)+\"\"\", \"\"\"+str(speed)+\"\"\")\"\"\"\n",
    "    WriteSerial('\\x05')\n",
    "    WriteSerial(moveCode)\n",
    "    WriteSerial('\\x04')\n",
    "\n",
    "# the buttonPressed function returns true/false depending on whether or not the button has been pressed recently\n",
    "def buttonPressed(buttonType): # only parameter is the button (\"left\" or \"right\")\n",
    "    if(buttonType==\"right\"):\n",
    "        buttonCode = \"\"\"print(hub.button.right.was_pressed())\"\"\"\n",
    "    elif(buttonType==\"left\"):\n",
    "        buttonCode = \"\"\"print(hub.button.left.was_pressed())\"\"\"\n",
    "    WriteSerial('\\x05')\n",
    "    WriteSerial(buttonCode)\n",
    "    WriteSerial('\\x04')\n",
    "    responses = ReadSerial()\n",
    "    if(\"True\" in responses):\n",
    "        return True\n",
    "    else:\n",
    "        return False"
   ]
  },
  {
   "cell_type": "markdown",
   "id": "8cdfb159",
   "metadata": {},
   "source": [
    "Use the cell below to program your elevator."
   ]
  },
  {
   "cell_type": "code",
   "execution_count": null,
   "id": "ff519917",
   "metadata": {},
   "outputs": [],
   "source": []
  },
  {
   "cell_type": "markdown",
   "id": "7f0c6420",
   "metadata": {},
   "source": [
    "### Congratulations, you've completed the second module! \n",
    "When you are finished with your elevator, disassemble it. You're now ready to move on to the next module! "
   ]
  }
 ],
 "metadata": {
  "kernelspec": {
   "display_name": "Python 3 (ipykernel)",
   "language": "python",
   "name": "python3"
  },
  "language_info": {
   "codemirror_mode": {
    "name": "ipython",
    "version": 3
   },
   "file_extension": ".py",
   "mimetype": "text/x-python",
   "name": "python",
   "nbconvert_exporter": "python",
   "pygments_lexer": "ipython3",
   "version": "3.9.1"
  }
 },
 "nbformat": 4,
 "nbformat_minor": 5
}
