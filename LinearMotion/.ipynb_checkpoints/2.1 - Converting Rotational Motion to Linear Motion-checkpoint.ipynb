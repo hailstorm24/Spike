{
 "cells": [
  {
   "cell_type": "markdown",
   "id": "7df55143",
   "metadata": {},
   "source": [
    "# Module 2.1: Converting Rotational Motion to Linear Motion!"
   ]
  },
  {
   "cell_type": "markdown",
   "id": "fabf08f1",
   "metadata": {},
   "source": [
    "Module 2 explores linear motion. You will focus on two mechanisms to convert rotational motion to linear motion, and then use these to construct a LEGO elevator."
   ]
  },
  {
   "cell_type": "code",
   "execution_count": null,
   "id": "49d31dd6",
   "metadata": {},
   "outputs": [],
   "source": []
  }
 ],
 "metadata": {
  "kernelspec": {
   "display_name": "Python 3 (ipykernel)",
   "language": "python",
   "name": "python3"
  },
  "language_info": {
   "codemirror_mode": {
    "name": "ipython",
    "version": 3
   },
   "file_extension": ".py",
   "mimetype": "text/x-python",
   "name": "python",
   "nbconvert_exporter": "python",
   "pygments_lexer": "ipython3",
   "version": "3.9.1"
  }
 },
 "nbformat": 4,
 "nbformat_minor": 5
}
