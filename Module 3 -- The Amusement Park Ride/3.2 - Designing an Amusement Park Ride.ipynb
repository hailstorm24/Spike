{
 "cells": [
  {
   "cell_type": "markdown",
   "id": "35a8189b",
   "metadata": {},
   "source": [
    "# Module 3.2: Designing an Amusement Park Ride!"
   ]
  },
  {
   "cell_type": "markdown",
   "id": "bb4c68b3",
   "metadata": {},
   "source": [
    "### Constructing the Ride:\n",
    "\n",
    "Utilizing any of the engineering principles you have learned in past modules, construct an amusement park style ride.\n",
    "\n",
    "Some specifics:\n",
    "\n",
    "* Your ride must utilize exactly two motors.\n",
    "* The minifigure must remain attatched to the ride the entire time.\n",
    "* You may use any of the parts in your SPIKE kit, as well as any common household items (such as string) if you wish.\n",
    "\n",
    "Possible rides include:\n",
    "* Ferris Wheel\n",
    "* Merry-Go-Round\n",
    "* Spinning Teacups\n",
    "* Zero Gravity\n",
    "* Giant Swing"
   ]
  },
  {
   "cell_type": "markdown",
   "id": "a5af8ed0",
   "metadata": {},
   "source": [
    "### Controlling the Ride:\n",
    "\n",
    "Plug the motors into ports A and B and control using the buttons below."
   ]
  },
  {
   "cell_type": "code",
   "execution_count": 3,
   "id": "c412a2df",
   "metadata": {},
   "outputs": [
    {
     "data": {
      "application/vnd.jupyter.widget-view+json": {
       "model_id": "0b06a5b57d9c4d49a41d2ad6f57bcdbf",
       "version_major": 2,
       "version_minor": 0
      },
      "text/plain": [
       "Select(description='Select Port:', options=('/dev/cu.Bluetooth-Incoming-Port', '/dev/cu.LEGOHub30E283048E8E', …"
      ]
     },
     "metadata": {},
     "output_type": "display_data"
    },
    {
     "data": {
      "application/vnd.jupyter.widget-view+json": {
       "model_id": "f89a8399dcfa43f0bc612718693b480b",
       "version_major": 2,
       "version_minor": 0
      },
      "text/plain": [
       "Output()"
      ]
     },
     "metadata": {},
     "output_type": "display_data"
    },
    {
     "data": {
      "application/vnd.jupyter.widget-view+json": {
       "model_id": "ae76401fc181482da7e8404d11199e89",
       "version_major": 2,
       "version_minor": 0
      },
      "text/plain": [
       "VBox(children=(HBox(children=(Button(icon='arrow-up', layout=Layout(height='40px', margin='0px 0px 0px 0px', p…"
      ]
     },
     "metadata": {},
     "output_type": "display_data"
    },
    {
     "ename": "NameError",
     "evalue": "name 'goFasterB' is not defined",
     "output_type": "error",
     "traceback": [
      "\u001b[0;31m---------------------------------------------------------------------------\u001b[0m",
      "\u001b[0;31mNameError\u001b[0m                                 Traceback (most recent call last)",
      "File \u001b[0;32m/var/folders/09/8w2hx95516v31slz7fp5fvp80000gn/T/ipykernel_3777/3372921512.py:63\u001b[0m, in \u001b[0;36mforward_SpeedB\u001b[0;34m(b)\u001b[0m\n\u001b[1;32m     62\u001b[0m \u001b[38;5;28;01mdef\u001b[39;00m \u001b[38;5;21mforward_SpeedB\u001b[39m (b):\n\u001b[0;32m---> 63\u001b[0m     \u001b[38;5;28;01mwith\u001b[39;00m \u001b[43mgoFasterB\u001b[49m:\n\u001b[1;32m     64\u001b[0m         goForward \u001b[38;5;241m=\u001b[39m \u001b[38;5;124m'''\u001b[39m\u001b[38;5;124mhub.port.B.motor.pwm(-50)\u001b[39m\n\u001b[1;32m     65\u001b[0m \u001b[38;5;124m'''\u001b[39m\n\u001b[1;32m     66\u001b[0m         WriteSerial(\u001b[38;5;124m'\u001b[39m\u001b[38;5;130;01m\\x05\u001b[39;00m\u001b[38;5;124m'\u001b[39m)\n",
      "\u001b[0;31mNameError\u001b[0m: name 'goFasterB' is not defined"
     ]
    },
    {
     "ename": "NameError",
     "evalue": "name 'goSlowerB' is not defined",
     "output_type": "error",
     "traceback": [
      "\u001b[0;31m---------------------------------------------------------------------------\u001b[0m",
      "\u001b[0;31mNameError\u001b[0m                                 Traceback (most recent call last)",
      "File \u001b[0;32m/var/folders/09/8w2hx95516v31slz7fp5fvp80000gn/T/ipykernel_3777/3372921512.py:70\u001b[0m, in \u001b[0;36mbackward_SpeedB\u001b[0;34m(b)\u001b[0m\n\u001b[1;32m     69\u001b[0m \u001b[38;5;28;01mdef\u001b[39;00m \u001b[38;5;21mbackward_SpeedB\u001b[39m (b):\n\u001b[0;32m---> 70\u001b[0m     \u001b[38;5;28;01mwith\u001b[39;00m \u001b[43mgoSlowerB\u001b[49m:\n\u001b[1;32m     71\u001b[0m         goBackward \u001b[38;5;241m=\u001b[39m \u001b[38;5;124m'''\u001b[39m\u001b[38;5;124mhub.port.B.motor.pwm(50)\u001b[39m\n\u001b[1;32m     72\u001b[0m \u001b[38;5;124m'''\u001b[39m\n\u001b[1;32m     73\u001b[0m         WriteSerial(\u001b[38;5;124m'\u001b[39m\u001b[38;5;130;01m\\x05\u001b[39;00m\u001b[38;5;124m'\u001b[39m)\n",
      "\u001b[0;31mNameError\u001b[0m: name 'goSlowerB' is not defined"
     ]
    },
    {
     "ename": "NameError",
     "evalue": "name 'stopB' is not defined",
     "output_type": "error",
     "traceback": [
      "\u001b[0;31m---------------------------------------------------------------------------\u001b[0m",
      "\u001b[0;31mNameError\u001b[0m                                 Traceback (most recent call last)",
      "File \u001b[0;32m/var/folders/09/8w2hx95516v31slz7fp5fvp80000gn/T/ipykernel_3777/3372921512.py:77\u001b[0m, in \u001b[0;36mbreak_SpeedB\u001b[0;34m(b)\u001b[0m\n\u001b[1;32m     76\u001b[0m \u001b[38;5;28;01mdef\u001b[39;00m \u001b[38;5;21mbreak_SpeedB\u001b[39m(b):\n\u001b[0;32m---> 77\u001b[0m     \u001b[38;5;28;01mwith\u001b[39;00m \u001b[43mstopB\u001b[49m:\n\u001b[1;32m     78\u001b[0m         stopSpeed \u001b[38;5;241m=\u001b[39m \u001b[38;5;124m'''\u001b[39m\u001b[38;5;124mhub.port.B.motor.brake()\u001b[39m\n\u001b[1;32m     79\u001b[0m \u001b[38;5;124m'''\u001b[39m\n\u001b[1;32m     80\u001b[0m         WriteSerial(\u001b[38;5;124m'\u001b[39m\u001b[38;5;130;01m\\x05\u001b[39;00m\u001b[38;5;124m'\u001b[39m)\n",
      "\u001b[0;31mNameError\u001b[0m: name 'stopB' is not defined"
     ]
    },
    {
     "ename": "NameError",
     "evalue": "name 'goFasterA' is not defined",
     "output_type": "error",
     "traceback": [
      "\u001b[0;31m---------------------------------------------------------------------------\u001b[0m",
      "\u001b[0;31mNameError\u001b[0m                                 Traceback (most recent call last)",
      "File \u001b[0;32m/var/folders/09/8w2hx95516v31slz7fp5fvp80000gn/T/ipykernel_3777/3372921512.py:42\u001b[0m, in \u001b[0;36mforward_SpeedA\u001b[0;34m(b)\u001b[0m\n\u001b[1;32m     41\u001b[0m \u001b[38;5;28;01mdef\u001b[39;00m \u001b[38;5;21mforward_SpeedA\u001b[39m (b):\n\u001b[0;32m---> 42\u001b[0m     \u001b[38;5;28;01mwith\u001b[39;00m \u001b[43mgoFasterA\u001b[49m:\n\u001b[1;32m     43\u001b[0m         goForward \u001b[38;5;241m=\u001b[39m \u001b[38;5;124m'''\u001b[39m\u001b[38;5;124mhub.port.A.motor.pwm(-50)\u001b[39m\n\u001b[1;32m     44\u001b[0m \u001b[38;5;124m'''\u001b[39m\n\u001b[1;32m     45\u001b[0m         WriteSerial(\u001b[38;5;124m'\u001b[39m\u001b[38;5;130;01m\\x05\u001b[39;00m\u001b[38;5;124m'\u001b[39m)\n",
      "\u001b[0;31mNameError\u001b[0m: name 'goFasterA' is not defined"
     ]
    },
    {
     "ename": "NameError",
     "evalue": "name 'stopA' is not defined",
     "output_type": "error",
     "traceback": [
      "\u001b[0;31m---------------------------------------------------------------------------\u001b[0m",
      "\u001b[0;31mNameError\u001b[0m                                 Traceback (most recent call last)",
      "File \u001b[0;32m/var/folders/09/8w2hx95516v31slz7fp5fvp80000gn/T/ipykernel_3777/3372921512.py:56\u001b[0m, in \u001b[0;36mbreak_SpeedA\u001b[0;34m(b)\u001b[0m\n\u001b[1;32m     55\u001b[0m \u001b[38;5;28;01mdef\u001b[39;00m \u001b[38;5;21mbreak_SpeedA\u001b[39m(b):\n\u001b[0;32m---> 56\u001b[0m     \u001b[38;5;28;01mwith\u001b[39;00m \u001b[43mstopA\u001b[49m:\n\u001b[1;32m     57\u001b[0m         stopSpeed \u001b[38;5;241m=\u001b[39m \u001b[38;5;124m'''\u001b[39m\u001b[38;5;124mhub.port.A.motor.brake()\u001b[39m\n\u001b[1;32m     58\u001b[0m \u001b[38;5;124m'''\u001b[39m\n\u001b[1;32m     59\u001b[0m         WriteSerial(\u001b[38;5;124m'\u001b[39m\u001b[38;5;130;01m\\x05\u001b[39;00m\u001b[38;5;124m'\u001b[39m)\n",
      "\u001b[0;31mNameError\u001b[0m: name 'stopA' is not defined"
     ]
    }
   ],
   "source": [
    "%run ./module_3_helper_functions.ipynb\n",
    "updatedPortList = search_for_ports()\n",
    "dropdown = widgets.Select(\n",
    "            options=updatedPortList,\n",
    "            description='Select Port:',\n",
    "            disabled=False)\n",
    "output2 = widgets.Output()\n",
    "display(dropdown, output2)\n",
    "dropdown.observe(on_value_change2, names='value')\n",
    "rideControls()"
   ]
  },
  {
   "cell_type": "markdown",
   "id": "e47fe5a0",
   "metadata": {},
   "source": [
    "When you are ready to program your ride, you may move on to the next section."
   ]
  }
 ],
 "metadata": {
  "kernelspec": {
   "display_name": "Python 3 (ipykernel)",
   "language": "python",
   "name": "python3"
  },
  "language_info": {
   "codemirror_mode": {
    "name": "ipython",
    "version": 3
   },
   "file_extension": ".py",
   "mimetype": "text/x-python",
   "name": "python",
   "nbconvert_exporter": "python",
   "pygments_lexer": "ipython3",
   "version": "3.9.1"
  }
 },
 "nbformat": 4,
 "nbformat_minor": 5
}
