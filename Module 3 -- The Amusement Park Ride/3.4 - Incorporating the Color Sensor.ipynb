{
 "cells": [
  {
   "cell_type": "markdown",
   "id": "5fe48dbd",
   "metadata": {},
   "source": [
    "# Module 3.4: Incorporating the Light Sensor"
   ]
  },
  {
   "cell_type": "markdown",
   "id": "b2c3f99d",
   "metadata": {},
   "source": [
    "Now, we will put together our knowledge about light sensors from 3.1 with our knowledge about loops from 3.3 to program the ride to respond to color-based signals."
   ]
  },
  {
   "cell_type": "markdown",
   "id": "aed94793",
   "metadata": {},
   "source": [
    "Run the following code and connect to your SPIKE hub. "
   ]
  },
  {
   "cell_type": "code",
   "execution_count": 1,
   "id": "7f1a9111",
   "metadata": {},
   "outputs": [
    {
     "data": {
      "application/vnd.jupyter.widget-view+json": {
       "model_id": "6c3427cc20ef4165921a546e0e3d60cd",
       "version_major": 2,
       "version_minor": 0
      },
      "text/plain": [
       "Select(description='Select Port:', options=('/dev/cu.Bluetooth-Incoming-Port', '/dev/cu.LEGOHub30E283048E8E', …"
      ]
     },
     "metadata": {},
     "output_type": "display_data"
    },
    {
     "data": {
      "application/vnd.jupyter.widget-view+json": {
       "model_id": "e3ba2d99a5144d4795eebe3e57f7c5ed",
       "version_major": 2,
       "version_minor": 0
      },
      "text/plain": [
       "Output()"
      ]
     },
     "metadata": {},
     "output_type": "display_data"
    }
   ],
   "source": [
    "%run ./module_3_helper_functions.ipynb\n",
    "updatedPortList = search_for_ports()\n",
    "dropdown = widgets.Select(\n",
    "            options=updatedPortList,\n",
    "            description='Select Port:',\n",
    "            disabled=False)\n",
    "output2 = widgets.Output()\n",
    "display(dropdown, output2)\n",
    "dropdown.observe(on_value_change, names='value')"
   ]
  },
  {
   "cell_type": "markdown",
   "id": "a73d5cd0",
   "metadata": {},
   "source": [
    "Next, load the functions that you may need in programming the ride. These include:\n",
    "* move(port,rotations,speed) -- takes the port letter (ex. 'A'), number of motor rotations, and speed (between -100 and 100) as parameters and turns the motor accordingly.\n",
    "* read() -- takes no parameters, returns the input from the serial port as a string. \n",
    "* setupLightSensor(port) -- takes the port letter (ex. 'A') as a parameter and connects to the sensor. It must be run before calling any function to get light sensor data.\n",
    "* color(num) -- takes an integer as a parameter (2 for red, 3 for blue, 4 for green) and returns the intensity of the corresponding color (between 0 and 1024)\n",
    "* getColors() -- returns red green and blue intensity values (between 0 and 1024) as a tuple\n",
    "* getRGB() -- returns RGB values (between 0 and 255) as a tuple\n",
    "* printColor(rgb) -- takes an array of integers as a parameter and prints the hex value as well as a swatch of the corresponding color.\n",
    "* showPixel(x,y) -- takes the x and y values of a pixel and lights the corresponding pixel on the hub.\n",
    "* clearDisplay() -- turns off all pixels on the hub."
   ]
  },
  {
   "cell_type": "code",
   "execution_count": 2,
   "id": "8d1a6939",
   "metadata": {},
   "outputs": [],
   "source": [
    "from IPython.display import Markdown\n",
    "def move(port,rotations,speed):\n",
    "    moveCode = \"\"\"hub.port.\"\"\"+str(port)+\"\"\".motor.run_for_degrees(\"\"\"+str(360*rotations)+\"\"\", \"\"\"+str(speed)+\"\"\")\"\"\"\n",
    "    WriteSerial('\\x05')\n",
    "    WriteSerial(moveCode)\n",
    "    WriteSerial('\\x04')\n",
    "\n",
    "def read():\n",
    "    string1=''\n",
    "    string2 = '  '\n",
    "    while len(string2):\n",
    "        time.sleep(0.1)\n",
    "        string2 = ReadSerial()\n",
    "        string1 = string1+string2\n",
    "    return string1\n",
    "\n",
    "def setupLightSensor(port):\n",
    "    WriteSerial('import hub\\r\\n')\n",
    "    WriteSerial('light_sensor = hub.port.'+str(port)+'.device\\r\\n')\n",
    "\n",
    "def color(num):\n",
    "    WriteSerial('print(light_sensor.get()['+str(num)+'])\\r\\n')\n",
    "    return(int(read().split('\\r\\n')[-2]))\n",
    "\n",
    "def getColors():\n",
    "    return ((color(2),color(3),color(4)))\n",
    "\n",
    "def getRGB():\n",
    "    return(int(color(2)/1024*255),int(color(3)/1024*255),int(color(4)/1024*255))\n",
    "\n",
    "def printColor(rgb):\n",
    "    colors = [\"#\"+('%02x%02x%02x' %(rgb[0],rgb[1],rgb[2]))]\n",
    "    display(Markdown('<br>'.join(\n",
    "        f'<span style=\"font-family: monospace\">{color} <span style=\"color: {color}\">████████</span></span>'\n",
    "        for color in colors\n",
    "    )))\n",
    "\n",
    "def showPixel(x,y):\n",
    "    pixelCode = \"\"\"hub.display.pixel(\"\"\"+str(x)+\"\"\",\"\"\"+str(y)+\"\"\",9)\"\"\"\n",
    "    WriteSerial('\\x05')\n",
    "    WriteSerial(pixelCode)\n",
    "    WriteSerial('\\x04')\n",
    "\n",
    "def clearDisplay():\n",
    "    clearCode = \"\"\"hub.display.clear()\"\"\"\n",
    "    WriteSerial('\\x05')\n",
    "    WriteSerial(clearCode)\n",
    "    WriteSerial('\\x04')"
   ]
  },
  {
   "cell_type": "markdown",
   "id": "95604ce5",
   "metadata": {},
   "source": [
    "Now, program your ride! Some specifications:\n",
    "* you must move both of your motors in some sort of loop\n",
    "* your motors must behave according to data from the light sensor (ex. green runs the ride, red stops the ride)\n",
    "* your loops must have exit conditions (essentially, you must not put your code in a while(True) loop as this may cause the entire notebook to freeze)"
   ]
  },
  {
   "cell_type": "code",
   "execution_count": 4,
   "id": "62279e9d",
   "metadata": {},
   "outputs": [
    {
     "data": {
      "text/markdown": [
       "<span style=\"font-family: monospace\">#084b41 <span style=\"color: #084b41\">████████</span></span>"
      ],
      "text/plain": [
       "<IPython.core.display.Markdown object>"
      ]
     },
     "metadata": {},
     "output_type": "display_data"
    },
    {
     "data": {
      "text/markdown": [
       "<span style=\"font-family: monospace\">#0f3e2a <span style=\"color: #0f3e2a\">████████</span></span>"
      ],
      "text/plain": [
       "<IPython.core.display.Markdown object>"
      ]
     },
     "metadata": {},
     "output_type": "display_data"
    },
    {
     "data": {
      "text/markdown": [
       "<span style=\"font-family: monospace\">#163826 <span style=\"color: #163826\">████████</span></span>"
      ],
      "text/plain": [
       "<IPython.core.display.Markdown object>"
      ]
     },
     "metadata": {},
     "output_type": "display_data"
    },
    {
     "data": {
      "text/markdown": [
       "<span style=\"font-family: monospace\">#183a2a <span style=\"color: #183a2a\">████████</span></span>"
      ],
      "text/plain": [
       "<IPython.core.display.Markdown object>"
      ]
     },
     "metadata": {},
     "output_type": "display_data"
    },
    {
     "data": {
      "text/markdown": [
       "<span style=\"font-family: monospace\">#1a3824 <span style=\"color: #1a3824\">████████</span></span>"
      ],
      "text/plain": [
       "<IPython.core.display.Markdown object>"
      ]
     },
     "metadata": {},
     "output_type": "display_data"
    },
    {
     "data": {
      "text/markdown": [
       "<span style=\"font-family: monospace\">#173527 <span style=\"color: #173527\">████████</span></span>"
      ],
      "text/plain": [
       "<IPython.core.display.Markdown object>"
      ]
     },
     "metadata": {},
     "output_type": "display_data"
    },
    {
     "data": {
      "text/markdown": [
       "<span style=\"font-family: monospace\">#173225 <span style=\"color: #173225\">████████</span></span>"
      ],
      "text/plain": [
       "<IPython.core.display.Markdown object>"
      ]
     },
     "metadata": {},
     "output_type": "display_data"
    },
    {
     "data": {
      "text/markdown": [
       "<span style=\"font-family: monospace\">#163444 <span style=\"color: #163444\">████████</span></span>"
      ],
      "text/plain": [
       "<IPython.core.display.Markdown object>"
      ]
     },
     "metadata": {},
     "output_type": "display_data"
    },
    {
     "data": {
      "text/markdown": [
       "<span style=\"font-family: monospace\">#19223a <span style=\"color: #19223a\">████████</span></span>"
      ],
      "text/plain": [
       "<IPython.core.display.Markdown object>"
      ]
     },
     "metadata": {},
     "output_type": "display_data"
    },
    {
     "data": {
      "text/markdown": [
       "<span style=\"font-family: monospace\">#1b346e <span style=\"color: #1b346e\">████████</span></span>"
      ],
      "text/plain": [
       "<IPython.core.display.Markdown object>"
      ]
     },
     "metadata": {},
     "output_type": "display_data"
    },
    {
     "data": {
      "text/markdown": [
       "<span style=\"font-family: monospace\">#133468 <span style=\"color: #133468\">████████</span></span>"
      ],
      "text/plain": [
       "<IPython.core.display.Markdown object>"
      ]
     },
     "metadata": {},
     "output_type": "display_data"
    },
    {
     "data": {
      "text/markdown": [
       "<span style=\"font-family: monospace\">#12335f <span style=\"color: #12335f\">████████</span></span>"
      ],
      "text/plain": [
       "<IPython.core.display.Markdown object>"
      ]
     },
     "metadata": {},
     "output_type": "display_data"
    },
    {
     "data": {
      "text/markdown": [
       "<span style=\"font-family: monospace\">#11346b <span style=\"color: #11346b\">████████</span></span>"
      ],
      "text/plain": [
       "<IPython.core.display.Markdown object>"
      ]
     },
     "metadata": {},
     "output_type": "display_data"
    },
    {
     "data": {
      "text/markdown": [
       "<span style=\"font-family: monospace\">#14376b <span style=\"color: #14376b\">████████</span></span>"
      ],
      "text/plain": [
       "<IPython.core.display.Markdown object>"
      ]
     },
     "metadata": {},
     "output_type": "display_data"
    },
    {
     "data": {
      "text/markdown": [
       "<span style=\"font-family: monospace\">#143565 <span style=\"color: #143565\">████████</span></span>"
      ],
      "text/plain": [
       "<IPython.core.display.Markdown object>"
      ]
     },
     "metadata": {},
     "output_type": "display_data"
    },
    {
     "data": {
      "text/markdown": [
       "<span style=\"font-family: monospace\">#133870 <span style=\"color: #133870\">████████</span></span>"
      ],
      "text/plain": [
       "<IPython.core.display.Markdown object>"
      ]
     },
     "metadata": {},
     "output_type": "display_data"
    },
    {
     "data": {
      "text/markdown": [
       "<span style=\"font-family: monospace\">#19441a <span style=\"color: #19441a\">████████</span></span>"
      ],
      "text/plain": [
       "<IPython.core.display.Markdown object>"
      ]
     },
     "metadata": {},
     "output_type": "display_data"
    },
    {
     "data": {
      "text/markdown": [
       "<span style=\"font-family: monospace\">#246837 <span style=\"color: #246837\">████████</span></span>"
      ],
      "text/plain": [
       "<IPython.core.display.Markdown object>"
      ]
     },
     "metadata": {},
     "output_type": "display_data"
    },
    {
     "data": {
      "text/markdown": [
       "<span style=\"font-family: monospace\">#0c1f0b <span style=\"color: #0c1f0b\">████████</span></span>"
      ],
      "text/plain": [
       "<IPython.core.display.Markdown object>"
      ]
     },
     "metadata": {},
     "output_type": "display_data"
    },
    {
     "data": {
      "text/markdown": [
       "<span style=\"font-family: monospace\">#05170f <span style=\"color: #05170f\">████████</span></span>"
      ],
      "text/plain": [
       "<IPython.core.display.Markdown object>"
      ]
     },
     "metadata": {},
     "output_type": "display_data"
    },
    {
     "data": {
      "text/markdown": [
       "<span style=\"font-family: monospace\">#060c0b <span style=\"color: #060c0b\">████████</span></span>"
      ],
      "text/plain": [
       "<IPython.core.display.Markdown object>"
      ]
     },
     "metadata": {},
     "output_type": "display_data"
    },
    {
     "data": {
      "text/markdown": [
       "<span style=\"font-family: monospace\">#05110b <span style=\"color: #05110b\">████████</span></span>"
      ],
      "text/plain": [
       "<IPython.core.display.Markdown object>"
      ]
     },
     "metadata": {},
     "output_type": "display_data"
    },
    {
     "data": {
      "text/markdown": [
       "<span style=\"font-family: monospace\">#051410 <span style=\"color: #051410\">████████</span></span>"
      ],
      "text/plain": [
       "<IPython.core.display.Markdown object>"
      ]
     },
     "metadata": {},
     "output_type": "display_data"
    },
    {
     "data": {
      "text/markdown": [
       "<span style=\"font-family: monospace\">#071909 <span style=\"color: #071909\">████████</span></span>"
      ],
      "text/plain": [
       "<IPython.core.display.Markdown object>"
      ]
     },
     "metadata": {},
     "output_type": "display_data"
    },
    {
     "data": {
      "text/markdown": [
       "<span style=\"font-family: monospace\">#030b10 <span style=\"color: #030b10\">████████</span></span>"
      ],
      "text/plain": [
       "<IPython.core.display.Markdown object>"
      ]
     },
     "metadata": {},
     "output_type": "display_data"
    },
    {
     "data": {
      "text/markdown": [
       "<span style=\"font-family: monospace\">#092c21 <span style=\"color: #092c21\">████████</span></span>"
      ],
      "text/plain": [
       "<IPython.core.display.Markdown object>"
      ]
     },
     "metadata": {},
     "output_type": "display_data"
    },
    {
     "data": {
      "text/markdown": [
       "<span style=\"font-family: monospace\">#153928 <span style=\"color: #153928\">████████</span></span>"
      ],
      "text/plain": [
       "<IPython.core.display.Markdown object>"
      ]
     },
     "metadata": {},
     "output_type": "display_data"
    },
    {
     "data": {
      "text/markdown": [
       "<span style=\"font-family: monospace\">#143b28 <span style=\"color: #143b28\">████████</span></span>"
      ],
      "text/plain": [
       "<IPython.core.display.Markdown object>"
      ]
     },
     "metadata": {},
     "output_type": "display_data"
    },
    {
     "data": {
      "text/markdown": [
       "<span style=\"font-family: monospace\">#163724 <span style=\"color: #163724\">████████</span></span>"
      ],
      "text/plain": [
       "<IPython.core.display.Markdown object>"
      ]
     },
     "metadata": {},
     "output_type": "display_data"
    },
    {
     "data": {
      "text/markdown": [
       "<span style=\"font-family: monospace\">#143929 <span style=\"color: #143929\">████████</span></span>"
      ],
      "text/plain": [
       "<IPython.core.display.Markdown object>"
      ]
     },
     "metadata": {},
     "output_type": "display_data"
    },
    {
     "data": {
      "text/markdown": [
       "<span style=\"font-family: monospace\">#173d28 <span style=\"color: #173d28\">████████</span></span>"
      ],
      "text/plain": [
       "<IPython.core.display.Markdown object>"
      ]
     },
     "metadata": {},
     "output_type": "display_data"
    },
    {
     "data": {
      "text/markdown": [
       "<span style=\"font-family: monospace\">#153a25 <span style=\"color: #153a25\">████████</span></span>"
      ],
      "text/plain": [
       "<IPython.core.display.Markdown object>"
      ]
     },
     "metadata": {},
     "output_type": "display_data"
    },
    {
     "data": {
      "text/markdown": [
       "<span style=\"font-family: monospace\">#143929 <span style=\"color: #143929\">████████</span></span>"
      ],
      "text/plain": [
       "<IPython.core.display.Markdown object>"
      ]
     },
     "metadata": {},
     "output_type": "display_data"
    },
    {
     "data": {
      "text/markdown": [
       "<span style=\"font-family: monospace\">#193710 <span style=\"color: #193710\">████████</span></span>"
      ],
      "text/plain": [
       "<IPython.core.display.Markdown object>"
      ]
     },
     "metadata": {},
     "output_type": "display_data"
    },
    {
     "data": {
      "text/markdown": [
       "<span style=\"font-family: monospace\">#8c2d46 <span style=\"color: #8c2d46\">████████</span></span>"
      ],
      "text/plain": [
       "<IPython.core.display.Markdown object>"
      ]
     },
     "metadata": {},
     "output_type": "display_data"
    }
   ],
   "source": [
    "setupLightSensor('F')\n",
    "moving = True\n",
    "speed = 10\n",
    "while(moving):\n",
    "    rgb = getRGB()\n",
    "    printColor(rgb)\n",
    "    r=rgb[0]\n",
    "    g=rgb[1]\n",
    "    b=rgb[2]\n",
    "    move('A',-1,speed)\n",
    "    move('B',1,speed)\n",
    "    if(r-g>50 and r-b>50): # if red\n",
    "        moving = False\n",
    "    if(g-r>10 and g-b>10): # if green\n",
    "        speed += 5\n",
    "    if(b-g>10 and b-r>10): # if blue\n",
    "        speed -= 5"
   ]
  },
  {
   "cell_type": "markdown",
   "id": "6521ac89",
   "metadata": {},
   "source": [
    "when the sensor detects green - start\n",
    "blue - slow down\n",
    "red - stop"
   ]
  },
  {
   "cell_type": "markdown",
   "id": "cac764e3",
   "metadata": {},
   "source": [
    "### Congratulations, you've completed the third module! \n",
    "When you are finished with your ride, disassemble it. You're now ready to move on! "
   ]
  },
  {
   "cell_type": "code",
   "execution_count": null,
   "id": "5a256b23",
   "metadata": {},
   "outputs": [],
   "source": []
  }
 ],
 "metadata": {
  "kernelspec": {
   "display_name": "Python 3 (ipykernel)",
   "language": "python",
   "name": "python3"
  },
  "language_info": {
   "codemirror_mode": {
    "name": "ipython",
    "version": 3
   },
   "file_extension": ".py",
   "mimetype": "text/x-python",
   "name": "python",
   "nbconvert_exporter": "python",
   "pygments_lexer": "ipython3",
   "version": "3.9.1"
  }
 },
 "nbformat": 4,
 "nbformat_minor": 5
}
