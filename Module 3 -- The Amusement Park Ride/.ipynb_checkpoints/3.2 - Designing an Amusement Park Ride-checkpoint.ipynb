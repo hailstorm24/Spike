{
 "cells": [
  {
   "cell_type": "markdown",
   "id": "35a8189b",
   "metadata": {},
   "source": [
    "# Module 3.2: Designing an Amusement Park Ride!"
   ]
  },
  {
   "cell_type": "markdown",
   "id": "bb4c68b3",
   "metadata": {},
   "source": [
    "### Constructing the Ride:\n",
    "\n",
    "Utilizing any of the engineering principles you have learned in past modules, construct an amusement park style ride.\n",
    "\n",
    "Some specifics:\n",
    "\n",
    "* Your ride must utilize exactly two motors.\n",
    "* The minifigure must remain attatched to the ride the entire time.\n",
    "* You may use any of the parts in your SPIKE kit, as well as any common household items (such as string) if you wish.\n",
    "\n",
    "Possible rides include:\n",
    "* Ferris Wheel\n",
    "* Merry-Go-Round\n",
    "* Spinning Teacups\n",
    "* Zero Gravity\n",
    "* Giant Swing"
   ]
  },
  {
   "cell_type": "markdown",
   "id": "a5af8ed0",
   "metadata": {},
   "source": [
    "### Controlling the Ride:\n",
    "\n",
    "Plug the motors into ports A and B and control using the buttons below."
   ]
  },
  {
   "cell_type": "code",
   "execution_count": 4,
   "id": "c412a2df",
   "metadata": {},
   "outputs": [
    {
     "data": {
      "application/vnd.jupyter.widget-view+json": {
       "model_id": "43eb909d40514b53940e78c6f46835d0",
       "version_major": 2,
       "version_minor": 0
      },
      "text/plain": [
       "Select(description='Select Port:', options=('/dev/cu.Bluetooth-Incoming-Port', '/dev/cu.LEGOHub30E283048E8E', …"
      ]
     },
     "metadata": {},
     "output_type": "display_data"
    },
    {
     "data": {
      "application/vnd.jupyter.widget-view+json": {
       "model_id": "b43e1dec611e4e98aa45a56c94ba4f32",
       "version_major": 2,
       "version_minor": 0
      },
      "text/plain": [
       "Output()"
      ]
     },
     "metadata": {},
     "output_type": "display_data"
    },
    {
     "data": {
      "application/vnd.jupyter.widget-view+json": {
       "model_id": "f127cbb01b854e07915cbe4a7c6421f1",
       "version_major": 2,
       "version_minor": 0
      },
      "text/plain": [
       "VBox(children=(HBox(children=(Button(icon='arrow-up', layout=Layout(height='40px', margin='0px 0px 0px 0px', p…"
      ]
     },
     "metadata": {},
     "output_type": "display_data"
    }
   ],
   "source": [
    "%run ./module_3_helper_functions.ipynb\n",
    "updatedPortList = search_for_ports()\n",
    "dropdown = widgets.Select(\n",
    "            options=updatedPortList,\n",
    "            description='Select Port:',\n",
    "            disabled=False)\n",
    "output2 = widgets.Output()\n",
    "display(dropdown, output2)\n",
    "dropdown.observe(on_value_change2, names='value')\n",
    "rideControls()"
   ]
  },
  {
   "cell_type": "markdown",
   "id": "e47fe5a0",
   "metadata": {},
   "source": [
    "When you are ready to program your ride, you may move on to the next section."
   ]
  }
 ],
 "metadata": {
  "kernelspec": {
   "display_name": "Python 3 (ipykernel)",
   "language": "python",
   "name": "python3"
  },
  "language_info": {
   "codemirror_mode": {
    "name": "ipython",
    "version": 3
   },
   "file_extension": ".py",
   "mimetype": "text/x-python",
   "name": "python",
   "nbconvert_exporter": "python",
   "pygments_lexer": "ipython3",
   "version": "3.9.1"
  }
 },
 "nbformat": 4,
 "nbformat_minor": 5
}
