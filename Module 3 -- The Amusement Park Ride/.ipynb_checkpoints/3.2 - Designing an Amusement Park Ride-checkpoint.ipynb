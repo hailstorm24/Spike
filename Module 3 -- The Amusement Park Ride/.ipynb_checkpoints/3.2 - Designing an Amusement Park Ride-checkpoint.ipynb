{
 "cells": [
  {
   "cell_type": "markdown",
   "id": "35a8189b",
   "metadata": {},
   "source": [
    "# Module 3.2: Designing an Amusement Park Ride!"
   ]
  },
  {
   "cell_type": "markdown",
   "id": "bb4c68b3",
   "metadata": {},
   "source": [
    "### Constructing the Ride:\n",
    "\n",
    "Utilizing any of the engineering principles you have learned in past modules, construct an amusement park style ride.\n",
    "\n",
    "Some specifics:\n",
    "\n",
    "* Your ride must utilize exactly two motors.\n",
    "* The minifigure must remain attached to the ride the entire time.\n",
    "* You may use any of the parts in your SPIKE kit, as well as any common household items (such as string) if you wish.\n",
    "\n",
    "Possible rides include:\n",
    "* Ferris Wheel\n",
    "* Merry-Go-Round\n",
    "* Spinning Teacups\n",
    "* Zero Gravity\n",
    "* Giant Swing"
   ]
  },
  {
   "cell_type": "markdown",
   "id": "a5af8ed0",
   "metadata": {},
   "source": [
    "### Controlling the Ride:\n",
    "\n",
    "Plug the motors into ports A and B and control using the buttons below."
   ]
  },
  {
   "cell_type": "code",
   "execution_count": null,
   "id": "c412a2df",
   "metadata": {},
   "outputs": [],
   "source": [
    "%run ./module_3_helper_functions.ipynb\n",
    "updatedPortList = search_for_ports()\n",
    "dropdown = widgets.Select(\n",
    "            options=updatedPortList,\n",
    "            description='Select Port:',\n",
    "            disabled=False)\n",
    "output2 = widgets.Output()\n",
    "display(dropdown, output2)\n",
    "dropdown.observe(on_value_change2, names='value')\n",
    "rideControls()"
   ]
  },
  {
   "cell_type": "markdown",
   "id": "e47fe5a0",
   "metadata": {},
   "source": [
    "When you are ready to program your ride, you may move on to the next section."
   ]
  }
 ],
 "metadata": {
  "kernelspec": {
   "display_name": "Python 3 (ipykernel)",
   "language": "python",
   "name": "python3"
  },
  "language_info": {
   "codemirror_mode": {
    "name": "ipython",
    "version": 3
   },
   "file_extension": ".py",
   "mimetype": "text/x-python",
   "name": "python",
   "nbconvert_exporter": "python",
   "pygments_lexer": "ipython3",
   "version": "3.9.1"
  }
 },
 "nbformat": 4,
 "nbformat_minor": 5
}
