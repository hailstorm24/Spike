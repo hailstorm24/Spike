{
 "cells": [
  {
   "cell_type": "markdown",
   "id": "5fe48dbd",
   "metadata": {},
   "source": [
    "# Module 3.4: Incorporating the Light Sensor"
   ]
  },
  {
   "cell_type": "markdown",
   "id": "b2c3f99d",
   "metadata": {},
   "source": [
    "Now, we will put together our knowledge about light sensors from 3.1 with our knowledge about loops from 3.3 to program the ride to respond to color-based signals."
   ]
  },
  {
   "cell_type": "markdown",
   "id": "aed94793",
   "metadata": {},
   "source": [
    "Run the following code and connect to your SPIKE hub. "
   ]
  },
  {
   "cell_type": "code",
   "execution_count": 1,
   "id": "7f1a9111",
   "metadata": {},
   "outputs": [
    {
     "data": {
      "application/vnd.jupyter.widget-view+json": {
       "model_id": "d5520bee9f1446489f2833b9b25f881d",
       "version_major": 2,
       "version_minor": 0
      },
      "text/plain": [
       "Select(description='Select Port:', options=('/dev/cu.Bluetooth-Incoming-Port', '/dev/cu.LEGOHub30E283048E8E', …"
      ]
     },
     "metadata": {},
     "output_type": "display_data"
    },
    {
     "data": {
      "application/vnd.jupyter.widget-view+json": {
       "model_id": "a86b8d248bf749809d79e56ae6e5f1e3",
       "version_major": 2,
       "version_minor": 0
      },
      "text/plain": [
       "Output()"
      ]
     },
     "metadata": {},
     "output_type": "display_data"
    }
   ],
   "source": [
    "%run ./module_3_helper_functions.ipynb\n",
    "updatedPortList = search_for_ports()\n",
    "dropdown = widgets.Select(\n",
    "            options=updatedPortList,\n",
    "            description='Select Port:',\n",
    "            disabled=False)\n",
    "output2 = widgets.Output()\n",
    "display(dropdown, output2)\n",
    "dropdown.observe(on_value_change, names='value')"
   ]
  },
  {
   "cell_type": "markdown",
   "id": "a73d5cd0",
   "metadata": {},
   "source": [
    "Next, load the functions that you may need in programming the ride. These include:\n",
    "* move(port,rotations,speed) -- takes the port letter (ex. 'A'), number of motor rotations, and speed (between -100 and 100) as parameters and turns the motor accordingly.\n",
    "* read() -- takes no parameters, returns the input from the serial port as a string. \n",
    "* setupLightSensor(port) -- takes the port letter (ex. 'A') as a parameter and connects to the sensor. It must be run before calling any function to get light sensor data.\n",
    "* color(num) -- takes an integer as a parameter (2 for red, 3 for blue, 4 for green) and returns the intensity of the corresponding color (between 0 and 1024)\n",
    "* getColors() -- returns red green and blue intensity values (between 0 and 1024) as a tuple\n",
    "* getRGB() -- returns RGB values (between 0 and 255) as a tuple\n",
    "* printColor(rgb) -- takes an array of integers as a parameter and prints the hex value as well as a swatch of the corresponding color.\n",
    "* showPixel(x,y) -- takes the x and y values of a pixel and lights the corresponding pixel on the hub.\n",
    "* clearDisplay() -- turns off all pixels on the hub."
   ]
  },
  {
   "cell_type": "code",
   "execution_count": 2,
   "id": "8d1a6939",
   "metadata": {},
   "outputs": [],
   "source": [
    "from IPython.display import Markdown\n",
    "def move(port,rotations,speed):\n",
    "    moveCode = \"\"\"hub.port.\"\"\"+str(port)+\"\"\".motor.run_for_degrees(\"\"\"+str(360*rotations)+\"\"\", \"\"\"+str(speed)+\"\"\")\"\"\"\n",
    "    WriteSerial('\\x05')\n",
    "    WriteSerial(moveCode)\n",
    "    WriteSerial('\\x04')\n",
    "\n",
    "def read():\n",
    "    string1=''\n",
    "    string2 = '  '\n",
    "    while len(string2):\n",
    "        time.sleep(0.1)\n",
    "        string2 = ReadSerial()\n",
    "        string1 = string1+string2\n",
    "    return string1\n",
    "\n",
    "def setupLightSensor(port):\n",
    "    WriteSerial('import hub\\r\\n')\n",
    "    WriteSerial('light_sensor = hub.port.'+str(port)+'.device\\r\\n')\n",
    "\n",
    "def color(num):\n",
    "    WriteSerial('print(light_sensor.get()['+str(num)+'])\\r\\n')\n",
    "    return(int(read().split('\\r\\n')[-2]))\n",
    "\n",
    "def getColors():\n",
    "    return ((color(2),color(3),color(4)))\n",
    "\n",
    "def getRGB():\n",
    "    return(int(color(2)/1024*255),int(color(3)/1024*255),int(color(4)/1024*255))\n",
    "\n",
    "def printColor(rgb):\n",
    "    colors = [\"#\"+('%02x%02x%02x' %(rgb[0],rgb[1],rgb[2]))]\n",
    "    display(Markdown('<br>'.join(\n",
    "        f'<span style=\"font-family: monospace\">{color} <span style=\"color: {color}\">████████</span></span>'\n",
    "        for color in colors\n",
    "    )))\n",
    "\n",
    "def showPixel(x,y):\n",
    "    pixelCode = \"\"\"hub.display.pixel(\"\"\"+str(x)+\"\"\",\"\"\"+str(y)+\"\"\",9)\"\"\"\n",
    "    WriteSerial('\\x05')\n",
    "    WriteSerial(pixelCode)\n",
    "    WriteSerial('\\x04')\n",
    "\n",
    "def clearDisplay():\n",
    "    clearCode = \"\"\"hub.display.clear()\"\"\"\n",
    "    WriteSerial('\\x05')\n",
    "    WriteSerial(clearCode)\n",
    "    WriteSerial('\\x04')"
   ]
  },
  {
   "cell_type": "markdown",
   "id": "95604ce5",
   "metadata": {},
   "source": [
    "Now, program your ride! Some specifications:\n",
    "* you must move both of your motors in some sort of loop\n",
    "* your motors must behave according to data from the light sensor (ex. green runs the ride, red stops the ride)\n",
    "* your loops must have exit conditions (essentially, you must not put your code in a while(True) loop as this may cause the entire notebook to freeze)"
   ]
  },
  {
   "cell_type": "code",
   "execution_count": null,
   "id": "62279e9d",
   "metadata": {},
   "outputs": [],
   "source": []
  },
  {
   "cell_type": "markdown",
   "id": "cac764e3",
   "metadata": {},
   "source": [
    "### Congratulations, you've completed the third module! \n",
    "When you are finished with your ride, disassemble it. You're now ready to move on! "
   ]
  },
  {
   "cell_type": "code",
   "execution_count": null,
   "id": "5a256b23",
   "metadata": {},
   "outputs": [],
   "source": []
  }
 ],
 "metadata": {
  "kernelspec": {
   "display_name": "Python 3 (ipykernel)",
   "language": "python",
   "name": "python3"
  },
  "language_info": {
   "codemirror_mode": {
    "name": "ipython",
    "version": 3
   },
   "file_extension": ".py",
   "mimetype": "text/x-python",
   "name": "python",
   "nbconvert_exporter": "python",
   "pygments_lexer": "ipython3",
   "version": "3.9.1"
  }
 },
 "nbformat": 4,
 "nbformat_minor": 5
}
