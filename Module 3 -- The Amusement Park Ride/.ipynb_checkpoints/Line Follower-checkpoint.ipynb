{
 "cells": [
  {
   "cell_type": "markdown",
   "id": "440a437e",
   "metadata": {},
   "source": [
    "# Module 1 Build Challenge (Optional): Designing a Lego Table Saw"
   ]
  },
  {
   "cell_type": "markdown",
   "id": "c2049abc",
   "metadata": {},
   "source": [
    "The next project you are going to work on is a Line Follower! The goal of this project is to create a robot that can follow a given path on the floor. To do this, you'll need to create a path that your robot needs to follow. Using black tape on a light colored, solid floor is a great way to do this!\n",
    "<br><br>\n",
    "Let's start off by making the path. Lay down your tape on the floor in a pattern you'd like your robot to follow! You can add some turns to make it interesting, but don't make it too challenging for the robot (at least at first!).\n",
    "<br><br>\n",
    "Once you've created your path, you'll need to build and code your robot to follow it! Let's think about the parts we may need to make this work. For each part listed below, choose whether or not you think it will be used in your line follower."
   ]
  },
  {
   "cell_type": "code",
   "execution_count": 5,
   "id": "376d0b3e",
   "metadata": {
    "scrolled": true
   },
   "outputs": [
    {
     "name": "stdout",
     "output_type": "stream",
     "text": [
      "Motors\n"
     ]
    },
    {
     "data": {
      "application/vnd.jupyter.widget-view+json": {
       "model_id": "063f98554bdb4d13a168b51daca52fbb",
       "version_major": 2,
       "version_minor": 0
      },
      "text/plain": [
       "Dropdown(index=2, options=('Yes', 'No', 'Choose your answer'), value='Choose your answer')"
      ]
     },
     "metadata": {},
     "output_type": "display_data"
    },
    {
     "name": "stdout",
     "output_type": "stream",
     "text": [
      "\n",
      "Light Sensor\n"
     ]
    },
    {
     "data": {
      "application/vnd.jupyter.widget-view+json": {
       "model_id": "57fc1c440aa1456c91505b0eedd5dabc",
       "version_major": 2,
       "version_minor": 0
      },
      "text/plain": [
       "Dropdown(index=2, options=('Yes', 'No', 'Choose your answer'), value='Choose your answer')"
      ]
     },
     "metadata": {},
     "output_type": "display_data"
    },
    {
     "name": "stdout",
     "output_type": "stream",
     "text": [
      "\n",
      "Force Sensor\n"
     ]
    },
    {
     "data": {
      "application/vnd.jupyter.widget-view+json": {
       "model_id": "7194181a856d404db314c59c1500a79e",
       "version_major": 2,
       "version_minor": 0
      },
      "text/plain": [
       "Dropdown(index=2, options=('Yes', 'No', 'Choose your answer'), value='Choose your answer')"
      ]
     },
     "metadata": {},
     "output_type": "display_data"
    },
    {
     "name": "stdout",
     "output_type": "stream",
     "text": [
      "\n",
      "Distance Sensor\n"
     ]
    },
    {
     "data": {
      "application/vnd.jupyter.widget-view+json": {
       "model_id": "af43b65e521646b5a40a28d5f7ee507a",
       "version_major": 2,
       "version_minor": 0
      },
      "text/plain": [
       "Dropdown(index=2, options=('Yes', 'No', 'Choose your answer'), value='Choose your answer')"
      ]
     },
     "metadata": {},
     "output_type": "display_data"
    },
    {
     "name": "stdout",
     "output_type": "stream",
     "text": [
      "Correct! Your robot will have to drive along a path. So, you'll have to use motors to power it!\n",
      "Correct! Your robot will have to drive along a path. So, you'll have to use motors to power it!\n",
      "Correct! You could always find a way to incorporate this and add on to your project, but we don't need a force sensor for now.\n",
      "Correct! You could always find a way to incorporate this and add on to your project, but we don't need a distance sensor for now.\n",
      "Correct! You could always find a way to incorporate this and add on to your project, but we don't need a force sensor for now.\n",
      "Correct! You could always find a way to incorporate this and add on to your project, but we don't need a distance sensor for now.\n",
      "Try again!\n",
      "Try again!\n",
      "Correct! You will use your light sensor to determine whether or not the robot is on the right path.\n",
      "Correct! You will use your light sensor to determine whether or not the robot is on the right path.\n"
     ]
    }
   ],
   "source": [
    "#Answer the questions below!\n",
    "import ipywidgets as widgets\n",
    "from ipywidgets import HBox, Label, Layout\n",
    "\n",
    "question_1 = widgets.Dropdown(\n",
    "    options=['Yes', 'No','Choose your answer',],\n",
    "    value='Choose your answer',\n",
    "    description='',\n",
    ")\n",
    "\n",
    "def answer_1(change):\n",
    "    if change['new'] == 'Yes':\n",
    "        print(\"Correct! Your robot will have to drive along a path. So, you'll have to use motors to power it!\")\n",
    "          \n",
    "    elif change['new'] == 'No':\n",
    "        print(\"Try again!\")\n",
    "      \n",
    "question_1.observe(answer_1)\n",
    "\n",
    "print(\"Motors\")\n",
    "display(question_1)\n",
    "\n",
    "question_2 = widgets.Dropdown(\n",
    "    options=['Yes', 'No','Choose your answer',],\n",
    "    value='Choose your answer',\n",
    "    description='',\n",
    ")\n",
    "\n",
    "def answer_2(change):\n",
    "    if change['new'] == 'Yes':\n",
    "        print(\"Correct! You will use your light sensor to determine whether or not the robot is on the right path.\")\n",
    "          \n",
    "    elif change['new'] == 'No':\n",
    "        print(\"Try again!\")\n",
    "      \n",
    "question_2.observe(answer_2)\n",
    "\n",
    "print()\n",
    "print('Light Sensor')\n",
    "display(question_2)\n",
    "\n",
    "question_3 = widgets.Dropdown(\n",
    "    options=['Yes', 'No','Choose your answer',],\n",
    "    value='Choose your answer',\n",
    "    description='',\n",
    ")\n",
    "\n",
    "def answer_3(change):\n",
    "    if change['new'] == 'Yes':\n",
    "        print(\"Try again!\")\n",
    "          \n",
    "    elif change['new'] == 'No':\n",
    "        print(\"Correct! You could always find a way to incorporate this and add on to your project, but we don't need a force sensor for now.\")\n",
    "      \n",
    "question_3.observe(answer_3)\n",
    "\n",
    "print()\n",
    "print('Force Sensor')\n",
    "display(question_3)\n",
    "\n",
    "question_4 = widgets.Dropdown(\n",
    "    options=['Yes', 'No','Choose your answer',],\n",
    "    value='Choose your answer',\n",
    "    description='',\n",
    ")\n",
    "\n",
    "def answer_4(change):\n",
    "    if change['new'] == 'Yes':\n",
    "        print(\"Try again!\")\n",
    "          \n",
    "    elif change['new'] == 'No':\n",
    "        print(\"Correct! You could always find a way to incorporate this and add on to your project, but we don't need a distance sensor for now.\")\n",
    "      \n",
    "question_3.observe(answer_4)\n",
    "\n",
    "print()\n",
    "print('Distance Sensor')\n",
    "display(question_4)"
   ]
  },
  {
   "cell_type": "markdown",
   "id": "bb15843b",
   "metadata": {},
   "source": [
    "So, our plan is to create a line following robot using two motors and our light sensor. First, we need to build it! Use your motors to create a robot that can drive. Also, be sure to attach the light sensor somewhere where it can face the ground, so that you'll be able to tell whether or not your robot is on the line! For now, be sure to plug your motors into ports A and B, and your light sensor into port E. Once you've built your robot, you can move on to the next step and test it to see whether it drives."
   ]
  },
  {
   "cell_type": "markdown",
   "id": "0acda1cf",
   "metadata": {},
   "source": [
    "Run the cell below to connect to your hub!"
   ]
  },
  {
   "cell_type": "code",
   "execution_count": 3,
   "id": "684779b7",
   "metadata": {},
   "outputs": [
    {
     "data": {
      "application/vnd.jupyter.widget-view+json": {
       "model_id": "bedad45d4601463d8b1377de8d9a50dc",
       "version_major": 2,
       "version_minor": 0
      },
      "text/plain": [
       "Select(description='Select Port:', options=('/dev/cu.Bluetooth-Incoming-Port', '/dev/cu.LEGOHub30E283048E8E', …"
      ]
     },
     "metadata": {},
     "output_type": "display_data"
    },
    {
     "data": {
      "application/vnd.jupyter.widget-view+json": {
       "model_id": "cc4017c54e1b46bcaeb637c6e20dc67d",
       "version_major": 2,
       "version_minor": 0
      },
      "text/plain": [
       "Output()"
      ]
     },
     "metadata": {},
     "output_type": "display_data"
    }
   ],
   "source": [
    "%run ./module_3_helper_functions.ipynb\n",
    "updatedPortList = search_for_ports()\n",
    "dropdown = widgets.Select(\n",
    "            options=updatedPortList,\n",
    "            description='Select Port:',\n",
    "            disabled=False)\n",
    "output2 = widgets.Output()\n",
    "display(dropdown, output2)\n",
    "dropdown.observe(on_value_change, names='value')"
   ]
  },
  {
   "cell_type": "markdown",
   "id": "32c99869",
   "metadata": {},
   "source": [
    "Now that you're connected to SPIKE Prime, let's try driving your robot! Test out what you built. Try each of the buttons, and make sure your car drives in the correct direction! If not, it may mean your motors are facing a different way. In this case, you can change the direction the motors are moving to be consistent with the way you built it!"
   ]
  },
  {
   "cell_type": "code",
   "execution_count": 6,
   "id": "4bc9e646",
   "metadata": {},
   "outputs": [
    {
     "data": {
      "application/vnd.jupyter.widget-view+json": {
       "model_id": "41c9d5db5d6442fba65384ed5622ae8c",
       "version_major": 2,
       "version_minor": 0
      },
      "text/plain": [
       "Button(description='Forward', style=ButtonStyle())"
      ]
     },
     "metadata": {},
     "output_type": "display_data"
    },
    {
     "data": {
      "application/vnd.jupyter.widget-view+json": {
       "model_id": "f7534899fea641ddb5bfac684540f247",
       "version_major": 2,
       "version_minor": 0
      },
      "text/plain": [
       "Button(description='Backward', style=ButtonStyle())"
      ]
     },
     "metadata": {},
     "output_type": "display_data"
    },
    {
     "data": {
      "application/vnd.jupyter.widget-view+json": {
       "model_id": "717585ec25ef49d59c297694974914eb",
       "version_major": 2,
       "version_minor": 0
      },
      "text/plain": [
       "Button(description='Left', style=ButtonStyle())"
      ]
     },
     "metadata": {},
     "output_type": "display_data"
    },
    {
     "data": {
      "application/vnd.jupyter.widget-view+json": {
       "model_id": "a614643d6a2b4a4d8aca6fa0184659f0",
       "version_major": 2,
       "version_minor": 0
      },
      "text/plain": [
       "Button(description='Right', style=ButtonStyle())"
      ]
     },
     "metadata": {},
     "output_type": "display_data"
    },
    {
     "data": {
      "application/vnd.jupyter.widget-view+json": {
       "model_id": "657c739f3c52402cbc7af39d5dfb90ba",
       "version_major": 2,
       "version_minor": 0
      },
      "text/plain": [
       "Button(description='Stop', style=ButtonStyle())"
      ]
     },
     "metadata": {},
     "output_type": "display_data"
    }
   ],
   "source": [
    "#DRIVE ROBOT\n",
    "\n",
    "from IPython.display import display\n",
    "\n",
    "#FORWARD\n",
    "\n",
    "forward_button = widgets.Button(description=\"Forward\")\n",
    "display(forward_button)\n",
    "\n",
    "def go_forward(b):\n",
    "    forward_motorA = '''hub.port.A.motor.pwm(50)\n",
    "'''\n",
    "    WriteSerial('\\x05')\n",
    "    WriteSerial(forward_motorA)\n",
    "    WriteSerial('\\x04')\n",
    "\n",
    "    forward_motorB = '''hub.port.B.motor.pwm(-50)\n",
    "'''\n",
    "    WriteSerial('\\x05')\n",
    "    WriteSerial(forward_motorB)\n",
    "    WriteSerial('\\x04')\n",
    "\n",
    "forward_button.on_click(go_forward)\n",
    "\n",
    "#BACKWARD\n",
    "backward_button = widgets.Button(description=\"Backward\")\n",
    "display(backward_button)\n",
    "\n",
    "def go_backward(b):\n",
    "    backward_motorA = '''hub.port.A.motor.pwm(-50)\n",
    "'''\n",
    "    WriteSerial('\\x05')\n",
    "    WriteSerial(backward_motorA)\n",
    "    WriteSerial('\\x04')\n",
    "    \n",
    "    backward_motorB = '''hub.port.B.motor.pwm(50)\n",
    "'''\n",
    "    WriteSerial('\\x05')\n",
    "    WriteSerial(backward_motorB)\n",
    "    WriteSerial('\\x04')\n",
    "backward_button.on_click(go_backward)\n",
    "\n",
    "#LEFT\n",
    "left_button = widgets.Button(description=\"Left\")\n",
    "display(left_button)\n",
    "def go_left(b):\n",
    "    left_motorA = '''hub.port.A.motor.pwm(-50)\n",
    "'''\n",
    "    WriteSerial('\\x05')\n",
    "    WriteSerial(left_motorA)\n",
    "    WriteSerial('\\x04')\n",
    "    \n",
    "    left_motorB = '''hub.port.B.motor.pwm(-50)\n",
    "'''\n",
    "    WriteSerial('\\x05')\n",
    "    WriteSerial(left_motorB)\n",
    "    WriteSerial('\\x04')\n",
    "left_button.on_click(go_left)\n",
    "\n",
    "#RIGHT\n",
    "right_button = widgets.Button(description=\"Right\")\n",
    "display(right_button)\n",
    "def go_right(b):\n",
    "    right_motorA = '''hub.port.A.motor.pwm(50)\n",
    "'''\n",
    "    WriteSerial('\\x05')\n",
    "    WriteSerial(right_motorA)\n",
    "    WriteSerial('\\x04')\n",
    "    \n",
    "    right_motorB = '''hub.port.B.motor.pwm(50)\n",
    "'''\n",
    "    WriteSerial('\\x05')\n",
    "    WriteSerial(right_motorB)\n",
    "    WriteSerial('\\x04')\n",
    "right_button.on_click(go_right)\n",
    "\n",
    "\n",
    "#STOP\n",
    "stop_button = widgets.Button(description=\"Stop\")\n",
    "display(stop_button)\n",
    "\n",
    "def stop(b):\n",
    "    stop_motorA = '''hub.port.A.motor.brake()\n",
    "'''\n",
    "    WriteSerial('\\x05')\n",
    "    WriteSerial(stop_motorA)\n",
    "    WriteSerial('\\x04')\n",
    "    \n",
    "    stop_motorB = '''hub.port.B.motor.brake()\n",
    "'''\n",
    "    WriteSerial('\\x05')\n",
    "    WriteSerial(stop_motorB)\n",
    "    WriteSerial('\\x04')\n",
    "\n",
    "\n",
    "stop_button.on_click(stop)"
   ]
  },
  {
   "cell_type": "markdown",
   "id": "303cd954",
   "metadata": {},
   "source": [
    "Once your robot is moving around and following the commands correctly, let's check that the light sensor is working! Press the button below to start getting readings and hold it over different colors to see the different readings you get. \n",
    "<br><br>\n",
    "Specifically, take a look at the differences in readings between your path (dark colored) and your floor (light colored)."
   ]
  },
  {
   "cell_type": "code",
   "execution_count": 45,
   "id": "3aaae88b",
   "metadata": {},
   "outputs": [
    {
     "name": "stdout",
     "output_type": "stream",
     "text": [
      "25\n",
      "25\n",
      "25\n",
      "25\n",
      "25\n",
      "25\n",
      "25\n",
      "25\n",
      "25\n",
      "25\n"
     ]
    }
   ],
   "source": [
    "import time\n",
    "\n",
    "def read():\n",
    "    string=''\n",
    "    fred = '  '\n",
    "    while len(fred):\n",
    "        time.sleep(0.1)\n",
    "        fred = ReadSerial()\n",
    "        string = string+fred\n",
    "    return string\n",
    "    \n",
    "WriteSerial('import hub\\r\\n')\n",
    "WriteSerial('light_sensor = hub.port.E.device\\r\\n')\n",
    "#print(read())\n",
    "for i in range(10):\n",
    "    WriteSerial('print(light_sensor.get()[0])\\r\\n')\n",
    "    print(read().split('\\r\\n')[-2])"
   ]
  },
  {
   "cell_type": "markdown",
   "id": "d72bb889",
   "metadata": {},
   "source": [
    "What do you notice about the readings? Lighter colors result in..."
   ]
  },
  {
   "cell_type": "code",
   "execution_count": 46,
   "id": "4f4483a1",
   "metadata": {},
   "outputs": [
    {
     "data": {
      "application/vnd.jupyter.widget-view+json": {
       "model_id": "678208eaa84f42449c673e215ced1513",
       "version_major": 2,
       "version_minor": 0
      },
      "text/plain": [
       "Button(description='Lower numbers', style=ButtonStyle())"
      ]
     },
     "metadata": {},
     "output_type": "display_data"
    },
    {
     "data": {
      "application/vnd.jupyter.widget-view+json": {
       "model_id": "3f15bffa4089486994bf23c6749f2bf7",
       "version_major": 2,
       "version_minor": 0
      },
      "text/plain": [
       "Button(description='Higher numbers', style=ButtonStyle())"
      ]
     },
     "metadata": {},
     "output_type": "display_data"
    },
    {
     "name": "stdout",
     "output_type": "stream",
     "text": [
      "Correct! This setting of the light sensor measures the intensity of the light. The lighter the color, the lower the number will be.\n",
      "Sorry, that's incorrect! This setting of the light sensor measures the intensity of the light. The darker the color, the higher the number will be.\n"
     ]
    }
   ],
   "source": [
    "#LOWER NUMBERS\n",
    "lower_button = widgets.Button(description=\"Lower numbers\")\n",
    "display(lower_button)\n",
    "\n",
    "higher_button = widgets.Button(description=\"Higher numbers\")\n",
    "display(higher_button)\n",
    "\n",
    "def lower(b):\n",
    "    print(\"Correct! This setting of the light sensor measures the intensity of the light. The lighter the color, the lower the number will be.\")\n",
    "\n",
    "lower_button.on_click(lower)\n",
    "\n",
    "def higher(b):    \n",
    "    print(\"Sorry, that's incorrect! This setting of the light sensor measures the intensity of the light. The darker the color, the higher the number will be.\")\n",
    "\n",
    "higher_button.on_click(higher)"
   ]
  },
  {
   "cell_type": "markdown",
   "id": "1a4bb83d",
   "metadata": {},
   "source": [
    "Now that we have our motors and light sensor working, let's start to code the robot! "
   ]
  },
  {
   "cell_type": "markdown",
   "id": "6a1a3602",
   "metadata": {},
   "source": [
    "To code our line follower, we'll use if statements!\n",
    "<br><br>\n",
    "Remember, our challenge is to create a robot that follows the path of the black line. Specifically, we want to set up the light sensor so that it is directly above the __right__ side of the line, and the robot follows the right edge (not the center!).\n",
    "<br><br>\n",
    "Before we start coding, let's figure out what the pseudocode should say. Use the dropdown below to fill in the if statement!"
   ]
  },
  {
   "cell_type": "code",
   "execution_count": 7,
   "id": "94c0d542",
   "metadata": {},
   "outputs": [
    {
     "name": "stdout",
     "output_type": "stream",
     "text": [
      "If the light sensor returns a high number...\n"
     ]
    },
    {
     "data": {
      "application/vnd.jupyter.widget-view+json": {
       "model_id": "d37310b1873a46f093948c716d8b36eb",
       "version_major": 2,
       "version_minor": 0
      },
      "text/plain": [
       "Dropdown(index=2, options=('Turn Left', 'Turn Right', 'Choose your answer'), value='Choose your answer')"
      ]
     },
     "metadata": {},
     "output_type": "display_data"
    },
    {
     "name": "stdout",
     "output_type": "stream",
     "text": [
      "Else...\n"
     ]
    },
    {
     "data": {
      "application/vnd.jupyter.widget-view+json": {
       "model_id": "54541cb05f654055954a54c030ca666a",
       "version_major": 2,
       "version_minor": 0
      },
      "text/plain": [
       "Dropdown(index=2, options=('Turn Left', 'Turn Right', 'Choose your answer'), value='Choose your answer')"
      ]
     },
     "metadata": {},
     "output_type": "display_data"
    },
    {
     "name": "stdout",
     "output_type": "stream",
     "text": [
      "Try again!\n",
      "Try again!\n",
      "Correct! This means the light sensor sees white, because it's too far to the right of the line.\n",
      "Correct! This means the light sensor sees white, because it's too far to the right of the line.\n",
      "Correct! This means the light sensor sees black, because it's too far to the left of the line.\n",
      "Correct! This means the light sensor sees black, because it's too far to the left of the line.\n"
     ]
    }
   ],
   "source": [
    "#Answer the questions below!\n",
    "import ipywidgets as widgets\n",
    "from ipywidgets import HBox, Label, Layout\n",
    "\n",
    "question_1 = widgets.Dropdown(\n",
    "    options=['Turn Left', 'Turn Right','Choose your answer',],\n",
    "    value='Choose your answer',\n",
    "    description='',\n",
    ")\n",
    "\n",
    "def answer_1(change):\n",
    "    if change['new'] == 'Turn Left':\n",
    "        print(\"Correct! This means the light sensor sees white, because it's too far to the right of the line.\")\n",
    "          \n",
    "    elif change['new'] == 'Turn Right':\n",
    "        print(\"Try again!\")\n",
    "      \n",
    "question_1.observe(answer_1)\n",
    "\n",
    "print(\"If the light sensor returns a high number...\")\n",
    "display(question_1)\n",
    "\n",
    "\n",
    "question_2 = widgets.Dropdown(\n",
    "    options=['Turn Left', 'Turn Right','Choose your answer',],\n",
    "    value='Choose your answer',\n",
    "    description='',\n",
    ")\n",
    "\n",
    "def answer_2(change):\n",
    "    if change['new'] == 'Turn Left':\n",
    "        print(\"Try again!\")\n",
    "          \n",
    "    elif change['new'] == 'Turn Right':\n",
    "        print(\"Correct! This means the light sensor sees black, because it's too far to the left of the line.\")\n",
    "      \n",
    "question_2.observe(answer_2)\n",
    "\n",
    "print(\"Else...\")\n",
    "display(question_2)"
   ]
  },
  {
   "cell_type": "markdown",
   "id": "87f0e8af",
   "metadata": {},
   "source": [
    "Now, let's code the robot! Remember to implement the if statement mentioned above, and place it inside a for loop! You can run the cell below"
   ]
  },
  {
   "cell_type": "code",
   "execution_count": 8,
   "id": "e9740fd4",
   "metadata": {},
   "outputs": [
    {
     "ename": "NameError",
     "evalue": "name 'read' is not defined",
     "output_type": "error",
     "traceback": [
      "\u001b[0;31m---------------------------------------------------------------------------\u001b[0m",
      "\u001b[0;31mNameError\u001b[0m                                 Traceback (most recent call last)",
      "Input \u001b[0;32mIn [8]\u001b[0m, in \u001b[0;36m<cell line: 29>\u001b[0;34m()\u001b[0m\n\u001b[1;32m     29\u001b[0m \u001b[38;5;28;01mfor\u001b[39;00m i \u001b[38;5;129;01min\u001b[39;00m \u001b[38;5;28mrange\u001b[39m(\u001b[38;5;241m10\u001b[39m):\n\u001b[1;32m     30\u001b[0m     WriteSerial(\u001b[38;5;124m'\u001b[39m\u001b[38;5;124mprint(light_sensor.get()[0])\u001b[39m\u001b[38;5;130;01m\\r\u001b[39;00m\u001b[38;5;130;01m\\n\u001b[39;00m\u001b[38;5;124m'\u001b[39m)\n\u001b[0;32m---> 31\u001b[0m     \u001b[38;5;28mprint\u001b[39m(\u001b[43mread\u001b[49m()\u001b[38;5;241m.\u001b[39msplit(\u001b[38;5;124m'\u001b[39m\u001b[38;5;130;01m\\r\u001b[39;00m\u001b[38;5;130;01m\\n\u001b[39;00m\u001b[38;5;124m'\u001b[39m)[\u001b[38;5;241m-\u001b[39m\u001b[38;5;241m2\u001b[39m])\n",
      "\u001b[0;31mNameError\u001b[0m: name 'read' is not defined"
     ]
    }
   ],
   "source": [
    "def drive_left ():\n",
    "    left_motorA = '''hub.port.A.motor.pwm(-20)\n",
    "    hub.port.B.motor.brake()\n",
    "'''\n",
    "    WriteSerial('\\x05')\n",
    "    WriteSerial(left_motorA)\n",
    "    WriteSerial('\\x04')\n",
    "    \n",
    "def drive_right ():\n",
    "    right_motorA = '''hub.port.B.motor.pwm(20)\n",
    "    hub.port.A.motor.brake()\n",
    "'''\n",
    "    WriteSerial('\\x05')\n",
    "    WriteSerial(right_motorA)\n",
    "    WriteSerial('\\x04')\n",
    "\n",
    "def sense_color():\n",
    "    string=''\n",
    "    fred = '  '\n",
    "    while len(fred):\n",
    "        time.sleep(0.1)\n",
    "        fred = ReadSerial()\n",
    "        string = string+fred\n",
    "    return string\n",
    "    \n",
    "WriteSerial('import hub\\r\\n')\n",
    "WriteSerial('light_sensor = hub.port.E.device\\r\\n')\n",
    "#print(read())\n",
    "for i in range(10):\n",
    "    WriteSerial('print(light_sensor.get()[0])\\r\\n')\n",
    "    print(read().split('\\r\\n')[-2])\n",
    "#Adjust sensing code to be continuous"
   ]
  },
  {
   "cell_type": "code",
   "execution_count": null,
   "id": "605c8978",
   "metadata": {},
   "outputs": [],
   "source": [
    "#Write your code here!"
   ]
  },
  {
   "cell_type": "markdown",
   "id": "11267345",
   "metadata": {},
   "source": [
    "Once you've written your code, be sure to test it out and see if the robot can actually follow the path you've set up. If it works, you're ready to move on to the next module!"
   ]
  },
  {
   "cell_type": "code",
   "execution_count": null,
   "id": "eec23587",
   "metadata": {},
   "outputs": [],
   "source": [
    "#Add troubleshooting."
   ]
  },
  {
   "cell_type": "code",
   "execution_count": null,
   "id": "711911cb",
   "metadata": {},
   "outputs": [],
   "source": [
    "#Add in extensions/challenges to color sensor project"
   ]
  }
 ],
 "metadata": {
  "kernelspec": {
   "display_name": "Python 3 (ipykernel)",
   "language": "python",
   "name": "python3"
  },
  "language_info": {
   "codemirror_mode": {
    "name": "ipython",
    "version": 3
   },
   "file_extension": ".py",
   "mimetype": "text/x-python",
   "name": "python",
   "nbconvert_exporter": "python",
   "pygments_lexer": "ipython3",
   "version": "3.9.1"
  }
 },
 "nbformat": 4,
 "nbformat_minor": 5
}
