{
 "cells": [
  {
   "cell_type": "markdown",
   "id": "52a7cd76",
   "metadata": {},
   "source": [
    "# Module 3.3: Programming the Ride Using For-Loops and While-Loops"
   ]
  },
  {
   "cell_type": "markdown",
   "id": "d03c14c8",
   "metadata": {},
   "source": [
    "In this section, we will learn about and utilize loops to program the ride. Just like in module 2.3, you will need to edit and write code directly in the notebook's cells -- if you would like to show or hide a cell, double click the space to it's left; to edit a cell, simply double click it. "
   ]
  },
  {
   "cell_type": "markdown",
   "id": "0ad9fe48",
   "metadata": {},
   "source": [
    "Run the following code and connect to your SPIKE hub. You still do not need to modify it or understand how it works."
   ]
  },
  {
   "cell_type": "code",
   "execution_count": null,
   "id": "ffa7c511",
   "metadata": {},
   "outputs": [],
   "source": [
    "%run ./module_3_helper_functions.ipynb\n",
    "updatedPortList = search_for_ports()\n",
    "dropdown = widgets.Select(\n",
    "            options=updatedPortList,\n",
    "            description='Select Port:',\n",
    "            disabled=False)\n",
    "output2 = widgets.Output()\n",
    "display(dropdown, output2)\n",
    "dropdown.observe(on_value_change, names='value')"
   ]
  },
  {
   "cell_type": "markdown",
   "id": "c51bee81",
   "metadata": {},
   "source": [
    "Run the cell to load the motion function that will allow us to control your SPIKE hub. The move function turns a motor for a specified number of rotations, taking the port letter, number of motor rotations, and speed (between -100 and 100) as parameters. For example, *move ('A', 0.5, 15)* would rotate the motor at port A by half a rotation at a speed of 15."
   ]
  },
  {
   "cell_type": "code",
   "execution_count": null,
   "id": "3b4c4b43",
   "metadata": {},
   "outputs": [],
   "source": [
    "def move(port,rotations,speed):\n",
    "    moveCode = \"\"\"hub.port.\"\"\"+str(port)+\"\"\".motor.run_for_degrees(\"\"\"+str(360*rotations)+\"\"\", \"\"\"+str(speed)+\"\"\")\"\"\"\n",
    "    WriteSerial('\\x05')\n",
    "    WriteSerial(moveCode)\n",
    "    WriteSerial('\\x04')"
   ]
  },
  {
   "cell_type": "markdown",
   "id": "4dcaeb70",
   "metadata": {},
   "source": [
    "In the cell below, use move statements to control both of your motors. If you would like your program to wait at any point, use time.sleep(*seconds*)"
   ]
  },
  {
   "cell_type": "code",
   "execution_count": null,
   "id": "62d338db",
   "metadata": {},
   "outputs": [],
   "source": [
    "# write and run your code here!"
   ]
  },
  {
   "cell_type": "markdown",
   "id": "1c325d96",
   "metadata": {},
   "source": [
    "What if we want the ride to operate multiple times in a row? If this is the case, we need to use loops. A for loop iterates through a list and calls a set of statements multiple times. The code snippets below are examples of for loops. Can you modify the second snippet to print the numbers 0-5? Can you modify it to print the name of each fruit five times?"
   ]
  },
  {
   "cell_type": "code",
   "execution_count": null,
   "id": "160a2d1b",
   "metadata": {},
   "outputs": [],
   "source": [
    "for fruit in [\"apple\", \"banana\", \"strawberry\"]:\n",
    "    print(fruit)"
   ]
  },
  {
   "cell_type": "code",
   "execution_count": null,
   "id": "1990d69d",
   "metadata": {},
   "outputs": [],
   "source": [
    "for i in range (5):\n",
    "    print(\"apple\")"
   ]
  },
  {
   "cell_type": "markdown",
   "id": "a4bca979",
   "metadata": {},
   "source": [
    "Use a for loop to code your ride to repeat a set of movements."
   ]
  },
  {
   "cell_type": "code",
   "execution_count": null,
   "id": "bf3e60bd",
   "metadata": {},
   "outputs": [],
   "source": [
    "# write and run your code here!"
   ]
  },
  {
   "cell_type": "markdown",
   "id": "8c368ebf",
   "metadata": {},
   "source": [
    "Another type of loop that we can use while programming the ride is called a while loop. Instead of iterating through a list, a while loop repeats while a certain condition is true. Once the condition is false, the lines of code outside of the loop will run. Adapt the code below to be more efficient by removing the variable sunny -- instead, run the loop based on how many days have passed. "
   ]
  },
  {
   "cell_type": "code",
   "execution_count": null,
   "id": "cbe074a9",
   "metadata": {},
   "outputs": [],
   "source": [
    "numberOfDays = 0\n",
    "sunny = True\n",
    "while(sunny):\n",
    "    print (\"Day \"+str(numberOfDays)+\": sunny\")\n",
    "    numberOfDays += 1 # increase numberOfDays by one\n",
    "    if(numberOfDays>7):\n",
    "        sunny = False\n",
    "print(\"It is no longer sunny\")"
   ]
  },
  {
   "cell_type": "markdown",
   "id": "24f22a9a",
   "metadata": {},
   "source": [
    "Use a while loop to program your ride to repeat its set of movements at an increasing speed until the speed reaches a certain threshold.   "
   ]
  },
  {
   "cell_type": "code",
   "execution_count": null,
   "id": "a210a195",
   "metadata": {},
   "outputs": [],
   "source": [
    "# write and run your code here!"
   ]
  },
  {
   "cell_type": "markdown",
   "id": "3c750acd",
   "metadata": {},
   "source": [
    "Combining your knowledge about loops with anything you have learned in past modules, program your amusement park ride."
   ]
  },
  {
   "cell_type": "code",
   "execution_count": null,
   "id": "7c5e846c",
   "metadata": {},
   "outputs": [],
   "source": [
    "# write and run your code here!"
   ]
  },
  {
   "cell_type": "markdown",
   "id": "be43a17b",
   "metadata": {},
   "source": [
    "Once you feel that running the code controls your ride as you would like it to, you are ready to move on to the next section to incorperate the light sensor in the next section."
   ]
  }
 ],
 "metadata": {
  "kernelspec": {
   "display_name": "Python 3 (ipykernel)",
   "language": "python",
   "name": "python3"
  },
  "language_info": {
   "codemirror_mode": {
    "name": "ipython",
    "version": 3
   },
   "file_extension": ".py",
   "mimetype": "text/x-python",
   "name": "python",
   "nbconvert_exporter": "python",
   "pygments_lexer": "ipython3",
   "version": "3.9.1"
  }
 },
 "nbformat": 4,
 "nbformat_minor": 5
}
