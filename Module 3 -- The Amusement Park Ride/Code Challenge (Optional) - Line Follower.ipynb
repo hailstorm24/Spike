{
 "cells": [
  {
   "cell_type": "markdown",
   "id": "440a437e",
   "metadata": {},
   "source": [
    "# Module 3 Code Challenge (Optional): Creating a Line-Following Robot"
   ]
  },
  {
   "cell_type": "markdown",
   "id": "c2049abc",
   "metadata": {},
   "source": [
    "### The Objective: Construct and Code a Robot that will Follow a Line"
   ]
  },
  {
   "cell_type": "markdown",
   "id": "bb15843b",
   "metadata": {},
   "source": [
    "#### Step One: Create the Line\n",
    "Create a path for the robot using two distinct colors of tape on solid colored surface (such as a floor or table). Include several turns, so that you can effectively test the line-following capabilities of your robot. It will make your life easier to make the path loop back to the starting point."
   ]
  },
  {
   "cell_type": "markdown",
   "id": "29f0bd4c",
   "metadata": {},
   "source": [
    "#### Step Two: Construct the Robot\n",
    "\n",
    "Some specifications:\n",
    "* Your robot must use exactly two motors\n",
    "* Your robot needs to be able to move forward, turn left, and turn right\n",
    "* Your robot must include a light sensor. The sensor should be securly attatched to the front of the robot, centered and as close to the ground as posssible without touching.\n",
    "\n",
    "You may plug the motors into ports A and B use the code below to test your robot. "
   ]
  },
  {
   "cell_type": "code",
   "execution_count": 11,
   "id": "568620da",
   "metadata": {},
   "outputs": [
    {
     "data": {
      "application/vnd.jupyter.widget-view+json": {
       "model_id": "ddbfca08171146418b45c729e0faa479",
       "version_major": 2,
       "version_minor": 0
      },
      "text/plain": [
       "Select(description='Select Port:', options=('/dev/cu.Bluetooth-Incoming-Port', '/dev/cu.LEGOHub30E283048E8E', …"
      ]
     },
     "metadata": {},
     "output_type": "display_data"
    },
    {
     "data": {
      "application/vnd.jupyter.widget-view+json": {
       "model_id": "d6bd0964c6e74fbcbfb74b5f229e9988",
       "version_major": 2,
       "version_minor": 0
      },
      "text/plain": [
       "Output()"
      ]
     },
     "metadata": {},
     "output_type": "display_data"
    },
    {
     "data": {
      "application/vnd.jupyter.widget-view+json": {
       "model_id": "9a9821cc59a5444ab01a8492af775a12",
       "version_major": 2,
       "version_minor": 0
      },
      "text/plain": [
       "VBox(children=(HBox(children=(Button(icon='arrow-up', layout=Layout(height='40px', margin='0px 0px 0px 0px', p…"
      ]
     },
     "metadata": {},
     "output_type": "display_data"
    }
   ],
   "source": [
    "%run ./module_3_helper_functions.ipynb\n",
    "updatedPortList = search_for_ports()\n",
    "dropdown = widgets.Select(\n",
    "            options=updatedPortList,\n",
    "            description='Select Port:',\n",
    "            disabled=False)\n",
    "output2 = widgets.Output()\n",
    "display(dropdown, output2)\n",
    "dropdown.observe(on_value_change2, names='value')\n",
    "testRobot()"
   ]
  },
  {
   "cell_type": "markdown",
   "id": "1be6ab5b",
   "metadata": {},
   "source": [
    "#### Step Three: Code the Robot"
   ]
  },
  {
   "cell_type": "markdown",
   "id": "f34eb602",
   "metadata": {},
   "source": [
    "Load the functions that you may need in programming your line-follower. These include:\n",
    "* move(port,speed) -- takes the port letter (ex. 'A') and speed (between -100 and 100) as parameters and sets the motor to turn accordingly.\n",
    "* read() -- takes no parameters, returns the input from the serial port as a string. \n",
    "* setupLightSensor(port) -- takes the port letter (ex. 'A') as a parameter and connects to the sensor. It must be run before calling any function to get light sensor data.\n",
    "* color(num) -- takes an integer as a parameter (2 for red, 3 for blue, 4 for green) and returns the intensity of the corresponding color (between 0 and 1024)\n",
    "* getColors() -- returns red green and blue intensity values (between 0 and 1024) as a tuple\n",
    "* getRGB() -- returns RGB values (between 0 and 255) as a tuple\n",
    "* printColor(rgb) -- takes an array of integers as a parameter and prints the hex value as well as a swatch of the corresponding color."
   ]
  },
  {
   "cell_type": "code",
   "execution_count": 12,
   "id": "3aaae88b",
   "metadata": {},
   "outputs": [],
   "source": [
    "from IPython.display import Markdown\n",
    "def move(port,speed):\n",
    "    moveCode = \"\"\"hub.port.\"\"\"+str(port)+\"\"\".motor.pwm(\"\"\"+str(speed)+\"\"\")\"\"\"\n",
    "    WriteSerial('\\x05')\n",
    "    WriteSerial(moveCode)\n",
    "    WriteSerial('\\x04')\n",
    "\n",
    "def read():\n",
    "    string1=''\n",
    "    string2 = '  '\n",
    "    while len(string2):\n",
    "        time.sleep(0.1)\n",
    "        string2 = ReadSerial()\n",
    "        string1 = string1+string2\n",
    "    return string1\n",
    "\n",
    "def setupLightSensor(port):\n",
    "    WriteSerial('import hub\\r\\n')\n",
    "    WriteSerial('light_sensor = hub.port.'+str(port)+'.device\\r\\n')\n",
    "\n",
    "def color(num):\n",
    "    WriteSerial('print(light_sensor.get()['+str(num)+'])\\r\\n')\n",
    "    return(int(read().split('\\r\\n')[-2]))\n",
    "\n",
    "def getColors():\n",
    "    return ((color(2),color(3),color(4)))\n",
    "\n",
    "def getRGB():\n",
    "    return(int(color(2)/1024*255),int(color(3)/1024*255),int(color(4)/1024*255))\n",
    "\n",
    "def printColor(rgb):\n",
    "    colors = [\"#\"+('%02x%02x%02x' %(rgb[0],rgb[1],rgb[2]))]\n",
    "    display(Markdown('<br>'.join(\n",
    "        f'<span style=\"font-family: monospace\">{color} <span style=\"color: {color}\">████████</span></span>'\n",
    "        for color in colors\n",
    "    )))"
   ]
  },
  {
   "cell_type": "markdown",
   "id": "1a4bb83d",
   "metadata": {},
   "source": [
    "Using the cell below, program your robot to follow the path. Consider: What will prompt your robot to turn left? To turn right? To move forward?"
   ]
  },
  {
   "cell_type": "code",
   "execution_count": 13,
   "id": "a82d2064",
   "metadata": {},
   "outputs": [],
   "source": [
    "setupLightSensor('F')\n",
    "for i in range(20):\n",
    "    r=getRGB()[0]\n",
    "    b=getRGB()[2]\n",
    "    if (r>b):\n",
    "        move('A', 30)\n",
    "        move('B', -20)\n",
    "\n",
    "    if(b>r):\n",
    "        move('B', -30)\n",
    "        move('A', 20)\n"
   ]
  },
  {
   "cell_type": "code",
   "execution_count": null,
   "id": "e0d0cca9",
   "metadata": {},
   "outputs": [],
   "source": [
    "print(getRGB()[2])"
   ]
  },
  {
   "cell_type": "code",
   "execution_count": null,
   "id": "32f6ccdf",
   "metadata": {},
   "outputs": [],
   "source": [
    "print(getRGB()[0])"
   ]
  },
  {
   "cell_type": "code",
   "execution_count": null,
   "id": "9e0f1eb1",
   "metadata": {},
   "outputs": [],
   "source": []
  }
 ],
 "metadata": {
  "kernelspec": {
   "display_name": "Python 3 (ipykernel)",
   "language": "python",
   "name": "python3"
  },
  "language_info": {
   "codemirror_mode": {
    "name": "ipython",
    "version": 3
   },
   "file_extension": ".py",
   "mimetype": "text/x-python",
   "name": "python",
   "nbconvert_exporter": "python",
   "pygments_lexer": "ipython3",
   "version": "3.9.1"
  }
 },
 "nbformat": 4,
 "nbformat_minor": 5
}
