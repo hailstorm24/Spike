{
 "cells": [
  {
   "cell_type": "markdown",
   "id": "a3bfe698",
   "metadata": {},
   "source": [
    "# Table of Contents:"
   ]
  },
  {
   "cell_type": "markdown",
   "id": "4cf30883",
   "metadata": {},
   "source": [
    "### [Module 0 -- Introductions (optional)](./Module%200%20--%20Introduction%20(optional))\n",
    "> [Module 0A - Intro to the Modules](./Module%200%20--%20Introduction%20(optional)/0A%20-%20Intro%20to%20the%20Modules.ipynb)\n",
    "\n",
    "> [Module 0B - Intro to the SPIKE Kit](./Module%200%20--%20Introduction%20(optional)/0B%20-%20Intro%20to%20the%20Spike%20Kit.ipynb)\n",
    "\n",
    "### [Module 1 -- The Bicycle](./Module%201%20--%20The%20Bicycle)\n",
    "> [Module 1.1 - Connecting to Spike Prime](./Module%201%20--%20The%20Bicycle/1.1%20-%20Connecting%20to%20Spike%20Prime.ipynb)\n",
    "\n",
    "> [Module 1.2 - Building the Bicycle](./Module%201%20--%20The%20Bicycle/1.2%20-%20Building%20the%20Bicycle.ipynb)\n",
    "\n",
    "> [Module 1.3 - Gearing the Bicycle](./Module%201%20--%20The%20Bicycle/1.3%20-%20Gearing%20the%20Bicycle.ipynb)\n",
    "\n",
    "> [Module 1.4 - Customizing the Bicycle](./Module%201%20--%20The%20Bicycle/1.4%20-%20Customizing%20the%20Bicycle.ipynb)\n",
    "\n",
    "> [Build Challenge (Optional) - LEGO Table Saw](./Module%201%20--%20The%20Bicycle/Build%20Challenge%20(Optional)%20-%20LEGO%20Table%20Saw.ipynb)\n",
    "\n",
    "### [Module 2 -- The Elevator](./Module%202%20--%20The%20Elevator)\n",
    "> [Module 2.1 - Converting Rotational Motion to Linear Motion](./Module%202%20--%20The%20Elevator/2.1%20-%20Converting%20Rotational%20Motion%20to%20Linear%20Motion.ipynb)\n",
    "\n",
    "> [Module 2.2 - Designing an Elevator](./Module%202%20--%20The%20Elevator/2.2%20-%20Designing%20an%20Elevator.ipynb)\n",
    "\n",
    "> [Module 2.3 - Coding the Elevator Using Variables and Conditionals](./Module%202%20--%20The%20Elevator/2.3%20-%20Coding%20the%20Elevator%20Using%20Variables%20and%20Conditionals.ipynb)\n",
    "\n",
    "> [Module 2.4 - Customizing the Elevator.ipynb](./Module%202%20--%20The%20Elevator/2.4%20-%20Customizing%20the%20Elevator.ipynb)\n",
    "\n",
    "### [Module 3 -- The Amusement Park Ride](./Module%203%20--%20The%20Amusement%20Park%20Ride)\n",
    "> [Module 3.1 - Using a Light Sensor](./Module%203%20--%20The%20Amusement%20Park%20Ride/3.1%20-%20Using%20a%20Light%20Sensor.ipynb)\n",
    "\n",
    "> [Module 3.2 - Designing an Amusement Park Ride](./Module%203%20--%20The%20Amusement%20Park%20Ride/3.2%20-%20Designing%20an%20Amusement%20Park%20Ride.ipynb)\n",
    "\n",
    "> [Module 3.3 - Programming the Ride Using For-Loops and While-Loops](./Module%203%20--%20The%20Amusement%20Park%20Ride/3.3%20-%20Programming%20the%20Ride%20Using%20For-Loops%20and%20While-Loops.ipynb)\n",
    "\n",
    "> [Module 3.4 - Incorporating the Color Sensor](./Module%203%20--%20The%20Amusement%20Park%20Ride/3.4%20-%20Incorporating%20the%20Color%20Sensor.ipynb)\n",
    "\n",
    "> [Module Code Challenge (Optional) - Line Follower](./Module%203%20--%20The%20Amusement%20Park%20Ride/Code%20Challenge%20(Optional)%20-%20Line%20Follower.ipynb)\n",
    "\n",
    "\n",
    "### [Module 4 -- The Drawing Machine](./Module%204%20--%20The%20Drawing%20Machine)\n",
    "> [Module 4.1 - Constructing Linkages](./Module%204%20--%20The%20Drawing%20Machine/4.1%20-%20Constructing%20Linkages.ipynb)\n",
    "\n",
    "> [Module 4.2 - Constructing a Drawing Machine](./Module%204%20--%20The%20Drawing%20Machine/4.2%20-%20Constructing%20a%20Drawing%20Machine.ipynb)\n",
    "\n",
    "> [Module 4.3 - Programming the Drawing Machine Using Functions](./Module%204%20--%20The%20Drawing%20Machine/4.3%20-%20Programming%20the%20Drawing%20Machine%20Using%20Functions.ipynb)\n",
    "\n",
    "> [Module 4.4 - Customizing the Drawing Machine](./Module%204%20--%20The%20Drawing%20Machine/4.4%20-%20Customizing%20the%20Drawing%20Machine.ipynb)\n",
    "\n",
    "### [Module 5 -- The Self-Balancing Robot](./Module%205%20--%20The%20Self-Balancing%20Robot)\n",
    "\n",
    "### [Module 6 -- The Rubix Cube Solver](./Module%206%20--%20The%20Rubix%20Cube%20Solver)\n",
    "> [Module 6.1 - Solving a Rubix Cube.ipynb](./Module%206%20--%20The%20Rubix%20Cube%20Solver/6.1%20-%20Solving%20a%20Rubix%20Cube.ipynb)\n",
    "\n",
    "> [Module 6.2 - Constructing the Rubix Cube Solver.ipynb](./Module%206%20--%20The%20Rubix%20Cube%20Solver/6.2%20-%20Constructing%20the%20Rubix%20Cube%20Solver.ipynb)\n",
    "\n",
    "> [Module 6.3 - Programming the Rubix Cube Solver.ipynb](./Module%206%20--%20The%20Rubix%20Cube%20Solver/6.3%20-%20Programming%20the%20Rubix%20Cube%20Solver.ipynb)\n",
    "\n",
    "> [Module 6.4 - Adding the Light Sensor.ipynb](./Module%206%20--%20The%20Rubix%20Cube%20Solver/6.4%20-%20Adding%20the%20Light%20Sensor.ipynb)"
   ]
  }
 ],
 "metadata": {
  "kernelspec": {
   "display_name": "Python 3 (ipykernel)",
   "language": "python",
   "name": "python3"
  },
  "language_info": {
   "codemirror_mode": {
    "name": "ipython",
    "version": 3
   },
   "file_extension": ".py",
   "mimetype": "text/x-python",
   "name": "python",
   "nbconvert_exporter": "python",
   "pygments_lexer": "ipython3",
   "version": "3.9.1"
  }
 },
 "nbformat": 4,
 "nbformat_minor": 5
}
