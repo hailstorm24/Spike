{
 "cells": [
  {
   "cell_type": "markdown",
   "id": "39990ea3",
   "metadata": {},
   "source": [
    "# SPIKE Prime Playground\n",
    "\n",
    "This notebook contains all of the SPIKE functions used throughout the modules. It can be used to program the projects outlined in the modules, but is also meant to enable you to program your own projects using the python functions you are already familiar with. "
   ]
  },
  {
   "cell_type": "code",
   "execution_count": 7,
   "id": "4996b0be",
   "metadata": {},
   "outputs": [
    {
     "data": {
      "application/vnd.jupyter.widget-view+json": {
       "model_id": "0e0b7e46227943aba2f09e48722d577b",
       "version_major": 2,
       "version_minor": 0
      },
      "text/plain": [
       "Select(description='Select Port:', options=('/dev/cu.Bluetooth-Incoming-Port', '/dev/cu.LEGOHubHub'), value='/…"
      ]
     },
     "metadata": {},
     "output_type": "display_data"
    },
    {
     "data": {
      "application/vnd.jupyter.widget-view+json": {
       "model_id": "84d5ed6c372a4387aa848fae87c8a444",
       "version_major": 2,
       "version_minor": 0
      },
      "text/plain": [
       "Output()"
      ]
     },
     "metadata": {},
     "output_type": "display_data"
    }
   ],
   "source": [
    "%run ./playground_helper_functions.ipynb\n",
    "\n",
    "updatedPortList = search_for_ports()\n",
    "dropdown = widgets.Select(\n",
    "            options=updatedPortList,\n",
    "            description='Select Port:',\n",
    "            disabled=False)\n",
    "output2 = widgets.Output()\n",
    "display(dropdown, output2)\n",
    "dropdown.observe(on_value_change, names='value')"
   ]
  },
  {
   "cell_type": "markdown",
   "id": "156ad3a1",
   "metadata": {},
   "source": [
    "Functions Available:\n",
    "* move(port,rotations,speed) -- takes the port letter (ex. 'A'), number of motor rotations, and speed (between -100 and 100) as parameters and turns the motor accordingly.\n",
    "* setupColorSensor(port) -- takes the port letter (ex. 'A') as a parameter and connects to the sensor. It must be run before calling any function to get color sensor data.\n",
    "* setupForceSensor(port) -- takes the port letter (ex. 'A') as a parameter and connects to the sensor. It also must be run before calling any function to get force sensor data.\n",
    "* setupDistanceSensor(port) -- takes the port letter (ex. 'A') as a parameter and connects to the sensor. Again, it must be run before calling any function to get distance sensor data.\n",
    "* getDistance() -- returns the distance measured as an integer.\n",
    "* getForce() -- returns the force measured as an integer.\n",
    "* getRGB() -- returns RGB values (between 0 and 255) as a tuple.\n",
    "* printColor(rgb) -- takes an array of integers as a parameter and prints the hex value as well as a swatch of the corresponding color.\n",
    "* showPixel(x,y) -- takes the x and y values of a pixel and lights the corresponding pixel on the hub.\n",
    "* clearDisplay() -- turns off all pixels on the hub.\n",
    "* buttonPressed(buttonType) -- takes the button (\"left\" or \"right\") as a parameter and returns true/false depending on whether or not the button has been pressed recently.\n",
    "* getGyroData() -- returns list of values for the hub's rotational velocities along the x, y, and z axes.\n",
    "* beep(frequency, length) -- takes a frequency and length in seconds as parameters and plays the corresponding tone."
   ]
  },
  {
   "cell_type": "code",
   "execution_count": 8,
   "id": "63a8caa5",
   "metadata": {},
   "outputs": [],
   "source": [
    "## Add your own code here!"
   ]
  }
 ],
 "metadata": {
  "kernelspec": {
   "display_name": "Python 3 (ipykernel)",
   "language": "python",
   "name": "python3"
  },
  "language_info": {
   "codemirror_mode": {
    "name": "ipython",
    "version": 3
   },
   "file_extension": ".py",
   "mimetype": "text/x-python",
   "name": "python",
   "nbconvert_exporter": "python",
   "pygments_lexer": "ipython3",
   "version": "3.9.1"
  }
 },
 "nbformat": 4,
 "nbformat_minor": 5
}
