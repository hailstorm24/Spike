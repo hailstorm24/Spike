{
 "cells": [
  {
   "cell_type": "markdown",
   "id": "c44b831b",
   "metadata": {},
   "source": [
    "# Module 1.4: Customizing the Bicycle:"
   ]
  },
  {
   "cell_type": "markdown",
   "id": "d43656c6",
   "metadata": {},
   "source": [
    "## Adding a Unique Element to the Bicycle:\n",
    "\n",
    "Now, it is time for you to add your own mechanism! The only requirements are that your bicycle must still be able to move, and that your addition involves another motor: the finished product should be able to be controlled using two motors. Choose from the list of ideas below or come up with your own idea entirely!\n",
    "\n",
    "Some possible ideas include: \n",
    "* A steering system so that the bicycle can turn\n",
    "* A person that rides the bicycle\n",
    "* A way for the bicycle to balance on only two wheels"
   ]
  },
  {
   "cell_type": "markdown",
   "id": "dedb34f7",
   "metadata": {},
   "source": [
    "## Programming the Bicycle:\n",
    "\n",
    "#### Connecting to Spike:\n",
    "Run the code to search for serial ports and select your hub."
   ]
  },
  {
   "cell_type": "code",
   "execution_count": 3,
   "id": "7f13f601",
   "metadata": {
    "scrolled": true
   },
   "outputs": [
    {
     "data": {
      "application/vnd.jupyter.widget-view+json": {
       "model_id": "b209ee118608414fbb444ba829dc7e9e",
       "version_major": 2,
       "version_minor": 0
      },
      "text/plain": [
       "Select(description='Select Port:', options=('/dev/cu.Bluetooth-Incoming-Port', '/dev/cu.LEGOHub30E283048E8E', …"
      ]
     },
     "metadata": {},
     "output_type": "display_data"
    },
    {
     "data": {
      "application/vnd.jupyter.widget-view+json": {
       "model_id": "35a9e76eda434e1886b384116dcbff65",
       "version_major": 2,
       "version_minor": 0
      },
      "text/plain": [
       "Output()"
      ]
     },
     "metadata": {},
     "output_type": "display_data"
    }
   ],
   "source": [
    "%run ./module_1_helper_functions.ipynb\n",
    "\n",
    "updatedPortList = search_for_ports()\n",
    "dropdown = widgets.Select(\n",
    "            options=updatedPortList,\n",
    "            description='Select Port:',\n",
    "            disabled=False)\n",
    "output2 = widgets.Output()\n",
    "display(dropdown, output2)\n",
    "dropdown.observe(on_value_change2, names='value')"
   ]
  },
  {
   "cell_type": "markdown",
   "id": "60b2685a",
   "metadata": {},
   "source": [
    "#### Using the functions below, code each of the buttons to control your bicycle:\n",
    "* move(*motor port*,*speed from -100 to 100*)\n",
    "* stop(*motor port*)\n",
    "* delay(*seconds*)\n",
    "\n",
    "Run the cell below and code in the spaces that appear."
   ]
  },
  {
   "cell_type": "code",
   "execution_count": 4,
   "id": "052ebee8",
   "metadata": {
    "scrolled": false
   },
   "outputs": [
    {
     "data": {
      "application/vnd.jupyter.widget-view+json": {
       "model_id": "61bc5b4c063a46c28d37ae8a643ce55d",
       "version_major": 2,
       "version_minor": 0
      },
      "text/plain": [
       "Textarea(value='Code Button #1 here')"
      ]
     },
     "metadata": {},
     "output_type": "display_data"
    },
    {
     "data": {
      "application/vnd.jupyter.widget-view+json": {
       "model_id": "c5858cdecacf485fbea9a75f24914fd2",
       "version_major": 2,
       "version_minor": 0
      },
      "text/plain": [
       "Button(button_style='success', description='Update Button #1', style=ButtonStyle(), tooltip='Click me')"
      ]
     },
     "metadata": {},
     "output_type": "display_data"
    },
    {
     "data": {
      "application/vnd.jupyter.widget-view+json": {
       "model_id": "9ddd3d755eb64ce592c5bd4b2b6b135b",
       "version_major": 2,
       "version_minor": 0
      },
      "text/plain": [
       "Output()"
      ]
     },
     "metadata": {},
     "output_type": "display_data"
    },
    {
     "data": {
      "application/vnd.jupyter.widget-view+json": {
       "model_id": "613c02ce7d414180893ae83ecbfa0578",
       "version_major": 2,
       "version_minor": 0
      },
      "text/plain": [
       "Textarea(value='Code Button #2 here')"
      ]
     },
     "metadata": {},
     "output_type": "display_data"
    },
    {
     "data": {
      "application/vnd.jupyter.widget-view+json": {
       "model_id": "12f6e82341534b768a2dc3cf91d75262",
       "version_major": 2,
       "version_minor": 0
      },
      "text/plain": [
       "Button(button_style='success', description='Update Button #2', style=ButtonStyle(), tooltip='Click me')"
      ]
     },
     "metadata": {},
     "output_type": "display_data"
    },
    {
     "data": {
      "application/vnd.jupyter.widget-view+json": {
       "model_id": "08e605d59d864d83a07a97908e887ee5",
       "version_major": 2,
       "version_minor": 0
      },
      "text/plain": [
       "Output()"
      ]
     },
     "metadata": {},
     "output_type": "display_data"
    },
    {
     "data": {
      "application/vnd.jupyter.widget-view+json": {
       "model_id": "572b54c80c3f41c4a6474d2d41a80322",
       "version_major": 2,
       "version_minor": 0
      },
      "text/plain": [
       "Textarea(value='Code Button #3 here')"
      ]
     },
     "metadata": {},
     "output_type": "display_data"
    },
    {
     "data": {
      "application/vnd.jupyter.widget-view+json": {
       "model_id": "5dc3df4ed2d64f39aa9b8ddbc91ba2b0",
       "version_major": 2,
       "version_minor": 0
      },
      "text/plain": [
       "Button(button_style='success', description='Update Button #3', style=ButtonStyle(), tooltip='Click me')"
      ]
     },
     "metadata": {},
     "output_type": "display_data"
    },
    {
     "data": {
      "application/vnd.jupyter.widget-view+json": {
       "model_id": "41ff930c9ef74290af1f142d583a0e66",
       "version_major": 2,
       "version_minor": 0
      },
      "text/plain": [
       "Output()"
      ]
     },
     "metadata": {},
     "output_type": "display_data"
    },
    {
     "data": {
      "application/vnd.jupyter.widget-view+json": {
       "model_id": "77dee32b3a9b48f29f785e05029bb0d9",
       "version_major": 2,
       "version_minor": 0
      },
      "text/plain": [
       "Textarea(value='Code Button #4 here')"
      ]
     },
     "metadata": {},
     "output_type": "display_data"
    },
    {
     "data": {
      "application/vnd.jupyter.widget-view+json": {
       "model_id": "7965eb01cdd94e71a0cdbd06d93dadac",
       "version_major": 2,
       "version_minor": 0
      },
      "text/plain": [
       "Button(button_style='success', description='Update Button #4', style=ButtonStyle(), tooltip='Click me')"
      ]
     },
     "metadata": {},
     "output_type": "display_data"
    },
    {
     "data": {
      "application/vnd.jupyter.widget-view+json": {
       "model_id": "cadd554b050f4fbcba6a4b6e4e8bdbf4",
       "version_major": 2,
       "version_minor": 0
      },
      "text/plain": [
       "Output()"
      ]
     },
     "metadata": {},
     "output_type": "display_data"
    },
    {
     "data": {
      "application/vnd.jupyter.widget-view+json": {
       "model_id": "e8443e906caa45f0895dbf5cf7bbece8",
       "version_major": 2,
       "version_minor": 0
      },
      "text/plain": [
       "Textarea(value='Code Button #5 here')"
      ]
     },
     "metadata": {},
     "output_type": "display_data"
    },
    {
     "data": {
      "application/vnd.jupyter.widget-view+json": {
       "model_id": "ff96f41dc5434fe89fc7b8d63bbc37c5",
       "version_major": 2,
       "version_minor": 0
      },
      "text/plain": [
       "Button(button_style='success', description='Update Button #5', style=ButtonStyle(), tooltip='Click me')"
      ]
     },
     "metadata": {},
     "output_type": "display_data"
    },
    {
     "data": {
      "application/vnd.jupyter.widget-view+json": {
       "model_id": "c5437217ecfe47e782a2126d5e6dc45f",
       "version_major": 2,
       "version_minor": 0
      },
      "text/plain": [
       "Output()"
      ]
     },
     "metadata": {},
     "output_type": "display_data"
    },
    {
     "data": {
      "application/vnd.jupyter.widget-view+json": {
       "model_id": "08a943890298401b9ba4d37b65834051",
       "version_major": 2,
       "version_minor": 0
      },
      "text/plain": [
       "Textarea(value='Code Button #6 here')"
      ]
     },
     "metadata": {},
     "output_type": "display_data"
    },
    {
     "data": {
      "application/vnd.jupyter.widget-view+json": {
       "model_id": "9d5121a5701f47d69737744bbfb3dc18",
       "version_major": 2,
       "version_minor": 0
      },
      "text/plain": [
       "Button(button_style='success', description='Update Button #6', style=ButtonStyle(), tooltip='Click me')"
      ]
     },
     "metadata": {},
     "output_type": "display_data"
    },
    {
     "data": {
      "application/vnd.jupyter.widget-view+json": {
       "model_id": "451f482847134a688efeecef21a73ffe",
       "version_major": 2,
       "version_minor": 0
      },
      "text/plain": [
       "Output()"
      ]
     },
     "metadata": {},
     "output_type": "display_data"
    },
    {
     "name": "stdout",
     "output_type": "stream",
     "text": [
      "Error: line 1, '1' is not a valid port\n"
     ]
    }
   ],
   "source": [
    "%run ./module_1_helper_functions.ipynb\n",
    "code_bicycle_buttons()"
   ]
  },
  {
   "cell_type": "markdown",
   "id": "7122fee6",
   "metadata": {},
   "source": [
    "#### Use the buttons that you've programmed to control your bicycle\n",
    "\n",
    "Run the code below for the buttons to appear."
   ]
  },
  {
   "cell_type": "code",
   "execution_count": 6,
   "id": "8dbc8a6a",
   "metadata": {
    "scrolled": false
   },
   "outputs": [
    {
     "data": {
      "application/vnd.jupyter.widget-view+json": {
       "model_id": "e9b4b7f157b44b40a3019663acbd19c7",
       "version_major": 2,
       "version_minor": 0
      },
      "text/plain": [
       "GridspecLayout(children=(Button(description='Button 1', layout=Layout(grid_area='widget001', height='auto', wi…"
      ]
     },
     "execution_count": 6,
     "metadata": {},
     "output_type": "execute_result"
    },
    {
     "name": "stdout",
     "output_type": "stream",
     "text": [
      "The code for button one contains one or more errors.\n"
     ]
    }
   ],
   "source": [
    "from ipywidgets import GridspecLayout, Button\n",
    "%run ./module_1_helper_functions.ipynb\n",
    "if(True):\n",
    "    button1 = widgets.Button(\n",
    "        disabled=False,\n",
    "        layout = Layout(height='auto', width='auto'),\n",
    "        description=\"Button 1\"\n",
    "    )\n",
    "    output1 = widgets.Output()\n",
    "    button1.on_click(buttonOne)\n",
    "\n",
    "    button2 = widgets.Button(\n",
    "        disabled=False,\n",
    "        layout = Layout(height='auto', width='auto'),\n",
    "        description=\"Button 2\"\n",
    "    )\n",
    "    output2 = widgets.Output()\n",
    "    button2.on_click(buttonTwo)\n",
    "\n",
    "    button3 = widgets.Button(\n",
    "        disabled=False,\n",
    "        layout = Layout(height='auto', width='auto'),\n",
    "        description=\"Button 3\"\n",
    "    )\n",
    "    output3 = widgets.Output()\n",
    "    button3.on_click(buttonThree)\n",
    "\n",
    "    button4 = widgets.Button(\n",
    "        disabled=False,\n",
    "        layout = Layout(height='auto', width='auto'),\n",
    "        description=\"Button 4\"\n",
    "    )\n",
    "    output4 = widgets.Output()\n",
    "    button4.on_click(buttonFour)\n",
    "\n",
    "    button5 = widgets.Button(\n",
    "        disabled=False,\n",
    "        layout = Layout(height='auto', width='auto'),\n",
    "        description=\"Button 5\"\n",
    "    )\n",
    "    output5 = widgets.Output()\n",
    "    button5.on_click(buttonFive)\n",
    "\n",
    "    button6 = widgets.Button(\n",
    "        disabled=False,\n",
    "        layout = Layout(height='auto', width='auto'),\n",
    "        description=\"Button 6\"\n",
    "    )\n",
    "    output6 = widgets.Output()\n",
    "    button6.on_click(buttonSix)\n",
    "grid = GridspecLayout(2, 3)\n",
    "grid[0, 0] = button1\n",
    "grid[0, 1] = button2\n",
    "grid[0, 2] = button3\n",
    "grid[1, 0] = button4\n",
    "grid[1, 1] = button5\n",
    "grid[1, 2] = button6\n",
    "grid"
   ]
  },
  {
   "cell_type": "markdown",
   "id": "b1d7ad12",
   "metadata": {},
   "source": [
    "### Congratulations, you've completed the first module! \n",
    "When you are finished with your bicycle, disassemble it. You may choose to try this module's build challenge or opt to move on to the next module! "
   ]
  }
 ],
 "metadata": {
  "kernelspec": {
   "display_name": "Python 3 (ipykernel)",
   "language": "python",
   "name": "python3"
  },
  "language_info": {
   "codemirror_mode": {
    "name": "ipython",
    "version": 3
   },
   "file_extension": ".py",
   "mimetype": "text/x-python",
   "name": "python",
   "nbconvert_exporter": "python",
   "pygments_lexer": "ipython3",
   "version": "3.9.1"
  }
 },
 "nbformat": 4,
 "nbformat_minor": 5
}
