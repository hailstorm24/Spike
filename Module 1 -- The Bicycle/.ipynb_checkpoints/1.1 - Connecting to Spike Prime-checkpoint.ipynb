{
 "cells": [
  {
   "cell_type": "markdown",
   "id": "c44b831b",
   "metadata": {},
   "source": [
    "# Module 1.1: Connecting to SPIKE Prime!"
   ]
  },
  {
   "cell_type": "markdown",
   "id": "5173eb2d",
   "metadata": {},
   "source": [
    "Note: to run a cell, select it and press Shift+Enter"
   ]
  },
  {
   "cell_type": "markdown",
   "id": "1a32efe9",
   "metadata": {},
   "source": [
    "### Step 1: Install the required packages onto your machine. \n",
    "Select the code cell and press Shift+Enter. (If you have already completed this step, you do not need to do so again)"
   ]
  },
  {
   "cell_type": "code",
   "execution_count": null,
   "id": "bdaddc67",
   "metadata": {},
   "outputs": [],
   "source": [
    "from IPython.display import clear_output\n",
    "!pip3 install pyserial\n",
    "!pip3 install ipywidgets\n",
    "clear_output()"
   ]
  },
  {
   "cell_type": "markdown",
   "id": "ec82eb27",
   "metadata": {},
   "source": [
    "### Step 2: Load the code required to talk to SPIKE Prime.\n",
    "Essentially, this defines various functions that will allow us to connect to your SPIKE hub in the next step. Select it and press Shift+Enter so that you will be able to use the functions defined"
   ]
  },
  {
   "cell_type": "code",
   "execution_count": null,
   "id": "ee00a488",
   "metadata": {},
   "outputs": [],
   "source": [
    "%run ./module_1_helper_functions.ipynb"
   ]
  },
  {
   "cell_type": "markdown",
   "id": "4a63aee1",
   "metadata": {},
   "source": [
    "### Step 3: Search for serial ports and connect to the hub.\n",
    "Run the cell and select your hub in the list of serial ports that will appear below. No need to read or understand it quite yet."
   ]
  },
  {
   "cell_type": "code",
   "execution_count": null,
   "id": "12b61bc2",
   "metadata": {},
   "outputs": [],
   "source": [
    "updatedPortList = search_for_ports()\n",
    "dropdown = widgets.Select(\n",
    "            options=updatedPortList,\n",
    "            description='Select Port:',\n",
    "            disabled=False)\n",
    "output2 = widgets.Output()\n",
    "display(dropdown, output2)\n",
    "dropdown.observe(on_value_change, names='value')"
   ]
  },
  {
   "cell_type": "markdown",
   "id": "a4df63e0",
   "metadata": {},
   "source": [
    "#### Your SPIKE Prime should display the message \"Hello, World!\" \n",
    "If it is connected correctly, you are ready to move on!"
   ]
  }
 ],
 "metadata": {
  "kernelspec": {
   "display_name": "Python 3 (ipykernel)",
   "language": "python",
   "name": "python3"
  },
  "language_info": {
   "codemirror_mode": {
    "name": "ipython",
    "version": 3
   },
   "file_extension": ".py",
   "mimetype": "text/x-python",
   "name": "python",
   "nbconvert_exporter": "python",
   "pygments_lexer": "ipython3",
   "version": "3.9.1"
  }
 },
 "nbformat": 4,
 "nbformat_minor": 5
}
