{
 "cells": [
  {
   "cell_type": "markdown",
   "id": "75ba9aab",
   "metadata": {},
   "source": [
    "# Module 1 Build Challenge (Optional): Designing a LEGO Table Saw"
   ]
  },
  {
   "cell_type": "markdown",
   "id": "51757448",
   "metadata": {},
   "source": [
    "### The Objective: Build a Saw that Cuts Through Paper\n",
    "\n",
    "Some specifications: \n",
    "* You must ONLY use parts from your SPIKE Prime kit.\n",
    "* Your saw must be powered by ONLY one motor\n",
    "* The \"blade\" should be either a gear or a wheel.\n",
    "\n",
    "Note: Be EXTREMELY careful to not get your hair caught in the gears.\n",
    "\n",
    "In designing an optimal gear ratio, think carefully about what you know about speed and torque. Which are important in allowing your saw to cut through paper?"
   ]
  },
  {
   "cell_type": "markdown",
   "id": "43d79c15",
   "metadata": {},
   "source": [
    "#### Controlling your Saw\n",
    "\n",
    "Connect the motor to port D. Control using the buttons below. You do not need to read or understand the code cell, just press Shift+Enter to run the code."
   ]
  },
  {
   "cell_type": "code",
   "execution_count": null,
   "id": "53af46e1",
   "metadata": {},
   "outputs": [],
   "source": [
    "%run ./module_1_helper_functions.ipynb\n",
    "updatedPortList = search_for_ports()\n",
    "dropdown = widgets.Select(\n",
    "            options=updatedPortList,\n",
    "            description='Select Port:',\n",
    "            disabled=False)\n",
    "output2 = widgets.Output()\n",
    "display(dropdown, output2)\n",
    "dropdown.observe(on_value_change2, names='value')\n",
    "tablesaw()"
   ]
  }
 ],
 "metadata": {
  "kernelspec": {
   "display_name": "Python 3 (ipykernel)",
   "language": "python",
   "name": "python3"
  },
  "language_info": {
   "codemirror_mode": {
    "name": "ipython",
    "version": 3
   },
   "file_extension": ".py",
   "mimetype": "text/x-python",
   "name": "python",
   "nbconvert_exporter": "python",
   "pygments_lexer": "ipython3",
   "version": "3.9.1"
  }
 },
 "nbformat": 4,
 "nbformat_minor": 5
}
