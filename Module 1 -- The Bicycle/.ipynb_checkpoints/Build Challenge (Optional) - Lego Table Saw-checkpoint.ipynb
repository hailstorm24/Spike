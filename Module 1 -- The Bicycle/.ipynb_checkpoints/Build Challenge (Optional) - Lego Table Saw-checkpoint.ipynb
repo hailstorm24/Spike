{
 "cells": [
  {
   "cell_type": "markdown",
   "id": "75ba9aab",
   "metadata": {},
   "source": [
    "# Module 1 Build Challenge (Optional): Designing a Lego Table Saw"
   ]
  },
  {
   "cell_type": "markdown",
   "id": "51757448",
   "metadata": {},
   "source": [
    "### The Objective: Build a Saw that Cuts Through Paper\n",
    "\n",
    "Some specifications: \n",
    "* You must ONLY use parts from your SPIKE Prime kit.\n",
    "* Your saw must be powered by ONLY one motor\n",
    "* The \"blade\" should be either a gear or a wheel.\n",
    "\n",
    "Note: Be EXTREMELY careful to not get your hair caught in the gears.\n",
    "\n",
    "In designing an optimal gear ratio, think carefully about what you know about speed and torque. Which are important in allowing your saw to cut through paper?"
   ]
  },
  {
   "cell_type": "markdown",
   "id": "43d79c15",
   "metadata": {},
   "source": [
    "#### Controlling your Saw\n",
    "\n",
    "Connect the motor to port D. Control using the buttons below. You do not need to read or understand the code cell, just press Shift+Enter to run the code."
   ]
  },
  {
   "cell_type": "code",
   "execution_count": 2,
   "id": "53af46e1",
   "metadata": {},
   "outputs": [
    {
     "data": {
      "application/vnd.jupyter.widget-view+json": {
       "model_id": "f5da48a5e8234d4a965261c9dad76393",
       "version_major": 2,
       "version_minor": 0
      },
      "text/plain": [
       "Select(description='Select Port:', options=('/dev/cu.Bluetooth-Incoming-Port', '/dev/cu.LEGOHub30E283048E8E', …"
      ]
     },
     "metadata": {},
     "output_type": "display_data"
    },
    {
     "data": {
      "application/vnd.jupyter.widget-view+json": {
       "model_id": "f6e6c35906d64a728897b7be9dfc6986",
       "version_major": 2,
       "version_minor": 0
      },
      "text/plain": [
       "Output()"
      ]
     },
     "metadata": {},
     "output_type": "display_data"
    },
    {
     "data": {
      "application/vnd.jupyter.widget-view+json": {
       "model_id": "64851571353d4e1185970f01f3853fda",
       "version_major": 2,
       "version_minor": 0
      },
      "text/plain": [
       "HBox(children=(Button(icon='arrow-left', layout=Layout(height='40px', margin='0px 0px 0px 0px', padding='0px 0…"
      ]
     },
     "metadata": {},
     "output_type": "display_data"
    }
   ],
   "source": [
    "%run ./module_1_helper_functions.ipynb\n",
    "updatedPortList = search_for_ports()\n",
    "dropdown = widgets.Select(\n",
    "            options=updatedPortList,\n",
    "            description='Select Port:',\n",
    "            disabled=False)\n",
    "output2 = widgets.Output()\n",
    "display(dropdown, output2)\n",
    "dropdown.observe(on_value_change2, names='value')\n",
    "tablesaw()"
   ]
  }
 ],
 "metadata": {
  "kernelspec": {
   "display_name": "Python 3 (ipykernel)",
   "language": "python",
   "name": "python3"
  },
  "language_info": {
   "codemirror_mode": {
    "name": "ipython",
    "version": 3
   },
   "file_extension": ".py",
   "mimetype": "text/x-python",
   "name": "python",
   "nbconvert_exporter": "python",
   "pygments_lexer": "ipython3",
   "version": "3.9.1"
  }
 },
 "nbformat": 4,
 "nbformat_minor": 5
}
