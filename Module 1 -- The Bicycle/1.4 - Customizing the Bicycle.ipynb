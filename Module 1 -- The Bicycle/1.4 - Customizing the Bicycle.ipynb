{
 "cells": [
  {
   "cell_type": "markdown",
   "id": "c44b831b",
   "metadata": {},
   "source": [
    "# Module 1.4: Customizing the Bicycle:"
   ]
  },
  {
   "cell_type": "markdown",
   "id": "d43656c6",
   "metadata": {},
   "source": [
    "## Adding a Unique Element to the Bicycle:\n",
    "\n",
    "Now, it is time for you to add your own mechanism! The only requirements are that your bicycle must still be able to move, and that your addition involves another motor: the finished product should be able to be controlled using two motors. Choose from the list of ideas below or come up with your own idea entirely!\n",
    "\n",
    "Some possible ideas include: \n",
    "* A steering system so that the bicycle can turn\n",
    "* A person that rides the bicycle\n",
    "* A way for the bicycle to balance on only two wheels"
   ]
  },
  {
   "cell_type": "markdown",
   "id": "dedb34f7",
   "metadata": {},
   "source": [
    "## Programming the Bicycle:\n",
    "\n",
    "#### Connecting to Spike:\n",
    "Run the code to search for serial ports and select your hub."
   ]
  },
  {
   "cell_type": "code",
   "execution_count": 1,
   "id": "7f13f601",
   "metadata": {
    "scrolled": true
   },
   "outputs": [
    {
     "data": {
      "application/vnd.jupyter.widget-view+json": {
       "model_id": "a5a25c52904642658305af03ec7d5602",
       "version_major": 2,
       "version_minor": 0
      },
      "text/plain": [
       "Select(description='Select Port:', options=('/dev/cu.Bluetooth-Incoming-Port', '/dev/cu.LEGOHub30E283048E8E', …"
      ]
     },
     "metadata": {},
     "output_type": "display_data"
    },
    {
     "data": {
      "application/vnd.jupyter.widget-view+json": {
       "model_id": "f460fea0edc94ff4afabb66d25ce41f3",
       "version_major": 2,
       "version_minor": 0
      },
      "text/plain": [
       "Output()"
      ]
     },
     "metadata": {},
     "output_type": "display_data"
    }
   ],
   "source": [
    "%run ./module_1_helper_functions.ipynb\n",
    "\n",
    "updatedPortList = search_for_ports()\n",
    "dropdown = widgets.Select(\n",
    "            options=updatedPortList,\n",
    "            description='Select Port:',\n",
    "            disabled=False)\n",
    "output2 = widgets.Output()\n",
    "display(dropdown, output2)\n",
    "dropdown.observe(on_value_change2, names='value')"
   ]
  },
  {
   "cell_type": "markdown",
   "id": "60b2685a",
   "metadata": {},
   "source": [
    "#### Using the functions below, code each of the buttons to control your bicycle:\n",
    "* move(*motor port*,*speed from -100 to 100*)\n",
    "* stop(*motor port*)\n",
    "* delay(*seconds*)\n",
    "\n",
    "Run the cell below and code in the spaces that appear."
   ]
  },
  {
   "cell_type": "code",
   "execution_count": 2,
   "id": "052ebee8",
   "metadata": {
    "scrolled": false
   },
   "outputs": [
    {
     "data": {
      "application/vnd.jupyter.widget-view+json": {
       "model_id": "4048c148cd254b8588f49516e0b34100",
       "version_major": 2,
       "version_minor": 0
      },
      "text/plain": [
       "Textarea(value='Code Button #1 here')"
      ]
     },
     "metadata": {},
     "output_type": "display_data"
    },
    {
     "data": {
      "application/vnd.jupyter.widget-view+json": {
       "model_id": "f61c954a104a435b8977841f44027ec6",
       "version_major": 2,
       "version_minor": 0
      },
      "text/plain": [
       "Button(button_style='success', description='Update Button #1', style=ButtonStyle(), tooltip='Click me')"
      ]
     },
     "metadata": {},
     "output_type": "display_data"
    },
    {
     "data": {
      "application/vnd.jupyter.widget-view+json": {
       "model_id": "9a25421bba584a978a4230e6d238d9fe",
       "version_major": 2,
       "version_minor": 0
      },
      "text/plain": [
       "Output()"
      ]
     },
     "metadata": {},
     "output_type": "display_data"
    },
    {
     "data": {
      "application/vnd.jupyter.widget-view+json": {
       "model_id": "7e7f506cc9974a0a8a34a84e69e7bbb4",
       "version_major": 2,
       "version_minor": 0
      },
      "text/plain": [
       "Textarea(value='Code Button #2 here')"
      ]
     },
     "metadata": {},
     "output_type": "display_data"
    },
    {
     "data": {
      "application/vnd.jupyter.widget-view+json": {
       "model_id": "18212f75888e4a1ab86d4baa4e93797b",
       "version_major": 2,
       "version_minor": 0
      },
      "text/plain": [
       "Button(button_style='success', description='Update Button #2', style=ButtonStyle(), tooltip='Click me')"
      ]
     },
     "metadata": {},
     "output_type": "display_data"
    },
    {
     "data": {
      "application/vnd.jupyter.widget-view+json": {
       "model_id": "8fa3fa34cf9048eabe7bd371db88add1",
       "version_major": 2,
       "version_minor": 0
      },
      "text/plain": [
       "Output()"
      ]
     },
     "metadata": {},
     "output_type": "display_data"
    },
    {
     "data": {
      "application/vnd.jupyter.widget-view+json": {
       "model_id": "056ccd434fc0497e9e983e60c8634163",
       "version_major": 2,
       "version_minor": 0
      },
      "text/plain": [
       "Textarea(value='Code Button #3 here')"
      ]
     },
     "metadata": {},
     "output_type": "display_data"
    },
    {
     "data": {
      "application/vnd.jupyter.widget-view+json": {
       "model_id": "cc5e55904028475283c8f9ae11710871",
       "version_major": 2,
       "version_minor": 0
      },
      "text/plain": [
       "Button(button_style='success', description='Update Button #3', style=ButtonStyle(), tooltip='Click me')"
      ]
     },
     "metadata": {},
     "output_type": "display_data"
    },
    {
     "data": {
      "application/vnd.jupyter.widget-view+json": {
       "model_id": "67102c1c666b4a1fb45f8676555f8fee",
       "version_major": 2,
       "version_minor": 0
      },
      "text/plain": [
       "Output()"
      ]
     },
     "metadata": {},
     "output_type": "display_data"
    },
    {
     "data": {
      "application/vnd.jupyter.widget-view+json": {
       "model_id": "3cdbabf0c0db4d5b961b9fdf6c74e688",
       "version_major": 2,
       "version_minor": 0
      },
      "text/plain": [
       "Textarea(value='Code Button #4 here')"
      ]
     },
     "metadata": {},
     "output_type": "display_data"
    },
    {
     "data": {
      "application/vnd.jupyter.widget-view+json": {
       "model_id": "9097cd57566047fb92e42a740e7f6dce",
       "version_major": 2,
       "version_minor": 0
      },
      "text/plain": [
       "Button(button_style='success', description='Update Button #4', style=ButtonStyle(), tooltip='Click me')"
      ]
     },
     "metadata": {},
     "output_type": "display_data"
    },
    {
     "data": {
      "application/vnd.jupyter.widget-view+json": {
       "model_id": "b82955ba603547d09ca5d4397c5cdfa4",
       "version_major": 2,
       "version_minor": 0
      },
      "text/plain": [
       "Output()"
      ]
     },
     "metadata": {},
     "output_type": "display_data"
    },
    {
     "data": {
      "application/vnd.jupyter.widget-view+json": {
       "model_id": "1a56380838e344a7a1a7be894a5a0c65",
       "version_major": 2,
       "version_minor": 0
      },
      "text/plain": [
       "Textarea(value='Code Button #5 here')"
      ]
     },
     "metadata": {},
     "output_type": "display_data"
    },
    {
     "data": {
      "application/vnd.jupyter.widget-view+json": {
       "model_id": "2edaf089d7674edc9844c2909c157335",
       "version_major": 2,
       "version_minor": 0
      },
      "text/plain": [
       "Button(button_style='success', description='Update Button #5', style=ButtonStyle(), tooltip='Click me')"
      ]
     },
     "metadata": {},
     "output_type": "display_data"
    },
    {
     "data": {
      "application/vnd.jupyter.widget-view+json": {
       "model_id": "b6dc5c5640f2407bbd59aad3881b8ad3",
       "version_major": 2,
       "version_minor": 0
      },
      "text/plain": [
       "Output()"
      ]
     },
     "metadata": {},
     "output_type": "display_data"
    },
    {
     "data": {
      "application/vnd.jupyter.widget-view+json": {
       "model_id": "33ba86e45cba40bf83baacef6a3fc284",
       "version_major": 2,
       "version_minor": 0
      },
      "text/plain": [
       "Textarea(value='Code Button #6 here')"
      ]
     },
     "metadata": {},
     "output_type": "display_data"
    },
    {
     "data": {
      "application/vnd.jupyter.widget-view+json": {
       "model_id": "6066ab6759ed4760b0ffd9395cddb50c",
       "version_major": 2,
       "version_minor": 0
      },
      "text/plain": [
       "Button(button_style='success', description='Update Button #6', style=ButtonStyle(), tooltip='Click me')"
      ]
     },
     "metadata": {},
     "output_type": "display_data"
    },
    {
     "data": {
      "application/vnd.jupyter.widget-view+json": {
       "model_id": "27c6fd266d384acd91f6fff366228f49",
       "version_major": 2,
       "version_minor": 0
      },
      "text/plain": [
       "Output()"
      ]
     },
     "metadata": {},
     "output_type": "display_data"
    },
    {
     "name": "stdout",
     "output_type": "stream",
     "text": [
      "Error: line 1, '' is not a valid port\n",
      "Error: line 1, '-' is not a valid port\n",
      "Error: line 1, '1' is not a valid port\n",
      "Error: line 1, '1' is not a valid port\n",
      "Error: line 1, ''' is not a valid port\n",
      "Error: line 1, ''D'' is not a valid port\n",
      "Error: line 1, ''' is not a valid port\n"
     ]
    }
   ],
   "source": [
    "%run ./module_1_helper_functions.ipynb\n",
    "code_bicycle_buttons()"
   ]
  },
  {
   "cell_type": "markdown",
   "id": "7122fee6",
   "metadata": {},
   "source": [
    "#### Use the buttons that you've programmed to control your bicycle\n",
    "\n",
    "Run the code below for the buttons to appear."
   ]
  },
  {
   "cell_type": "code",
   "execution_count": 13,
   "id": "8dbc8a6a",
   "metadata": {
    "scrolled": false
   },
   "outputs": [
    {
     "data": {
      "application/vnd.jupyter.widget-view+json": {
       "model_id": "ab02cccefe214d7f9e6aeaaa6d0a0472",
       "version_major": 2,
       "version_minor": 0
      },
      "text/plain": [
       "GridspecLayout(children=(Button(description='Button 1', layout=Layout(grid_area='widget001', height='auto', wi…"
      ]
     },
     "execution_count": 13,
     "metadata": {},
     "output_type": "execute_result"
    }
   ],
   "source": [
    "from ipywidgets import GridspecLayout, Button\n",
    "%run ./module_1_helper_functions.ipynb\n",
    "bicycle_buttons()\n",
    "global grid\n",
    "grid"
   ]
  },
  {
   "cell_type": "markdown",
   "id": "b1d7ad12",
   "metadata": {},
   "source": [
    "### Congratulations, you've completed the first module! \n",
    "When you are finished with your bicycle, disassemble it. You may choose to try this module's build challenge or opt to move on to the next module! "
   ]
  }
 ],
 "metadata": {
  "kernelspec": {
   "display_name": "Python 3 (ipykernel)",
   "language": "python",
   "name": "python3"
  },
  "language_info": {
   "codemirror_mode": {
    "name": "ipython",
    "version": 3
   },
   "file_extension": ".py",
   "mimetype": "text/x-python",
   "name": "python",
   "nbconvert_exporter": "python",
   "pygments_lexer": "ipython3",
   "version": "3.9.1"
  }
 },
 "nbformat": 4,
 "nbformat_minor": 5
}
