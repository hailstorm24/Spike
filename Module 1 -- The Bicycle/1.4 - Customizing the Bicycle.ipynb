{
 "cells": [
  {
   "cell_type": "markdown",
   "id": "c44b831b",
   "metadata": {},
   "source": [
    "# Module 1.4: Customizing the Bicycle:"
   ]
  },
  {
   "cell_type": "markdown",
   "id": "d43656c6",
   "metadata": {},
   "source": [
    "## Adding a Unique Element to the Bicycle:\n",
    "\n",
    "Now, it is time for you to add your own mechanism! The only requirements are that your bicycle must still be able to move, and that your addition involves another motor: the finished product should be able to be controlled using two motors. Choose from the list of ideas below or come up with your own idea entirely!\n",
    "\n",
    "Some possible ideas include: \n",
    "* A steering system so that the bicycle can turn\n",
    "* A person that rides the bicycle\n",
    "* A way for the bicycle to balance on only two wheels"
   ]
  },
  {
   "cell_type": "markdown",
   "id": "dedb34f7",
   "metadata": {},
   "source": [
    "## Programming the Bicycle:\n",
    "\n",
    "#### Connecting to Spike:\n",
    "Run the code to search for serial ports and select your hub."
   ]
  },
  {
   "cell_type": "code",
   "execution_count": 9,
   "id": "7f13f601",
   "metadata": {
    "scrolled": true
   },
   "outputs": [
    {
     "data": {
      "application/vnd.jupyter.widget-view+json": {
       "model_id": "060930559f9c49439867e81bb6c2dc09",
       "version_major": 2,
       "version_minor": 0
      },
      "text/plain": [
       "Select(description='Select Port:', options=('/dev/cu.Bluetooth-Incoming-Port', '/dev/cu.usbmodem3292376834381'…"
      ]
     },
     "metadata": {},
     "output_type": "display_data"
    },
    {
     "data": {
      "application/vnd.jupyter.widget-view+json": {
       "model_id": "f66ae6b20ef342148c4c055355c704d8",
       "version_major": 2,
       "version_minor": 0
      },
      "text/plain": [
       "Output()"
      ]
     },
     "metadata": {},
     "output_type": "display_data"
    }
   ],
   "source": [
    "%run ./module_1_helper_functions.ipynb\n",
    "\n",
    "updatedPortList = search_for_ports()\n",
    "dropdown = widgets.Select(\n",
    "            options=updatedPortList,\n",
    "            description='Select Port:',\n",
    "            disabled=False)\n",
    "output2 = widgets.Output()\n",
    "display(dropdown, output2)\n",
    "dropdown.observe(on_value_change2, names='value')"
   ]
  },
  {
   "cell_type": "markdown",
   "id": "60b2685a",
   "metadata": {},
   "source": [
    "#### Using the functions below, code each of the buttons to control your bicycle:\n",
    "* move(*motor port*,*speed from -100 to 100*)\n",
    " * ex. move(A,72)\n",
    "* stop(*motor port*)\n",
    " * ex. stop(A)\n",
    "* delay(*seconds*)\n",
    " * ex. delay(3)\n",
    "\n",
    "Run the cell below and code in the spaces that appear."
   ]
  },
  {
   "cell_type": "code",
   "execution_count": 10,
   "id": "052ebee8",
   "metadata": {
    "scrolled": false
   },
   "outputs": [
    {
     "data": {
      "application/vnd.jupyter.widget-view+json": {
       "model_id": "4d9136e75ce4408fb10bb6b5ae752ab7",
       "version_major": 2,
       "version_minor": 0
      },
      "text/plain": [
       "Textarea(value='Code Button #1 here')"
      ]
     },
     "metadata": {},
     "output_type": "display_data"
    },
    {
     "data": {
      "application/vnd.jupyter.widget-view+json": {
       "model_id": "976da2e10bb5429d89bfd2c6fca6a9e6",
       "version_major": 2,
       "version_minor": 0
      },
      "text/plain": [
       "Button(button_style='success', description='Update Button #1', style=ButtonStyle(), tooltip='Click me')"
      ]
     },
     "metadata": {},
     "output_type": "display_data"
    },
    {
     "data": {
      "application/vnd.jupyter.widget-view+json": {
       "model_id": "d5e9500de3ed449f882730f7f15103df",
       "version_major": 2,
       "version_minor": 0
      },
      "text/plain": [
       "Output()"
      ]
     },
     "metadata": {},
     "output_type": "display_data"
    },
    {
     "data": {
      "application/vnd.jupyter.widget-view+json": {
       "model_id": "ff1b7c770ee14e0c8601e6f508f2774a",
       "version_major": 2,
       "version_minor": 0
      },
      "text/plain": [
       "Textarea(value='Code Button #2 here')"
      ]
     },
     "metadata": {},
     "output_type": "display_data"
    },
    {
     "data": {
      "application/vnd.jupyter.widget-view+json": {
       "model_id": "b91a68d64de947d393a2a173fa6f08ad",
       "version_major": 2,
       "version_minor": 0
      },
      "text/plain": [
       "Button(button_style='success', description='Update Button #2', style=ButtonStyle(), tooltip='Click me')"
      ]
     },
     "metadata": {},
     "output_type": "display_data"
    },
    {
     "data": {
      "application/vnd.jupyter.widget-view+json": {
       "model_id": "ef98c2d278324bab91e24e172594d54d",
       "version_major": 2,
       "version_minor": 0
      },
      "text/plain": [
       "Output()"
      ]
     },
     "metadata": {},
     "output_type": "display_data"
    },
    {
     "data": {
      "application/vnd.jupyter.widget-view+json": {
       "model_id": "8f17806a372e4625b82527973e326e4f",
       "version_major": 2,
       "version_minor": 0
      },
      "text/plain": [
       "Textarea(value='Code Button #3 here')"
      ]
     },
     "metadata": {},
     "output_type": "display_data"
    },
    {
     "data": {
      "application/vnd.jupyter.widget-view+json": {
       "model_id": "62fcf19e7afb4a8aaab6c31c89ad664d",
       "version_major": 2,
       "version_minor": 0
      },
      "text/plain": [
       "Button(button_style='success', description='Update Button #3', style=ButtonStyle(), tooltip='Click me')"
      ]
     },
     "metadata": {},
     "output_type": "display_data"
    },
    {
     "data": {
      "application/vnd.jupyter.widget-view+json": {
       "model_id": "d8e58f6a33674b6091756a55e77ba285",
       "version_major": 2,
       "version_minor": 0
      },
      "text/plain": [
       "Output()"
      ]
     },
     "metadata": {},
     "output_type": "display_data"
    },
    {
     "data": {
      "application/vnd.jupyter.widget-view+json": {
       "model_id": "26b8f1099c094a47992eeb9a4ddf6c22",
       "version_major": 2,
       "version_minor": 0
      },
      "text/plain": [
       "Textarea(value='Code Button #4 here')"
      ]
     },
     "metadata": {},
     "output_type": "display_data"
    },
    {
     "data": {
      "application/vnd.jupyter.widget-view+json": {
       "model_id": "1834a060023a4cd1b7707e6eb7e3d76a",
       "version_major": 2,
       "version_minor": 0
      },
      "text/plain": [
       "Button(button_style='success', description='Update Button #4', style=ButtonStyle(), tooltip='Click me')"
      ]
     },
     "metadata": {},
     "output_type": "display_data"
    },
    {
     "data": {
      "application/vnd.jupyter.widget-view+json": {
       "model_id": "09e4ca4bc8fc42b0ac41609174ecdeab",
       "version_major": 2,
       "version_minor": 0
      },
      "text/plain": [
       "Output()"
      ]
     },
     "metadata": {},
     "output_type": "display_data"
    },
    {
     "data": {
      "application/vnd.jupyter.widget-view+json": {
       "model_id": "2468f89c482b444fa61e194285dcc649",
       "version_major": 2,
       "version_minor": 0
      },
      "text/plain": [
       "Textarea(value='Code Button #5 here')"
      ]
     },
     "metadata": {},
     "output_type": "display_data"
    },
    {
     "data": {
      "application/vnd.jupyter.widget-view+json": {
       "model_id": "f36c9a77124f41c3be5a6f0c6523abef",
       "version_major": 2,
       "version_minor": 0
      },
      "text/plain": [
       "Button(button_style='success', description='Update Button #5', style=ButtonStyle(), tooltip='Click me')"
      ]
     },
     "metadata": {},
     "output_type": "display_data"
    },
    {
     "data": {
      "application/vnd.jupyter.widget-view+json": {
       "model_id": "85e1e4c8c5974fcb86a0a76e1641d051",
       "version_major": 2,
       "version_minor": 0
      },
      "text/plain": [
       "Output()"
      ]
     },
     "metadata": {},
     "output_type": "display_data"
    },
    {
     "data": {
      "application/vnd.jupyter.widget-view+json": {
       "model_id": "6361b09bdd884071aabdf53e35e64747",
       "version_major": 2,
       "version_minor": 0
      },
      "text/plain": [
       "Textarea(value='Code Button #6 here')"
      ]
     },
     "metadata": {},
     "output_type": "display_data"
    },
    {
     "data": {
      "application/vnd.jupyter.widget-view+json": {
       "model_id": "b0239acf31364f0db47c40f427af2916",
       "version_major": 2,
       "version_minor": 0
      },
      "text/plain": [
       "Button(button_style='success', description='Update Button #6', style=ButtonStyle(), tooltip='Click me')"
      ]
     },
     "metadata": {},
     "output_type": "display_data"
    },
    {
     "data": {
      "application/vnd.jupyter.widget-view+json": {
       "model_id": "3452fd25e11749e48d02ee1017e3f72e",
       "version_major": 2,
       "version_minor": 0
      },
      "text/plain": [
       "Output()"
      ]
     },
     "metadata": {},
     "output_type": "display_data"
    }
   ],
   "source": [
    "%run ./module_1_helper_functions.ipynb\n",
    "code_bicycle_buttons()"
   ]
  },
  {
   "cell_type": "markdown",
   "id": "7122fee6",
   "metadata": {},
   "source": [
    "#### Use the buttons that you've programmed to control your bicycle\n",
    "\n",
    "Run the code below for the buttons to appear."
   ]
  },
  {
   "cell_type": "code",
   "execution_count": 8,
   "id": "8dbc8a6a",
   "metadata": {
    "scrolled": false
   },
   "outputs": [
    {
     "data": {
      "application/vnd.jupyter.widget-view+json": {
       "model_id": "27f5d65e83e34cb5801438263c54031f",
       "version_major": 2,
       "version_minor": 0
      },
      "text/plain": [
       "GridspecLayout(children=(Button(description='Button 1', layout=Layout(grid_area='widget001', height='auto', wi…"
      ]
     },
     "execution_count": 8,
     "metadata": {},
     "output_type": "execute_result"
    },
    {
     "name": "stdout",
     "output_type": "stream",
     "text": [
      "The code for button five contains one or more errors.\n",
      "The code for button five contains one or more errors.\n",
      "The code for button five contains one or more errors.\n"
     ]
    }
   ],
   "source": [
    "from ipywidgets import GridspecLayout, Button\n",
    "%run ./module_1_helper_functions.ipynb\n",
    "bicycle_buttons()\n",
    "global grid\n",
    "grid"
   ]
  },
  {
   "cell_type": "markdown",
   "id": "b1d7ad12",
   "metadata": {},
   "source": [
    "### Congratulations, you've completed the first module! \n",
    "When you are finished with your bicycle, disassemble it. You may choose to try this module's build challenge or opt to move on to the next module! "
   ]
  }
 ],
 "metadata": {
  "kernelspec": {
   "display_name": "Python 3 (ipykernel)",
   "language": "python",
   "name": "python3"
  },
  "language_info": {
   "codemirror_mode": {
    "name": "ipython",
    "version": 3
   },
   "file_extension": ".py",
   "mimetype": "text/x-python",
   "name": "python",
   "nbconvert_exporter": "python",
   "pygments_lexer": "ipython3",
   "version": "3.9.1"
  }
 },
 "nbformat": 4,
 "nbformat_minor": 5
}
