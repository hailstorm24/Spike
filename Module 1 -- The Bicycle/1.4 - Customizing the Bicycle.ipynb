{
 "cells": [
  {
   "cell_type": "markdown",
   "id": "c44b831b",
   "metadata": {},
   "source": [
    "# Module 1.4: Customizing the Bicycle:"
   ]
  },
  {
   "cell_type": "markdown",
   "id": "d43656c6",
   "metadata": {},
   "source": [
    "## Adding a Unique Element to the Bicycle:\n",
    "\n",
    "Now, let's take off the training wheels — it is time for you to add your own mechanism! The only requirements are that your bicycle must still be able to move, and that your addition involves another motor: the finished product should be able to be controlled using two motors. Choose from the list of ideas below or come up with your own idea entirely!\n",
    "\n",
    "Some possible ideas include: \n",
    "* A steering system so that the bicycle can turn\n",
    "* A person that rides the bicycle\n",
    "* A way for the bicycle to balance on only two wheels"
   ]
  },
  {
   "cell_type": "markdown",
   "id": "dedb34f7",
   "metadata": {},
   "source": [
    "## Programming the Bicycle:\n",
    "\n",
    "#### Connecting to Spike:\n",
    "Run the code to search for serial ports and select your hub."
   ]
  },
  {
   "cell_type": "code",
   "execution_count": null,
   "id": "7f13f601",
   "metadata": {
    "scrolled": true
   },
   "outputs": [],
   "source": [
    "%run ./module_1_helper_functions.ipynb\n",
    "\n",
    "updatedPortList = search_for_ports()\n",
    "dropdown = widgets.Select(\n",
    "            options=updatedPortList,\n",
    "            description='Select Port:',\n",
    "            disabled=False)\n",
    "output2 = widgets.Output()\n",
    "display(dropdown, output2)\n",
    "dropdown.observe(on_value_change2, names='value')"
   ]
  },
  {
   "cell_type": "markdown",
   "id": "60b2685a",
   "metadata": {},
   "source": [
    "#### Using the functions below, code each of the buttons to control your bicycle:\n",
    "* move(*motor port*,*speed from -100 to 100*)\n",
    " * ex. move(A,72)\n",
    "* stop(*motor port*)\n",
    " * ex. stop(A)\n",
    "* delay(*seconds*)\n",
    " * ex. delay(3)\n",
    "\n",
    "Run the cell below and code in the spaces that appear."
   ]
  },
  {
   "cell_type": "code",
   "execution_count": null,
   "id": "052ebee8",
   "metadata": {
    "scrolled": false
   },
   "outputs": [],
   "source": [
    "%run ./module_1_helper_functions.ipynb\n",
    "code_bicycle_buttons()"
   ]
  },
  {
   "cell_type": "markdown",
   "id": "7122fee6",
   "metadata": {},
   "source": [
    "#### Use the buttons that you've programmed to control your bicycle\n",
    "\n",
    "Run the code below for the buttons to appear."
   ]
  },
  {
   "cell_type": "code",
   "execution_count": null,
   "id": "8dbc8a6a",
   "metadata": {
    "scrolled": false
   },
   "outputs": [],
   "source": [
    "from ipywidgets import GridspecLayout, Button\n",
    "%run ./module_1_helper_functions.ipynb\n",
    "bicycle_buttons()\n",
    "global grid\n",
    "grid"
   ]
  },
  {
   "cell_type": "markdown",
   "id": "b1d7ad12",
   "metadata": {},
   "source": [
    "### Congratulations, you've completed the first module! \n",
    "When you are finished with your bicycle, disassemble it. You may choose to try this module's build challenge or opt to move on to the next module! "
   ]
  }
 ],
 "metadata": {
  "kernelspec": {
   "display_name": "Python 3 (ipykernel)",
   "language": "python",
   "name": "python3"
  },
  "language_info": {
   "codemirror_mode": {
    "name": "ipython",
    "version": 3
   },
   "file_extension": ".py",
   "mimetype": "text/x-python",
   "name": "python",
   "nbconvert_exporter": "python",
   "pygments_lexer": "ipython3",
   "version": "3.9.1"
  }
 },
 "nbformat": 4,
 "nbformat_minor": 5
}
