{
 "cells": [
  {
   "cell_type": "code",
   "execution_count": 1,
   "id": "d8193afb",
   "metadata": {},
   "outputs": [],
   "source": [
    "import serial\n",
    "import sys\n",
    "import glob\n",
    "import time\n",
    "import serial.tools.list_ports\n",
    "import ipywidgets as widgets\n",
    "from ipywidgets import Layout\n",
    "from IPython.display import display\n",
    "from IPython.core.display import HTML\n",
    "from IPython.display import clear_output\n",
    "\n",
    "\n",
    "ser = None\n",
    "\n",
    "def serial_ports():\n",
    "     result = []\n",
    "     ports = serial.tools.list_ports.comports()\n",
    "     for port, desc, hwid in sorted(ports):\n",
    "          comm =  \"{}: {}\".format(port, desc)\n",
    "          result.append(comm) \n",
    "     return result\n",
    "\n",
    "def InitSerial(port, bps = 9600, to = 0):\n",
    "    global ser\n",
    "    try:\n",
    "        ser = serial.Serial(port, bps, timeout = to)  # open serial port\n",
    "        ser.flushInput()\n",
    "        ser.flushOutput()\n",
    "        return ser.name\n",
    "    except Exception as e:\n",
    "        return 'ERR: ' + str(e)\n",
    "\n",
    "def CloseSerial():\n",
    "    return('done')\n",
    "    try:\n",
    "        ser.flush()\n",
    "        ser.close()\n",
    "        return 'done'\n",
    "    except Exception as e:\n",
    "        return 'ERR: ' + str(e)    \n",
    "\n",
    "def WriteSerial(string):\n",
    "    try:\n",
    "        reply = ser.write(string.encode())\n",
    "        return str(reply)\n",
    "    except Exception as e:\n",
    "        return 'ERR: ' + str(e)    \n",
    "\n",
    "def ReadSerial():\n",
    "    try:\n",
    "        reply = ''\n",
    "        while ser.in_waiting:\n",
    "            reply = reply + ser.readline().decode()\n",
    "        return reply\n",
    "    except Exception as e:\n",
    "        return 'ERR: ' +  str(e)\n",
    "    \n",
    "def SendRead(string):\n",
    "    if WriteSerial(string):\n",
    "        time.sleep(0.1)\n",
    "        return ReadSerial()\n",
    "    \n",
    "updatedPortList = []\n",
    "\n",
    "def search_for_ports():\n",
    "    updatedPortList = []\n",
    "    serialPortList = serial_ports()\n",
    "    for x in serialPortList:\n",
    "        updatedPortList.append(x[:x.index(':')])\n",
    "    return updatedPortList\n",
    "    \n",
    "def on_value_change(change):\n",
    "    with output2:\n",
    "        global SerialPort\n",
    "        SerialPort = change['new']\n",
    "        InitSerial(change['new'],115200)\n",
    "        WriteSerial('\\x03')\n",
    "        run_some_code()\n",
    "        \n",
    "def run_some_code():\n",
    "    code = '''\n",
    "import hub,utime\n",
    "    '''\n",
    "    WriteSerial('\\x05')\n",
    "    WriteSerial(code)\n",
    "    WriteSerial('\\x04')\n",
    "    WriteSerial('\\x03')\n",
    "    \n",
    "    time.sleep(1) #wait for everything to get over there and read all the replies\n",
    "    words = ReadSerial()\n",
    "#     print(words)\n",
    "    if (\">>>\" in words):\n",
    "        print(\"You are now connected to SPIKE Prime!\")\n",
    "    else:\n",
    "        print(\"Error, try reconnecting or connecting to a different serial port.\")"
   ]
  },
  {
   "cell_type": "code",
   "execution_count": null,
   "id": "4eb0e616",
   "metadata": {},
   "outputs": [],
   "source": [
    "rotateFaceButton = widgets.Button(\n",
    "    disabled=False,\n",
    "    layout = Layout(height = '40px',width = '40px',margin = '0px 0px 0px 0px',padding = '0px 0px 0px 0px'),\n",
    "    icon='rotate-right' # (FontAwesome names without the `fa-` prefix)\n",
    ")\n",
    "rotateFace = widgets.Output()\n",
    "xAxisButton = widgets.Button(\n",
    "    disabled=False,\n",
    "    layout = rotateFaceButton.layout,\n",
    "    icon='arrow-right' # (FontAwesome names without the `fa-` prefix)\n",
    ")\n",
    "xAxis = widgets.Output()\n",
    "yAxisButton = widgets.Button(\n",
    "    disabled=False,\n",
    "    layout = rotateFaceButton.layout,\n",
    "    icon='arrow-up' # (FontAwesome names without the `fa-` prefix)\n",
    "    )\n",
    "yAxis = widgets.Output()"
   ]
  },
  {
   "cell_type": "code",
   "execution_count": null,
   "id": "6ca6d169",
   "metadata": {},
   "outputs": [],
   "source": [
    "def controls():\n",
    "    setModes = '''\n",
    "import hub,utime\n",
    "hub.port.A.motor.mode(1)\n",
    "hub.port.A.motor.brake()\n",
    "hub.port.B.motor.mode(1)\n",
    "hub.port.B.motor.brake()\n",
    "'''\n",
    "    WriteSerial('\\x05')\n",
    "    WriteSerial(setModes)\n",
    "    WriteSerial('\\x04')    "
   ]
  },
  {
   "cell_type": "code",
   "execution_count": 1,
   "id": "110934ab",
   "metadata": {},
   "outputs": [
    {
     "name": "stdout",
     "output_type": "stream",
     "text": [
      "Requirement already satisfied: Pillow in /Library/Frameworks/Python.framework/Versions/3.9/lib/python3.9/site-packages (8.2.0)\n",
      "\n",
      "\u001b[1m[\u001b[0m\u001b[34;49mnotice\u001b[0m\u001b[1;39;49m]\u001b[0m\u001b[39;49m A new release of pip available: \u001b[0m\u001b[31;49m22.2.2\u001b[0m\u001b[39;49m -> \u001b[0m\u001b[32;49m22.3.1\u001b[0m\n",
      "\u001b[1m[\u001b[0m\u001b[34;49mnotice\u001b[0m\u001b[1;39;49m]\u001b[0m\u001b[39;49m To update, run: \u001b[0m\u001b[32;49mpip install --upgrade pip\u001b[0m\n"
     ]
    }
   ],
   "source": [
    "!pip install Pillow"
   ]
  },
  {
   "cell_type": "code",
   "execution_count": 6,
   "id": "0d7c3c90",
   "metadata": {},
   "outputs": [],
   "source": [
    "def displayCube():\n",
    "    import PIL\n",
    "    from PIL import Image, ImageDraw, ImageFont\n",
    "    im = PIL.Image.new(mode = \"RGB\", size = (200, 200),\n",
    "                           color = (153, 153, 255))\n",
    "    display(im)"
   ]
  },
  {
   "cell_type": "code",
   "execution_count": 7,
   "id": "64d4ceec",
   "metadata": {},
   "outputs": [
    {
     "data": {
      "image/png": "[encoded data removed]",
      "text/plain": [
       "<PIL.Image.Image image mode=RGB size=200x200 at 0x107A26580>"
      ]
     },
     "metadata": {},
     "output_type": "display_data"
    }
   ],
   "source": [
    "displayCube()"
   ]
  },
  {
   "cell_type": "code",
   "execution_count": null,
   "id": "7d01e0da",
   "metadata": {},
   "outputs": [],
   "source": []
  }
 ],
 "metadata": {
  "kernelspec": {
   "display_name": "Python 3 (ipykernel)",
   "language": "python",
   "name": "python3"
  },
  "language_info": {
   "codemirror_mode": {
    "name": "ipython",
    "version": 3
   },
   "file_extension": ".py",
   "mimetype": "text/x-python",
   "name": "python",
   "nbconvert_exporter": "python",
   "pygments_lexer": "ipython3",
   "version": "3.9.1"
  }
 },
 "nbformat": 4,
 "nbformat_minor": 5
}
