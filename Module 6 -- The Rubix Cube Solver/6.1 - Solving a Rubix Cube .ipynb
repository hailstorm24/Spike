{
 "cells": [
  {
   "cell_type": "markdown",
   "id": "ff974b65",
   "metadata": {},
   "source": [
    "# Module 6.1: Solving a Rubix Cube!\n",
    "\n",
    "In Module 6, you will construct a robot to solve rubix cubes. To do this, we first must learn the steps required in solving a rubix cube. While you do not need to memorize any of the steps in this section, it will help you to follow along with your cube and keep this notebook handy as a reference."
   ]
  },
  {
   "cell_type": "code",
   "execution_count": null,
   "id": "330431f9",
   "metadata": {},
   "outputs": [],
   "source": []
  }
 ],
 "metadata": {
  "kernelspec": {
   "display_name": "Python 3 (ipykernel)",
   "language": "python",
   "name": "python3"
  },
  "language_info": {
   "codemirror_mode": {
    "name": "ipython",
    "version": 3
   },
   "file_extension": ".py",
   "mimetype": "text/x-python",
   "name": "python",
   "nbconvert_exporter": "python",
   "pygments_lexer": "ipython3",
   "version": "3.9.1"
  }
 },
 "nbformat": 4,
 "nbformat_minor": 5
}
