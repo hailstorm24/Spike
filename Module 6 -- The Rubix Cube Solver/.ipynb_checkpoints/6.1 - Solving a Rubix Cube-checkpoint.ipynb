{
 "cells": [
  {
   "cell_type": "markdown",
   "id": "ff974b65",
   "metadata": {},
   "source": [
    "# Module 6.1: Solving a Rubix Cube!\n",
    "\n",
    "In Module 6, you will construct a robot to solve rubix cubes. To do this, we first must learn the steps required in solving a rubix cube. While you do not need to memorize any of the steps in this section, it will help you to follow along with your cube and keep this notebook handy as a reference."
   ]
  },
  {
   "cell_type": "markdown",
   "id": "7a7af966",
   "metadata": {},
   "source": [
    "### Creating the First Cross:\n"
   ]
  },
  {
   "cell_type": "markdown",
   "id": "72152e03",
   "metadata": {},
   "source": [
    "### Solving the First Corners:\n"
   ]
  },
  {
   "cell_type": "markdown",
   "id": "260d7ef8",
   "metadata": {},
   "source": [
    "### Solving the Second Layer:\n"
   ]
  },
  {
   "cell_type": "markdown",
   "id": "157d66c7",
   "metadata": {},
   "source": [
    "### Creating the Final Cross:"
   ]
  },
  {
   "cell_type": "markdown",
   "id": "6f157e21",
   "metadata": {},
   "source": [
    "### Solving the Final Corners:\n"
   ]
  },
  {
   "cell_type": "code",
   "execution_count": 41,
   "id": "bd40f185",
   "metadata": {},
   "outputs": [
    {
     "data": {
      "image/png": "[encoded data removed]",
      "text/plain": [
       "<PIL.Image.Image image mode=RGB size=210x210 at 0x10976F8E0>"
      ]
     },
     "metadata": {},
     "output_type": "display_data"
    },
    {
     "data": {
      "image/png": "[encoded data removed]",
      "text/plain": [
       "<PIL.Image.Image image mode=RGB size=210x210 at 0x10976F6D0>"
      ]
     },
     "metadata": {},
     "output_type": "display_data"
    }
   ],
   "source": [
    "img1 = cubeImage([[r,r,r,r,r,r,r,r,r],[w,w,w,w,w,w,w,w,w],[b,b,b,b,b,b,b,b,b],[y,y,y,y,y,y,y,y,y],[g,g,g,g,g,g,g,g,g],[o,o,o,o,o,o,o,o,o]])\n",
    "img2 = cubeImage([[r,r,r,r,r,r,r,r,r],[w,w,w,w,w,w,w,w,w],[b,b,b,b,b,b,b,b,b],[y,y,y,y,y,y,y,y,y],[g,g,g,g,g,g,g,g,g],[o,o,o,o,o,o,o,o,o]])\n",
    "display(img1,img2)"
   ]
  },
  {
   "cell_type": "markdown",
   "id": "e546fc2c",
   "metadata": {},
   "source": []
  }
 ],
 "metadata": {
  "kernelspec": {
   "display_name": "Python 3 (ipykernel)",
   "language": "python",
   "name": "python3"
  },
  "language_info": {
   "codemirror_mode": {
    "name": "ipython",
    "version": 3
   },
   "file_extension": ".py",
   "mimetype": "text/x-python",
   "name": "python",
   "nbconvert_exporter": "python",
   "pygments_lexer": "ipython3",
   "version": "3.9.1"
  }
 },
 "nbformat": 4,
 "nbformat_minor": 5
}
