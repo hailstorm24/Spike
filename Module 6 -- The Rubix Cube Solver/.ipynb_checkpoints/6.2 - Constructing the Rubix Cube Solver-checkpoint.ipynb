{
 "cells": [
  {
   "cell_type": "markdown",
   "id": "3c755056",
   "metadata": {},
   "source": [
    "# Module 6.2: Constructing the Rubix Cube Solver!"
   ]
  },
  {
   "cell_type": "markdown",
   "id": "d196a43b",
   "metadata": {},
   "source": [
    "### Designing the Machine:\n",
    "Create a set of mechanisms that, when working in conjunction, can manipulate your rubix cube. You will need mechanisms to:\n",
    "* Turn one face of the rubix cube\n",
    "* Rotate the entire cube on its x-axis\n",
    "* Rotate the entire cube on its y-axis\n",
    "\n",
    "While you do not need to incorperate it quite yet, you may want to consider how you will ultimately place a light sensor to read the color positioning on the cube, especially as you only have access to three motors."
   ]
  },
  {
   "cell_type": "markdown",
   "id": "a01d5f66",
   "metadata": {},
   "source": [
    "### Testing the Machine:\n",
    "\n",
    "Load the move function. Then, program the turnFace, rotateX, and rotateY functions. The resulting buttons should allow you to turn any face of the cube. "
   ]
  },
  {
   "cell_type": "code",
   "execution_count": 28,
   "id": "8f8cb8ad",
   "metadata": {},
   "outputs": [],
   "source": [
    "def move(port,rotations,speed):\n",
    "    moveCode = \"\"\"hub.port.\"\"\"+str(port)+\"\"\".motor.run_for_degrees(\"\"\"+str(360*rotations)+\"\"\", \"\"\"+str(speed)+\"\"\")\"\"\"\n",
    "    WriteSerial('\\x05')\n",
    "    WriteSerial(moveCode)\n",
    "    WriteSerial('\\x04')"
   ]
  },
  {
   "cell_type": "code",
   "execution_count": 29,
   "id": "08685ad0",
   "metadata": {},
   "outputs": [
    {
     "ename": "IndentationError",
     "evalue": "expected an indented block (1674191745.py, line 7)",
     "output_type": "error",
     "traceback": [
      "\u001b[0;36m  Input \u001b[0;32mIn [29]\u001b[0;36m\u001b[0m\n\u001b[0;31m    print(\"add code here!\")\u001b[0m\n\u001b[0m    ^\u001b[0m\n\u001b[0;31mIndentationError\u001b[0m\u001b[0;31m:\u001b[0m expected an indented block\n"
     ]
    }
   ],
   "source": [
    "def turnFace():\n",
    "    with rotateFace:\n",
    "        print(\"add code here!\")\n",
    "    \n",
    "def rotateX():\n",
    "    with xAxis:\n",
    "    print(\"add code here!\")\n",
    "    \n",
    "def rotateY():\n",
    "    with yAxis:\n",
    "        print(\"add code here!\")\n"
   ]
  },
  {
   "cell_type": "code",
   "execution_count": 31,
   "id": "b5fe3d85",
   "metadata": {},
   "outputs": [
    {
     "data": {
      "application/vnd.jupyter.widget-view+json": {
       "model_id": "aea138186acc4dbd9f72e2f267b21220",
       "version_major": 2,
       "version_minor": 0
      },
      "text/plain": [
       "Select(description='Select Port:', options=('/dev/cu.Bluetooth-Incoming-Port', '/dev/cu.LEGOHub30E283048E8E', …"
      ]
     },
     "metadata": {},
     "output_type": "display_data"
    },
    {
     "data": {
      "application/vnd.jupyter.widget-view+json": {
       "model_id": "4747c923252e4aa681662ce0c7e0237d",
       "version_major": 2,
       "version_minor": 0
      },
      "text/plain": [
       "Output()"
      ]
     },
     "metadata": {},
     "output_type": "display_data"
    },
    {
     "data": {
      "application/vnd.jupyter.widget-view+json": {
       "model_id": "60ec6a48f11040089d5d218c0d061d4d",
       "version_major": 2,
       "version_minor": 0
      },
      "text/plain": [
       "HBox(children=(Button(icon='loop', layout=Layout(height='40px', margin='0px 0px 0px 0px', padding='0px 0px 0px…"
      ]
     },
     "metadata": {},
     "output_type": "display_data"
    }
   ],
   "source": [
    "%run ./module_6_helper_functions.ipynb\n",
    "updatedPortList = search_for_ports()\n",
    "dropdown = widgets.Select(\n",
    "            options=updatedPortList,\n",
    "            description='Select Port:',\n",
    "            disabled=False)\n",
    "output2 = widgets.Output()\n",
    "display(dropdown, output2)\n",
    "dropdown.observe(on_value_change, names='value')\n",
    "controls()\n",
    "rotateFaceButton.on_click(turnFace)\n",
    "xAxisButton.on_click(rotateX)\n",
    "yAxisButton.on_click(rotateY)"
   ]
  },
  {
   "cell_type": "code",
   "execution_count": null,
   "id": "717e7194",
   "metadata": {},
   "outputs": [],
   "source": []
  }
 ],
 "metadata": {
  "kernelspec": {
   "display_name": "Python 3 (ipykernel)",
   "language": "python",
   "name": "python3"
  },
  "language_info": {
   "codemirror_mode": {
    "name": "ipython",
    "version": 3
   },
   "file_extension": ".py",
   "mimetype": "text/x-python",
   "name": "python",
   "nbconvert_exporter": "python",
   "pygments_lexer": "ipython3",
   "version": "3.9.1"
  }
 },
 "nbformat": 4,
 "nbformat_minor": 5
}
