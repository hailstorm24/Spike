{
 "cells": [
  {
   "cell_type": "markdown",
   "id": "754cc12a",
   "metadata": {},
   "source": [
    "# Module 6.2: Constructing the Rubix Cube Solver!"
   ]
  },
  {
   "cell_type": "markdown",
   "id": "65ce4fe9",
   "metadata": {},
   "source": [
    "### Designing the Machine:\n",
    "Create a set of mechanisms that, when working in conjunction, can manipulate your rubix cube. You will need mechanisms to:\n",
    "* Turn one face of the rubix cube\n",
    "* Rotate the entire cube on its x-axis\n",
    "* Rotate the entire cube on its y-axis\n",
    "\n",
    "While you do not need to incorperate it quite yet, you may want to consider how you will ultimately place a light sensor to read the color positioning on the cube, especially as you only have access to three motors."
   ]
  },
  {
   "cell_type": "markdown",
   "id": "94405ae4",
   "metadata": {},
   "source": [
    "### Testing the Machine:\n",
    "\n",
    "Load the move function. Then, program the turnFace, rotateX, and rotateY functions. The resulting buttons should allow you to turn any face of the cube. "
   ]
  },
  {
   "cell_type": "code",
   "execution_count": 2,
   "id": "5f63744c",
   "metadata": {},
   "outputs": [],
   "source": [
    "def move(port,rotations,speed):\n",
    "    moveCode = \"\"\"hub.port.\"\"\"+str(port)+\"\"\".motor.run_for_degrees(\"\"\"+str(360*rotations)+\"\"\", \"\"\"+str(speed)+\"\"\")\"\"\"\n",
    "    WriteSerial('\\x05')\n",
    "    WriteSerial(moveCode)\n",
    "    WriteSerial('\\x04')"
   ]
  },
  {
   "cell_type": "code",
   "execution_count": 3,
   "id": "509ac49f",
   "metadata": {},
   "outputs": [],
   "source": [
    "def turnFace(n):\n",
    "    print(\"add code here!\")\n",
    "    \n",
    "def rotateX(n):\n",
    "    print(\"add code here!\")\n",
    "    \n",
    "def rotateY(b):\n",
    "    print(\"add code here!\")"
   ]
  },
  {
   "cell_type": "code",
   "execution_count": 4,
   "id": "b8946ca1",
   "metadata": {},
   "outputs": [
    {
     "data": {
      "application/vnd.jupyter.widget-view+json": {
       "model_id": "236b399a8a2e41c2969989d896a4362f",
       "version_major": 2,
       "version_minor": 0
      },
      "text/plain": [
       "Select(description='Select Port:', options=('/dev/cu.Bluetooth-Incoming-Port', '/dev/cu.LEGOHub30E283048E8E', …"
      ]
     },
     "metadata": {},
     "output_type": "display_data"
    },
    {
     "data": {
      "application/vnd.jupyter.widget-view+json": {
       "model_id": "56485e99f4e6410b801f50c34b63f87f",
       "version_major": 2,
       "version_minor": 0
      },
      "text/plain": [
       "Output()"
      ]
     },
     "metadata": {},
     "output_type": "display_data"
    },
    {
     "data": {
      "application/vnd.jupyter.widget-view+json": {
       "model_id": "139fddab0f714563a205069f235648f7",
       "version_major": 2,
       "version_minor": 0
      },
      "text/plain": [
       "HBox(children=(Button(icon='rotate-right', layout=Layout(height='40px', margin='0px 0px 0px 0px', padding='0px…"
      ]
     },
     "metadata": {},
     "output_type": "display_data"
    },
    {
     "name": "stdout",
     "output_type": "stream",
     "text": [
      "add code here!\n",
      "add code here!\n",
      "add code here!\n",
      "add code here!\n",
      "add code here!\n",
      "add code here!\n"
     ]
    }
   ],
   "source": [
    "%run ./module_6_helper_functions.ipynb\n",
    "updatedPortList = search_for_ports()\n",
    "dropdown = widgets.Select(\n",
    "            options=updatedPortList,\n",
    "            description='Select Port:',\n",
    "            disabled=False)\n",
    "output2 = widgets.Output()\n",
    "display(dropdown, output2)\n",
    "dropdown.observe(on_value_change, names='value')\n",
    "controls()\n",
    "rotateFaceButton.on_click(turnFace)\n",
    "xAxisButton.on_click(rotateX)\n",
    "yAxisButton.on_click(rotateY)\n",
    "display((widgets.HBox((rotateFaceButton,xAxisButton,yAxisButton))))"
   ]
  },
  {
   "cell_type": "markdown",
   "id": "ed777b4d",
   "metadata": {},
   "source": [
    "Adjust the buttons until you are happy with how the rubix cube turns. You will use this code throughout the module, so be sure the cube moves smoothly. When you are ready to begin programming your machine to actually solve the cube, you may move on to the next section."
   ]
  }
 ],
 "metadata": {
  "kernelspec": {
   "display_name": "Python 3 (ipykernel)",
   "language": "python",
   "name": "python3"
  },
  "language_info": {
   "codemirror_mode": {
    "name": "ipython",
    "version": 3
   },
   "file_extension": ".py",
   "mimetype": "text/x-python",
   "name": "python",
   "nbconvert_exporter": "python",
   "pygments_lexer": "ipython3",
   "version": "3.9.1"
  }
 },
 "nbformat": 4,
 "nbformat_minor": 5
}
