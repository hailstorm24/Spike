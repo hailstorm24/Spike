{
 "cells": [
  {
   "cell_type": "markdown",
   "id": "b5b22f76",
   "metadata": {},
   "source": [
    "# Module 6.2: Constructing the Rubix Cube Solver!"
   ]
  },
  {
   "cell_type": "markdown",
   "id": "110b0312",
   "metadata": {},
   "source": [
    "### Designing the Machine:\n",
    "Create a set of mechanisms that, when working in conjunction, can manipulate your rubix cube. You will need mechanisms to:\n",
    "* Turn one face of the rubix cube\n",
    "* Rotate the entire cube on its x-axis\n",
    "* Rotate the entire cube on its y-axis\n",
    "\n",
    "While you do not need to incorperate it quite yet, you may want to consider how you will ultimately place a light sensor to read the color positioning on the cube, especially as you only have access to three motors."
   ]
  },
  {
   "cell_type": "markdown",
   "id": "7863b030",
   "metadata": {},
   "source": [
    "### Testing the Machine:\n",
    "\n",
    "Load the move function. Then, program the turnFace, rotateX, and rotateY functions. The resulting buttons should allow you to turn any face of the cube. "
   ]
  },
  {
   "cell_type": "code",
   "execution_count": 28,
   "id": "9a1a2184",
   "metadata": {},
   "outputs": [],
   "source": [
    "def move(port,rotations,speed):\n",
    "    moveCode = \"\"\"hub.port.\"\"\"+str(port)+\"\"\".motor.run_for_degrees(\"\"\"+str(360*rotations)+\"\"\", \"\"\"+str(speed)+\"\"\")\"\"\"\n",
    "    WriteSerial('\\x05')\n",
    "    WriteSerial(moveCode)\n",
    "    WriteSerial('\\x04')"
   ]
  },
  {
   "cell_type": "code",
   "execution_count": 38,
   "id": "1a73253a",
   "metadata": {},
   "outputs": [],
   "source": [
    "def turnFace():\n",
    "     print(\"add code here!\")\n",
    "    \n",
    "def rotateX():\n",
    "    with xAxis:\n",
    "        print(\"add code here!\")\n",
    "    \n",
    "def rotateY():\n",
    "    with yAxis:\n",
    "        print(\"add code here!\")\n"
   ]
  },
  {
   "cell_type": "code",
   "execution_count": 39,
   "id": "dac7e215",
   "metadata": {},
   "outputs": [
    {
     "data": {
      "application/vnd.jupyter.widget-view+json": {
       "model_id": "7d72e97db9444fde98adcb543171191d",
       "version_major": 2,
       "version_minor": 0
      },
      "text/plain": [
       "Select(description='Select Port:', options=('/dev/cu.Bluetooth-Incoming-Port', '/dev/cu.LEGOHub30E283048E8E', …"
      ]
     },
     "metadata": {},
     "output_type": "display_data"
    },
    {
     "data": {
      "application/vnd.jupyter.widget-view+json": {
       "model_id": "d3ceecd8dc6d4564807138232edc0f6e",
       "version_major": 2,
       "version_minor": 0
      },
      "text/plain": [
       "Output()"
      ]
     },
     "metadata": {},
     "output_type": "display_data"
    },
    {
     "data": {
      "application/vnd.jupyter.widget-view+json": {
       "model_id": "7b603afeb23a441b82f6ac5890323bb6",
       "version_major": 2,
       "version_minor": 0
      },
      "text/plain": [
       "HBox(children=(Button(icon='rotate-right', layout=Layout(height='40px', margin='0px 0px 0px 0px', padding='0px…"
      ]
     },
     "metadata": {},
     "output_type": "display_data"
    },
    {
     "ename": "TypeError",
     "evalue": "turnFace() takes 0 positional arguments but 1 was given",
     "output_type": "error",
     "traceback": [
      "\u001b[0;31m---------------------------------------------------------------------------\u001b[0m",
      "\u001b[0;31mTypeError\u001b[0m                                 Traceback (most recent call last)",
      "\u001b[0;31mTypeError\u001b[0m: turnFace() takes 0 positional arguments but 1 was given"
     ]
    }
   ],
   "source": [
    "%run ./module_6_helper_functions.ipynb\n",
    "updatedPortList = search_for_ports()\n",
    "dropdown = widgets.Select(\n",
    "            options=updatedPortList,\n",
    "            description='Select Port:',\n",
    "            disabled=False)\n",
    "output2 = widgets.Output()\n",
    "display(dropdown, output2)\n",
    "dropdown.observe(on_value_change, names='value')\n",
    "controls()\n",
    "rotateFaceButton.on_click(turnFace)\n",
    "xAxisButton.on_click(rotateX)\n",
    "yAxisButton.on_click(rotateY)"
   ]
  },
  {
   "cell_type": "code",
   "execution_count": null,
   "id": "322fb84d",
   "metadata": {},
   "outputs": [],
   "source": []
  }
 ],
 "metadata": {
  "kernelspec": {
   "display_name": "Python 3 (ipykernel)",
   "language": "python",
   "name": "python3"
  },
  "language_info": {
   "codemirror_mode": {
    "name": "ipython",
    "version": 3
   },
   "file_extension": ".py",
   "mimetype": "text/x-python",
   "name": "python",
   "nbconvert_exporter": "python",
   "pygments_lexer": "ipython3",
   "version": "3.9.1"
  }
 },
 "nbformat": 4,
 "nbformat_minor": 5
}
