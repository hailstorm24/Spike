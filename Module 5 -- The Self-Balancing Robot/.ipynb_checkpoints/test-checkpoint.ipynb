{
 "cells": [
  {
   "cell_type": "code",
   "execution_count": null,
   "id": "d8107984",
   "metadata": {},
   "outputs": [],
   "source": [
    "%run ../Module\\ 2\\ --\\ The\\ Elevator/module_2_helper_functions.ipynb\n",
    "updatedPortList = search_for_ports()\n",
    "dropdown = widgets.Select(\n",
    "            options=updatedPortList,\n",
    "            description='Select Port:',\n",
    "            disabled=False)\n",
    "output2 = widgets.Output()\n",
    "display(dropdown, output2)\n",
    "dropdown.observe(on_value_change, names='value')\n",
    "# the move function turns a motor for a specified number of rotations\n",
    "def move(port,rotations,speed): # takes the port letter (ex. 'A'), number of motor rotations, and speed (between -100 and 100) as parameters\n",
    "    moveCode = \"\"\"hub.port.\"\"\"+str(port)+\"\"\".motor.run_for_degrees(\"\"\"+str(360*rotations)+\"\"\", \"\"\"+str(speed)+\"\"\")\"\"\"\n",
    "    WriteSerial('\\x05')\n",
    "    WriteSerial(moveCode)\n",
    "    WriteSerial('\\x04')\n",
    "\n",
    "# the buttonPressed function returns true/false depending on whether or not the button has been pressed recently\n",
    "def buttonPressed(buttonType): # only parameter is the button (\"left\" or \"right\")\n",
    "    if(buttonType==\"right\"):\n",
    "        buttonCode = \"\"\"print(hub.button.right.was_pressed())\"\"\"\n",
    "    elif(buttonType==\"left\"):\n",
    "        buttonCode = \"\"\"print(hub.button.left.was_pressed())\"\"\"\n",
    "    WriteSerial('\\x05')\n",
    "    WriteSerial(buttonCode)\n",
    "    WriteSerial('\\x04')\n",
    "    responses = ReadSerial()\n",
    "    if(\"True\" in responses):\n",
    "        return True\n",
    "    else:\n",
    "        return False\n",
    "    \n",
    "# hub.motion.gyroscope()\n",
    "\n",
    "# hub.motion.position()\n",
    "\n",
    "# hub.motion.orientation()\n",
    "\n",
    "def getGyroData():\n",
    "    functions = \"\"\"hub.motion.gyroscope()\"\"\"\n",
    "    WriteSerial('\\x05')\n",
    "    WriteSerial(functions)\n",
    "    WriteSerial('\\x04')\n",
    "    time.sleep(0.1)\n",
    "    responses = ReadSerial()\n",
    "    return responses.split(\"\\n\")[-2]\n"
   ]
  },
  {
   "cell_type": "code",
   "execution_count": null,
   "id": "d344555b",
   "metadata": {},
   "outputs": [],
   "source": [
    "running = True\n",
    "speed = 0\n",
    "while(running):\n",
    "    if(buttonPressed(\"left\")):\n",
    "        print(\"AAAA\")\n",
    "        running = False\n",
    "    try:\n",
    "        gyro = getGyroData()\n",
    "    except:\n",
    "        running = False\n",
    "        move('C',1,0)\n",
    "        move('D',1,-(0))\n",
    "    print(gyro)\n",
    "    pos = gyro[1:gyro.index(',')]\n",
    "    speed = 0.05*int(pos)*abs(int(pos))\n",
    "    move('C',1,speed)\n",
    "    move('D',1,-(speed))"
   ]
  },
  {
   "cell_type": "code",
   "execution_count": null,
   "id": "52cc1af4",
   "metadata": {},
   "outputs": [],
   "source": []
  }
 ],
 "metadata": {
  "kernelspec": {
   "display_name": "Python 3 (ipykernel)",
   "language": "python",
   "name": "python3"
  },
  "language_info": {
   "codemirror_mode": {
    "name": "ipython",
    "version": 3
   },
   "file_extension": ".py",
   "mimetype": "text/x-python",
   "name": "python",
   "nbconvert_exporter": "python",
   "pygments_lexer": "ipython3",
   "version": "3.9.1"
  }
 },
 "nbformat": 4,
 "nbformat_minor": 5
}
