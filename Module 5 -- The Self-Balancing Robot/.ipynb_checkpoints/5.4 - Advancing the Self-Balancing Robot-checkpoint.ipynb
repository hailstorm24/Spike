{
 "cells": [
  {
   "cell_type": "markdown",
   "id": "e2748839",
   "metadata": {},
   "source": [
    "# Module 5.4: Advancing the Self-Balancing Robot!"
   ]
  },
  {
   "cell_type": "markdown",
   "id": "ba835825",
   "metadata": {},
   "source": [
    "## Designing a More Complex Robot:\n",
    "\n",
    "Modify (or entirely reconstruct) your robot so that it balances and accomplishes a task. You must include at least one additional sensor in your design (a force, light, or distance sensor).\n",
    "\n",
    "A few ideas:\n",
    "* Build a self-balancing robot that uses a color sensor to follow a line.\n",
    "* Create a self-balancing bicycle that turns to prevent falling and uses a distance sensor to avoid objects\n",
    "* Construct a robot that balances an object in a basket and uses a force sensor to adjust the self-balancing algorithm based on the mass of the object\n",
    "* Come up with an idea of your choosing with similar complexity!"
   ]
  },
  {
   "cell_type": "markdown",
   "id": "96493269",
   "metadata": {},
   "source": [
    "## Updating the Self-Balancing Algorithm:"
   ]
  },
  {
   "cell_type": "markdown",
   "id": "9f52ad0d",
   "metadata": {},
   "source": [
    "Run the following code to connect to SPIKE."
   ]
  },
  {
   "cell_type": "code",
   "execution_count": null,
   "id": "52ef352d",
   "metadata": {},
   "outputs": [],
   "source": [
    "%run ./module_5_helper_functions.ipynb\n",
    "updatedPortList = search_for_ports()\n",
    "dropdown = widgets.Select(\n",
    "            options=updatedPortList,\n",
    "            description='Select Port:',\n",
    "            disabled=False)\n",
    "output2 = widgets.Output()\n",
    "display(dropdown, output2)\n",
    "dropdown.observe(on_value_change, names='value')"
   ]
  },
  {
   "cell_type": "markdown",
   "id": "3e6a5340",
   "metadata": {},
   "source": [
    "Load the functions below."
   ]
  },
  {
   "cell_type": "code",
   "execution_count": null,
   "id": "5dfb0237",
   "metadata": {},
   "outputs": [],
   "source": [
    "def move(port,speed):\n",
    "    moveCode = \"\"\"hub.port.\"\"\"+str(port)+\"\"\".motor.pwm(\"\"\"+str(speed)+\"\"\")\"\"\"\n",
    "    WriteSerial('\\x05')\n",
    "    WriteSerial(moveCode)\n",
    "    WriteSerial('\\x04')\n",
    "\n",
    "def getGyroData():\n",
    "    functions = \"\"\"hub.motion.gyroscope()\"\"\"\n",
    "    WriteSerial('\\x05')\n",
    "    WriteSerial(functions)\n",
    "    WriteSerial('\\x04')\n",
    "    time.sleep(0.05)\n",
    "    response = ReadSerial()\n",
    "    return [eval(i) for i in response.split(\"\\n\")[-2][1:-2].split(\", \")]\n",
    "\n",
    "def buttonPressed(buttonType): # only parameter is the button (\"left\" or \"right\"), returns a boolean (true/false)\n",
    "    if(buttonType==\"right\"):\n",
    "        buttonCode = \"\"\"print(hub.button.right.was_pressed())\"\"\"\n",
    "    elif(buttonType==\"left\"):\n",
    "        buttonCode = \"\"\"print(hub.button.left.was_pressed())\"\"\"\n",
    "    WriteSerial('\\x05')\n",
    "    WriteSerial(buttonCode)\n",
    "    WriteSerial('\\x04')\n",
    "    responses = ReadSerial()\n",
    "    if(\"True\" in responses):\n",
    "        return True\n",
    "    else:\n",
    "        return False\n",
    "\n",
    "def beep(frequency,length):\n",
    "    functions = \"\"\"hub.sound.beep(\"\"\"+str(frequency)+\"\"\", \"\"\"+str(length*1000)+\"\"\", 3)\"\"\"\n",
    "    WriteSerial('\\x05')\n",
    "    WriteSerial(functions)\n",
    "    WriteSerial('\\x04')\n",
    "    \n",
    "def showPixel(x,y):\n",
    "    pixelCode = \"\"\"hub.display.pixel(\"\"\"+str(x)+\"\"\",\"\"\"+str(y)+\"\"\",9)\"\"\"\n",
    "    WriteSerial('\\x05')\n",
    "    WriteSerial(pixelCode)\n",
    "    WriteSerial('\\x04')\n",
    "\n",
    "def clearDisplay():\n",
    "    clearCode = \"\"\"hub.display.clear()\"\"\"\n",
    "    WriteSerial('\\x05')\n",
    "    WriteSerial(clearCode)\n",
    "    WriteSerial('\\x04')\n",
    "\n",
    "def setupLightSensor(port): # defines light sensor based on port letter (ex. 'A')\n",
    "    WriteSerial('import hub\\r\\n')\n",
    "    WriteSerial('light_sensor = hub.port.'+str(port)+'.device\\r\\n')\n",
    "\n",
    "def getRGB(): # returns an array of RGB values measured\n",
    "    return(int(color(2)/1024*255),int(color(3)/1024*255),int(color(4)/1024*255))\n",
    "\n",
    "def setupDistanceSensor(port): # defines distance sensor based on port letter (ex. 'A')\n",
    "    WriteSerial('import hub\\r\\n')\n",
    "    WriteSerial('sonic_sensor = hub.port.'+str(port)+'.device\\r\\n')\n",
    "    \n",
    "def read_distance(): # returns the distance measured as an integer\n",
    "    WriteSerial('print(sonic_sensor.get()[0])\\r\\n')\n",
    "    return(int(read().split('\\r\\n')[-2]))\n",
    "\n",
    "def setupForceSensor(port): # defines force sensor based on port letter (ex. 'A')\n",
    "    WriteSerial('import hub\\r\\n')\n",
    "    WriteSerial('force_sensor = hub.port.'+str(port)+'.device\\r\\n')\n",
    "\n",
    "def read_force(): # returns the force measured as an integer\n",
    "    WriteSerial('print(force_sensor.get()[0])\\r\\n')\n",
    "    return(int(read().split('\\r\\n')[-2]))"
   ]
  },
  {
   "cell_type": "markdown",
   "id": "82743a3b",
   "metadata": {},
   "source": [
    "Use the programming knowledge that you have accumulated throughout the first five modules to integrate the gyro and at least one other sensor into your robot code."
   ]
  },
  {
   "cell_type": "code",
   "execution_count": null,
   "id": "13905ed6",
   "metadata": {},
   "outputs": [],
   "source": [
    "# write and run your code here!"
   ]
  },
  {
   "cell_type": "markdown",
   "id": "72e1f09d",
   "metadata": {},
   "source": [
    "### Congratulations, you've completed the fifth module! \n",
    "When you are finished with your robot, disassemble it. You're now ready to move on to the final module! "
   ]
  }
 ],
 "metadata": {
  "kernelspec": {
   "display_name": "Python 3 (ipykernel)",
   "language": "python",
   "name": "python3"
  },
  "language_info": {
   "codemirror_mode": {
    "name": "ipython",
    "version": 3
   },
   "file_extension": ".py",
   "mimetype": "text/x-python",
   "name": "python",
   "nbconvert_exporter": "python",
   "pygments_lexer": "ipython3",
   "version": "3.9.1"
  }
 },
 "nbformat": 4,
 "nbformat_minor": 5
}
