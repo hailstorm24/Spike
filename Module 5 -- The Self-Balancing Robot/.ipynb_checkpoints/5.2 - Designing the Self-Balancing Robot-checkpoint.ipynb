{
 "cells": [
  {
   "cell_type": "markdown",
   "id": "8edf8973",
   "metadata": {},
   "source": [
    "# Module 5.2: Designing the Self-Balancing Robot!"
   ]
  },
  {
   "cell_type": "markdown",
   "id": "47c7d64f",
   "metadata": {},
   "source": [
    "### Constructing the Robot:\n",
    "\n",
    "Construct a robot that balances on a single set of wheels.\n",
    "\n",
    "Some specifics:\n",
    "\n",
    "* The robot can have as many or as few wheels as you wish, but the wheels must turn around a single line (you cannot place one wheel in front of another).\n",
    "* The robot may use either one or two motors to power the wheels.\n",
    "* When upright, the wheels should be the only part of the robot contacting the ground -- the robot should not be able to balance."
   ]
  },
  {
   "cell_type": "markdown",
   "id": "bfa151d2",
   "metadata": {},
   "source": [
    "### Controlling the Robot:\n",
    "\n",
    "Plug the motors into ports A and B and control using the buttons below."
   ]
  },
  {
   "cell_type": "code",
   "execution_count": 3,
   "id": "3a05872a",
   "metadata": {},
   "outputs": [
    {
     "data": {
      "application/vnd.jupyter.widget-view+json": {
       "model_id": "73e04f1d23af477f852be0c72a0e14e7",
       "version_major": 2,
       "version_minor": 0
      },
      "text/plain": [
       "Select(description='Select Port:', options=('/dev/cu.Bluetooth-Incoming-Port',), value='/dev/cu.Bluetooth-Inco…"
      ]
     },
     "metadata": {},
     "output_type": "display_data"
    },
    {
     "data": {
      "application/vnd.jupyter.widget-view+json": {
       "model_id": "32ab2a81dfa849849a06f9b9f2538fc5",
       "version_major": 2,
       "version_minor": 0
      },
      "text/plain": [
       "Output()"
      ]
     },
     "metadata": {},
     "output_type": "display_data"
    },
    {
     "data": {
      "application/vnd.jupyter.widget-view+json": {
       "model_id": "d307be207e1b45f58a512ece39c4cfd1",
       "version_major": 2,
       "version_minor": 0
      },
      "text/plain": [
       "VBox(children=(HBox(children=(Button(icon='arrow-up', layout=Layout(height='40px', margin='0px 0px 0px 0px', p…"
      ]
     },
     "metadata": {},
     "output_type": "display_data"
    }
   ],
   "source": [
    "%run ./module_5_helper_functions.ipynb\n",
    "updatedPortList = search_for_ports()\n",
    "dropdown = widgets.Select(\n",
    "            options=updatedPortList,\n",
    "            description='Select Port:',\n",
    "            disabled=False)\n",
    "output2 = widgets.Output()\n",
    "display(dropdown, output2)\n",
    "dropdown.observe(on_value_change2, names='value')\n",
    "botControls()"
   ]
  }
 ],
 "metadata": {
  "kernelspec": {
   "display_name": "Python 3 (ipykernel)",
   "language": "python",
   "name": "python3"
  },
  "language_info": {
   "codemirror_mode": {
    "name": "ipython",
    "version": 3
   },
   "file_extension": ".py",
   "mimetype": "text/x-python",
   "name": "python",
   "nbconvert_exporter": "python",
   "pygments_lexer": "ipython3",
   "version": "3.9.1"
  }
 },
 "nbformat": 4,
 "nbformat_minor": 5
}
