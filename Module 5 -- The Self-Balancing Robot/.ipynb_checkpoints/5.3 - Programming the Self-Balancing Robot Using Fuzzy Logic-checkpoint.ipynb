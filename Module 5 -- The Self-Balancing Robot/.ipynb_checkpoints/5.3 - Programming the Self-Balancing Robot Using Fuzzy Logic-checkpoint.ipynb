{
 "cells": [
  {
   "cell_type": "markdown",
   "id": "978eaf9b",
   "metadata": {},
   "source": [
    "# Module 5.3: Programming the Self-Balancing Robot Using Fuzzy Logic"
   ]
  },
  {
   "cell_type": "markdown",
   "id": "a3366ad2",
   "metadata": {},
   "source": [
    "In this section, we will learn about and utilize fuzzy logic to program the robot to self-balance. As always, you will need to edit and write code directly in the notebook's cells -- if you would like to show or hide a cell, double click the space to it's left; to edit a cell, simply double click it. "
   ]
  },
  {
   "cell_type": "markdown",
   "id": "f655d29c",
   "metadata": {},
   "source": [
    "Run the following code and connect to your SPIKE hub."
   ]
  },
  {
   "cell_type": "code",
   "execution_count": null,
   "id": "6dbfc464",
   "metadata": {},
   "outputs": [],
   "source": [
    "%run ./module_5_helper_functions.ipynb\n",
    "updatedPortList = search_for_ports()\n",
    "dropdown = widgets.Select(\n",
    "            options=updatedPortList,\n",
    "            description='Select Port:',\n",
    "            disabled=False)\n",
    "output2 = widgets.Output()\n",
    "display(dropdown, output2)\n",
    "dropdown.observe(on_value_change, names='value')"
   ]
  },
  {
   "cell_type": "markdown",
   "id": "d6a7ff39",
   "metadata": {},
   "source": [
    "Run the cell to load the motion function that allows us to control your SPIKE hub. This is one of the functions we have been using in past modules -- it turns a motor on, taking the port letter and speed (between -100 and 100) as parameters. For example, *move ('A', 15)* would rotate the motor at port A to a speed of 15."
   ]
  },
  {
   "cell_type": "code",
   "execution_count": null,
   "id": "558ea2ef",
   "metadata": {},
   "outputs": [],
   "source": [
    "def move(port,speed):\n",
    "    moveCode = \"\"\"hub.port.\"\"\"+str(port)+\"\"\".motor.pwm(\"\"\"+str(speed)+\"\"\")\"\"\"\n",
    "    WriteSerial('\\x05')\n",
    "    WriteSerial(moveCode)\n",
    "    WriteSerial('\\x04')"
   ]
  },
  {
   "cell_type": "markdown",
   "id": "06cbb9f3",
   "metadata": {},
   "source": [
    "Start by creating two helper functions: a moveForward and a moveBackward function, both with speed as a parameter."
   ]
  },
  {
   "cell_type": "code",
   "execution_count": null,
   "id": "da10c00d",
   "metadata": {},
   "outputs": [],
   "source": [
    "# write and run your code here!"
   ]
  },
  {
   "cell_type": "markdown",
   "id": "e7dd1089",
   "metadata": {},
   "source": [
    "Now, load the following function that will allow you to access data from the hub's built-in gyroscope."
   ]
  },
  {
   "cell_type": "code",
   "execution_count": null,
   "id": "38a5de11",
   "metadata": {},
   "outputs": [],
   "source": [
    "def getGyroData():\n",
    "    functions = \"\"\"hub.motion.gyroscope()\"\"\"\n",
    "    WriteSerial('\\x05')\n",
    "    WriteSerial(functions)\n",
    "    WriteSerial('\\x04')\n",
    "    time.sleep(0.05)\n",
    "    response = ReadSerial()\n",
    "    return [eval(i) for i in response.split(\"\\n\")[-2][1:-2].split(\", \")]"
   ]
  },
  {
   "cell_type": "markdown",
   "id": "6447143a",
   "metadata": {},
   "source": [
    "If you would like to use any of the following functions that have been introduced in past modules, load the cell below as well."
   ]
  },
  {
   "cell_type": "code",
   "execution_count": null,
   "id": "b9dfa030",
   "metadata": {},
   "outputs": [],
   "source": [
    "def buttonPressed(buttonType): # only parameter is the button (\"left\" or \"right\"), returns a boolean (true/false)\n",
    "    if(buttonType==\"right\"):\n",
    "        buttonCode = \"\"\"print(hub.button.right.was_pressed())\"\"\"\n",
    "    elif(buttonType==\"left\"):\n",
    "        buttonCode = \"\"\"print(hub.button.left.was_pressed())\"\"\"\n",
    "    WriteSerial('\\x05')\n",
    "    WriteSerial(buttonCode)\n",
    "    WriteSerial('\\x04')\n",
    "    responses = ReadSerial()\n",
    "    if(\"True\" in responses):\n",
    "        return True\n",
    "    else:\n",
    "        return False\n",
    "\n",
    "def beep(frequency,length):\n",
    "    functions = \"\"\"hub.sound.beep(\"\"\"+str(frequency)+\"\"\", \"\"\"+str(length*1000)+\"\"\", 3)\"\"\"\n",
    "    WriteSerial('\\x05')\n",
    "    WriteSerial(functions)\n",
    "    WriteSerial('\\x04')\n",
    "    \n",
    "def showPixel(x,y):\n",
    "    pixelCode = \"\"\"hub.display.pixel(\"\"\"+str(x)+\"\"\",\"\"\"+str(y)+\"\"\",9)\"\"\"\n",
    "    WriteSerial('\\x05')\n",
    "    WriteSerial(pixelCode)\n",
    "    WriteSerial('\\x04')\n",
    "\n",
    "def clearDisplay():\n",
    "    clearCode = \"\"\"hub.display.clear()\"\"\"\n",
    "    WriteSerial('\\x05')\n",
    "    WriteSerial(clearCode)\n",
    "    WriteSerial('\\x04')"
   ]
  },
  {
   "cell_type": "markdown",
   "id": "9c2844d1",
   "metadata": {},
   "source": [
    "In the cell below, program a self-balancing algorithm for your robot. You will want a loop with an exit condition (either loop for a number of iterations or until a button is pressed), within which you adjust the speed of the wheels. To keep the robot upright at any one point, move in the direction that the robot is tipping: the wheels need to stay directly under the body of the robot for it to remain balanced.\n",
    "\n",
    "Up until this module, we have almost exclusively been using boolean logic, which fits a pattern of \"if True, do Something; if False, do Something Else\". However, to program the self-balancing robot, you will want to incorporate fuzzy logic into your algorithm; rather than simply powering the wheels based on which direction the robot is falling in, you will want to power the wheels based on how quickly the robot is falling, adjusting more significantly when (and only when) the robot needs more significant adjustment."
   ]
  },
  {
   "cell_type": "code",
   "execution_count": null,
   "id": "434d9ccc",
   "metadata": {},
   "outputs": [],
   "source": [
    "# write and run your code here!"
   ]
  },
  {
   "cell_type": "markdown",
   "id": "80b38624",
   "metadata": {},
   "source": [
    "Below are some extension questions to consider as you try to improve your self-balancing algorithm — if you are unfamiliar with the concepts mentioned but would like to explore them, use the internet as a resource!\n",
    "* Consider the nature of the relationship between the angular velocity that the gyroscope reports and the speed that the wheels are powered at. Is it linear? Exponential? What sort of relationship would be best?\n",
    "* How does the location of the robot's center of gravity impact your balancing algorithm? How could you adapt the robot's design for it to balance better?\n",
    "* Consider the nature of the relationship between the angular velocity that the gyroscope reports and the speed that the wheels are powered at. Is be defined by a linear function? A quadratic function? An exponential one? What sort of relationship would be best?\n",
    "* How might taking the integral of the rotational velocity help you adjust more accurately?"
   ]
  },
  {
   "cell_type": "markdown",
   "id": "811f81fe",
   "metadata": {},
   "source": [
    "When your robot can remain balanced sufficiently, you may continue to the next section!"
   ]
  }
 ],
 "metadata": {
  "kernelspec": {
   "display_name": "Python 3 (ipykernel)",
   "language": "python",
   "name": "python3"
  },
  "language_info": {
   "codemirror_mode": {
    "name": "ipython",
    "version": 3
   },
   "file_extension": ".py",
   "mimetype": "text/x-python",
   "name": "python",
   "nbconvert_exporter": "python",
   "pygments_lexer": "ipython3",
   "version": "3.9.1"
  }
 },
 "nbformat": 4,
 "nbformat_minor": 5
}
