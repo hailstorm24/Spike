{
 "cells": [
  {
   "cell_type": "markdown",
   "id": "978eaf9b",
   "metadata": {},
   "source": [
    "# Module 5.3: Programming the Self-Balancing Robot Using Fuzzy Logic"
   ]
  },
  {
   "cell_type": "markdown",
   "id": "a3366ad2",
   "metadata": {},
   "source": [
    "In this section, we will learn about and utilize fuzzy logic to program the robot. As always, you will need to edit and write code directly in the notebook's cells -- if you would like to show or hide a cell, double click the space to it's left; to edit a cell, simply double click it. "
   ]
  },
  {
   "cell_type": "markdown",
   "id": "f655d29c",
   "metadata": {},
   "source": [
    "Run the following code and connect to your SPIKE hub."
   ]
  },
  {
   "cell_type": "code",
   "execution_count": 1,
   "id": "6dbfc464",
   "metadata": {},
   "outputs": [
    {
     "data": {
      "application/vnd.jupyter.widget-view+json": {
       "model_id": "24c20758fe434287bfa637c20a04b73c",
       "version_major": 2,
       "version_minor": 0
      },
      "text/plain": [
       "Select(description='Select Port:', options=('/dev/cu.Bluetooth-Incoming-Port',), value='/dev/cu.Bluetooth-Inco…"
      ]
     },
     "metadata": {},
     "output_type": "display_data"
    },
    {
     "data": {
      "application/vnd.jupyter.widget-view+json": {
       "model_id": "23169e724a0140e89be8d389f1716a6f",
       "version_major": 2,
       "version_minor": 0
      },
      "text/plain": [
       "Output()"
      ]
     },
     "metadata": {},
     "output_type": "display_data"
    }
   ],
   "source": [
    "%run ./module_5_helper_functions.ipynb\n",
    "updatedPortList = search_for_ports()\n",
    "dropdown = widgets.Select(\n",
    "            options=updatedPortList,\n",
    "            description='Select Port:',\n",
    "            disabled=False)\n",
    "output2 = widgets.Output()\n",
    "display(dropdown, output2)\n",
    "dropdown.observe(on_value_change, names='value')"
   ]
  },
  {
   "cell_type": "markdown",
   "id": "d6a7ff39",
   "metadata": {},
   "source": [
    "Run the cell to load the motion function that allows us to control your SPIKE hub. This is one of the functions we have been using in past modules -- it turns a motor on, taking the port letter and speed (between -100 and 100) as parameters. For example, *move ('A', 15)* would rotate the motor at port A to a speed of 15."
   ]
  },
  {
   "cell_type": "code",
   "execution_count": 2,
   "id": "558ea2ef",
   "metadata": {},
   "outputs": [],
   "source": [
    "def move(port,speed):\n",
    "    moveCode = \"\"\"hub.port.\"\"\"+str(port)+\"\"\".motor.pwm(\"\"\"+str(speed)+\"\"\")\"\"\"\n",
    "    WriteSerial('\\x05')\n",
    "    WriteSerial(moveCode)\n",
    "    WriteSerial('\\x04')"
   ]
  },
  {
   "cell_type": "markdown",
   "id": "06cbb9f3",
   "metadata": {},
   "source": [
    "Start by creating two helper functions: a moveForward and a moveBackward function, both with speed as a parameter."
   ]
  },
  {
   "cell_type": "code",
   "execution_count": null,
   "id": "da10c00d",
   "metadata": {},
   "outputs": [],
   "source": []
  },
  {
   "cell_type": "markdown",
   "id": "e7dd1089",
   "metadata": {},
   "source": [
    "Now, load the following function that will allow you to access data from the hub's built-in gyroscope."
   ]
  },
  {
   "cell_type": "code",
   "execution_count": null,
   "id": "38a5de11",
   "metadata": {},
   "outputs": [],
   "source": [
    "def getGyroData():\n",
    "    functions = \"\"\"hub.motion.gyroscope()\"\"\"\n",
    "    WriteSerial('\\x05')\n",
    "    WriteSerial(functions)\n",
    "    WriteSerial('\\x04')\n",
    "    time.sleep(0.1)\n",
    "    response = ReadSerial()\n",
    "    return response.split(\"\\n\")[-2]"
   ]
  }
 ],
 "metadata": {
  "kernelspec": {
   "display_name": "Python 3 (ipykernel)",
   "language": "python",
   "name": "python3"
  },
  "language_info": {
   "codemirror_mode": {
    "name": "ipython",
    "version": 3
   },
   "file_extension": ".py",
   "mimetype": "text/x-python",
   "name": "python",
   "nbconvert_exporter": "python",
   "pygments_lexer": "ipython3",
   "version": "3.9.1"
  }
 },
 "nbformat": 4,
 "nbformat_minor": 5
}
