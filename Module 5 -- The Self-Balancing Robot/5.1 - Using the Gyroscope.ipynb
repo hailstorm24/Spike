{
 "cells": [
  {
   "cell_type": "markdown",
   "id": "61b77600",
   "metadata": {},
   "source": [
    "# Module 5.1: Using the Gyroscope!\n",
    "\n",
    "Gyroscopes measure rotational velocity along the x, y, and z axes. In Module 5, you will utilize the SPIKE Prime's built-in gyroscope to program a self-balancing robot. In order to accomplish this, we must first explore interpreting gyroscope data."
   ]
  },
  {
   "cell_type": "markdown",
   "id": "aec8eb3d",
   "metadata": {},
   "source": [
    "Run the following code and connect your SPIKE hub."
   ]
  },
  {
   "cell_type": "code",
   "execution_count": null,
   "id": "786d5ec0",
   "metadata": {},
   "outputs": [],
   "source": [
    "%run ./module_5_helper_functions.ipynb\n",
    "updatedPortList = search_for_ports()\n",
    "dropdown = widgets.Select(\n",
    "            options=updatedPortList,\n",
    "            description='Select Port:',\n",
    "            disabled=False)\n",
    "output2 = widgets.Output()\n",
    "display(dropdown, output2)\n",
    "dropdown.observe(on_value_change, names='value')"
   ]
  },
  {
   "cell_type": "markdown",
   "id": "d750d90d",
   "metadata": {},
   "source": [
    "Next, load the following function so that we can gather data from the gyroscope."
   ]
  },
  {
   "cell_type": "code",
   "execution_count": null,
   "id": "7631a905",
   "metadata": {},
   "outputs": [],
   "source": [
    "def getGyroData():\n",
    "    functions = \"\"\"hub.motion.gyroscope()\"\"\"\n",
    "    WriteSerial('\\x05')\n",
    "    WriteSerial(functions)\n",
    "    WriteSerial('\\x04')\n",
    "    time.sleep(0.1)\n",
    "    response = ReadSerial()\n",
    "    return [eval(i) for i in response.split(\"\\n\")[-2][1:-2].split(\", \")]"
   ]
  },
  {
   "cell_type": "markdown",
   "id": "0bf7887b",
   "metadata": {},
   "source": [
    "Try calling the getGyroData function. What values does it output? What do these values represent? Can you print values with respect to only the y-axis?"
   ]
  },
  {
   "cell_type": "code",
   "execution_count": null,
   "id": "bcb9e42a",
   "metadata": {},
   "outputs": [],
   "source": [
    "# write and run your code here!"
   ]
  },
  {
   "cell_type": "markdown",
   "id": "8fd7ace0",
   "metadata": {},
   "source": [
    "The beep function takes a frequency and length in seconds as parameters and plays the corresponding tone. Run the cell below to load it."
   ]
  },
  {
   "cell_type": "code",
   "execution_count": null,
   "id": "1d985f8c",
   "metadata": {},
   "outputs": [],
   "source": [
    "def beep(frequency,length):\n",
    "    functions = \"\"\"hub.sound.beep(\"\"\"+str(frequency)+\"\"\", \"\"\"+str(length*1000)+\"\"\", 3)\"\"\"\n",
    "    WriteSerial('\\x05')\n",
    "    WriteSerial(functions)\n",
    "    WriteSerial('\\x04')"
   ]
  },
  {
   "cell_type": "markdown",
   "id": "f61afaa9",
   "metadata": {},
   "source": [
    "Now, incorporate sound into your code. Write a snippet of code that will cause the hub to beep at corresponding frequency to the speed that the gyroscope measures along the x-axis."
   ]
  },
  {
   "cell_type": "code",
   "execution_count": null,
   "id": "a9abbccb",
   "metadata": {},
   "outputs": [],
   "source": [
    "# write and run your code here!"
   ]
  },
  {
   "cell_type": "markdown",
   "id": "a850a0b8",
   "metadata": {},
   "source": [
    "Once you feel confident using the SPIKE hub's gyroscope, you are ready to move on to the next section!"
   ]
  }
 ],
 "metadata": {
  "kernelspec": {
   "display_name": "Python 3 (ipykernel)",
   "language": "python",
   "name": "python3"
  },
  "language_info": {
   "codemirror_mode": {
    "name": "ipython",
    "version": 3
   },
   "file_extension": ".py",
   "mimetype": "text/x-python",
   "name": "python",
   "nbconvert_exporter": "python",
   "pygments_lexer": "ipython3",
   "version": "3.9.1"
  }
 },
 "nbformat": 4,
 "nbformat_minor": 5
}
