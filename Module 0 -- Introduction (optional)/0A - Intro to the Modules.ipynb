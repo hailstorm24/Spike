{
 "cells": [
  {
   "cell_type": "markdown",
   "id": "6312c621",
   "metadata": {},
   "source": [
    "# 0A - Module Overviews"
   ]
  },
  {
   "cell_type": "markdown",
   "id": "1804fc95",
   "metadata": {},
   "source": [
    "### [Module 0 -- Introductions (optional)](../Module%200%20--%20Introduction%20(optional))\n",
    "> [0A](./0A%20-%20Intro%20to%20the%20Modules.ipynb), [0B](./0B%20-%20Intro%20to%20the%20Spike%20Kit.ipynb)"
   ]
  },
  {
   "cell_type": "markdown",
   "id": "78fe8acb",
   "metadata": {},
   "source": [
    "### [Module 1 -- The Bicycle](../Module%201%20--%20The%20Bicycle)\n",
    "\n",
    "> [Section 1.1](../Module%201%20--%20The%20Bicycle/1.1%20-%20Connecting%20to%20Spike%20Prime.ipynb) walks through connecting to the SPIKE hub. Students will connect and prompt their hub to display a \"Hello, World\" message.\n",
    "\n",
    "> [Section 1.2](../Module%201%20--%20The%20Bicycle/1.2%20-%20Building%20the%20Bicycle.ipynb) includes step-by-step instructions for constructing and pre-programmed buttons for controlling the bicycle. Students will build and test the initial bicycle design.\n",
    "\n",
    "> [Section 1.3](../Module%201%20--%20The%20Bicycle/1.3%20-%20Gearing%20the%20Bicycle.ipynb) examines gear ratios and explains speed/torque, along with introducing basic python syntax. Students will adapt their bicycle to incorperate the gear ratio that they select and program the bicycle to move by calling a series of pre-written functions.\n",
    "\n",
    "> [Section 1.4](../Module%201%20--%20The%20Bicycle/1.4%20-%20Customizing%20the%20Bicycle.ipynb) expands on the engineering and programming-related topics covered in Sections 1.3 and 1.4. This section provides students an opportunity to modify their bicycle and code buttons to control it accordingly.  \n",
    "\n",
    "> The [Build Challenge](../Module%201%20--%20The%20Bicycle/Build%20Challenge%20(Optional)%20-%20LEGO%20Table%20Saw.ipynb) challenges students to use their knowledge of gear ratios to build a LEGO table saw.\n",
    "\n",
    "> Concepts Include: Using Jupyter Notebook, Connecting to SPIKE, Basic Python Syntax/Calling Functions, Speed/Torque & Gear Ratios.\n"
   ]
  },
  {
   "cell_type": "markdown",
   "id": "27c7b0bb",
   "metadata": {},
   "source": [
    "### [Module 2 -- The Elevator](../Module%202%20--%20The%20Elevator)\n",
    "> [Section 2.1](../Module%202%20--%20The%20Elevator/2.1%20-%20Converting%20Rotational%20Motion%20to%20Linear%20Motion.ipynb) explores different types of motion and presents two mechanisms for converting between rotational and linear motion. Students will construct and compare the two different mechanisms.\n",
    "\n",
    "> [Section 2.2](../Module%202%20--%20The%20Elevator/2.2%20-%20Designing%20an%20Elevator.ipynb) outlines the construction of a SPIKE Prime elevator. Students will employ their knowledge of linear and rotational motion to create a mechanism that moves a minifigure between two platforms. \n",
    "\n",
    "> [Section 2.3](../Module%202%20--%20The%20Elevator/2.3%20-%20Coding%20the%20Elevator%20Using%20Variables%20and%20Conditionals.ipynb) introduces variables and conditionals. Students will utilize these concepts to program their elevator to respond to input from the hub's buttons.\n",
    "\n",
    "> [Section 2.4](../Module%202%20--%20The%20Elevator/2.4%20-%20Customizing%20the%20Elevator.ipynb) expands on the engineering and programming-related topics covered in earlier sections by providing students an opportunity to add a unique element to their elevator and code it accordingly.\n",
    "\n",
    "\n",
    "> Concepts Include: Variables, Conditionals, Types of Motion, Slider Crank Mechanism, Rack & Pinion Mechanism"
   ]
  },
  {
   "cell_type": "markdown",
   "id": "e5cf08df",
   "metadata": {},
   "source": [
    "### [Module 3 -- The Amusement Park Ride](../Module%203%20--%20The%20Amusement%20Park%20Ride)\n",
    "\n",
    "> [Section 3.1](../Module%203%20--%20The%20Amusement%20Park%20Ride/3.1%20-%20Using%20a%20Light%20Sensor.ipynb) experiments with reading input from the light sensor. Students will \n",
    "\n",
    "> [Section 3.2](../Module%203%20--%20The%20Amusement%20Park%20Ride/3.2%20-%20Designing%20an%20Amusement%20Park%20Ride.ipynb)\n",
    "\n",
    "> [Section 3.3](../Module%203%20--%20The%20Amusement%20Park%20Ride/3.3%20-%20Programming%20the%20Ride%20Using%20For-Loops%20and%20While-Loops.ipynb)\n",
    "\n",
    "> [Section 3.4](../Module%203%20--%20The%20Amusement%20Park%20Ride/3.4%20-%20Incorporating%20the%20Color%20Sensor.ipynb)\n",
    "\n",
    "> The [Code Challenge](../Module%203%20--%20The%20Amusement%20Park%20Ride/Code%20Challenge%20(Optional)%20-%20Line%20Follower.ipynb) challenges students to utilize their knowledge of loops and conditionals to program a line-follower.\n",
    "\n",
    "> Concepts Include: Light Sensor, Responding to Input, RGB Values, For-Loops, While-Loops"
   ]
  },
  {
   "cell_type": "markdown",
   "id": "93938dcb",
   "metadata": {},
   "source": [
    "### [Module 4 -- The Drawing Machine](../Module%204%20--%20The%20Drawing%20Machine)\n",
    "> [Sectiob 4.1](../Module%204%20--%20The%20Drawing%20Machine/4.1%20-%20Constructing%20Linkages.ipynb)\n",
    "\n",
    "> [Section 4.2](../Module%204%20--%20The%20Drawing%20Machine/4.2%20-%20Constructing%20a%20Drawing%20Machine.ipynb)\n",
    "\n",
    "> [Section 4.3](../Module%204%20--%20The%20Drawing%20Machine/4.3%20-%20Programming%20the%20Drawing%20Machine%20Using%20Functions.ipynb)\n",
    "\n",
    "> [Section 4.4](../Module%204%20--%20The%20Drawing%20Machine/4.4%20-%20Customizing%20the%20Drawing%20Machine.ipynb)\n"
   ]
  },
  {
   "cell_type": "markdown",
   "id": "7e5e4043",
   "metadata": {},
   "source": [
    "### [Module 5 -- The Self-Balancing Robot](../Module%205%20--%20The%20Self-Balancing%20Robot)"
   ]
  },
  {
   "cell_type": "markdown",
   "id": "59723b1e",
   "metadata": {},
   "source": [
    "### [Module 6 -- The Rubix Cube Solver](../Module%206%20--%20The%20Rubix%20Cube%20Solver)\n",
    "> [Section 6.1](../Module%206%20--%20The%20Rubix%20Cube%20Solver/6.1%20-%20Solving%20a%20Rubix%20Cube.ipynb)\n",
    "\n",
    "> [Section 6.2](../Module%206%20--%20The%20Rubix%20Cube%20Solver/6.2%20-%20Constructing%20the%20Rubix%20Cube%20Solver.ipynb)\n",
    "\n",
    "> [Section 6.3](../Module%206%20--%20The%20Rubix%20Cube%20Solver/6.3%20-%20Programming%20the%20Rubix%20Cube%20Solver.ipynb)\n",
    "\n",
    "> [Section 6.4](../Module%206%20--%20The%20Rubix%20Cube%20Solver/6.4%20-%20Adding%20the%20Light%20Sensor.ipynb)"
   ]
  },
  {
   "cell_type": "code",
   "execution_count": null,
   "id": "255474f3",
   "metadata": {},
   "outputs": [],
   "source": []
  }
 ],
 "metadata": {
  "kernelspec": {
   "display_name": "Python 3 (ipykernel)",
   "language": "python",
   "name": "python3"
  },
  "language_info": {
   "codemirror_mode": {
    "name": "ipython",
    "version": 3
   },
   "file_extension": ".py",
   "mimetype": "text/x-python",
   "name": "python",
   "nbconvert_exporter": "python",
   "pygments_lexer": "ipython3",
   "version": "3.9.1"
  }
 },
 "nbformat": 4,
 "nbformat_minor": 5
}
