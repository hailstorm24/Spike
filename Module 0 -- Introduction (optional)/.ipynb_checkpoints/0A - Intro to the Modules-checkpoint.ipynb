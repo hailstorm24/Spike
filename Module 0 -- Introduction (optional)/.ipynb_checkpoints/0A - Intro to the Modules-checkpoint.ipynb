{
 "cells": [
  {
   "cell_type": "markdown",
   "id": "6312c621",
   "metadata": {},
   "source": [
    "# 0A - Module Overviews"
   ]
  },
  {
   "cell_type": "markdown",
   "id": "1804fc95",
   "metadata": {},
   "source": [
    "### [Module 0 -- Introductions (optional)](../Module%200%20--%20Introduction%20(optional))\n",
    "> You are currently reading through [Module 0A](./0A%20-%20Intro%20to%20the%20Modules.ipynb). This section provides an overview of the entire resource, as well as key concepts introduced in each module.\n",
    "\n",
    "> [Module 0B](./0B%20-%20Intro%20to%20the%20Spike%20Kit.ipynb) provides an overview of the different parts in the Spike PRIME Kit. While this set is designed to start with Section 1.1, Module 0B serves as an introduction for students that may want to learn what each components does before they start building or as a helpful tool for students to look back at while they work through the modules."
   ]
  },
  {
   "cell_type": "markdown",
   "id": "78fe8acb",
   "metadata": {},
   "source": [
    "### [Module 1 -- The Bicycle](../Module%201%20--%20The%20Bicycle)\n",
    "\n",
    "> [Section 1.1](../Module%201%20--%20The%20Bicycle/1.1%20-%20Connecting%20to%20Spike%20Prime.ipynb) walks through connecting to the SPIKE hub. Students will connect and prompt their hub to display a \"Hello, World\" message.\n",
    "\n",
    "> [Section 1.2](../Module%201%20--%20The%20Bicycle/1.2%20-%20Building%20the%20Bicycle.ipynb) includes step-by-step instructions for constructing and pre-programmed buttons for controlling the bicycle. Students will build and test the initial bicycle design.\n",
    "\n",
    "> [Section 1.3](../Module%201%20--%20The%20Bicycle/1.3%20-%20Gearing%20the%20Bicycle.ipynb) examines gear ratios and explains speed/torque, along with introducing basic python syntax. Students will adapt their bicycle to incorporate the gear ratio that they select and program the bicycle to move by calling a series of pre-written functions.\n",
    "\n",
    "> [Section 1.4](../Module%201%20--%20The%20Bicycle/1.4%20-%20Customizing%20the%20Bicycle.ipynb) expands on the engineering and programming-related topics covered in Sections 1.3 and 1.4. This section provides students an opportunity to modify their bicycle and code buttons to control it accordingly.  \n",
    "\n",
    "> The [Build Challenge](../Module%201%20--%20The%20Bicycle/Build%20Challenge%20(Optional)%20-%20LEGO%20Table%20Saw.ipynb) challenges students to use their knowledge of gear ratios to build a LEGO table saw.\n",
    "\n",
    "> Concepts Include: Using Jupyter Notebook, Connecting to SPIKE, Basic Python Syntax/Calling Functions, Speed/Torque & Gear Ratios.\n"
   ]
  },
  {
   "cell_type": "markdown",
   "id": "27c7b0bb",
   "metadata": {},
   "source": [
    "### [Module 2 -- The Elevator](../Module%202%20--%20The%20Elevator)\n",
    "> [Section 2.1](../Module%202%20--%20The%20Elevator/2.1%20-%20Converting%20Rotational%20Motion%20to%20Linear%20Motion.ipynb) explores different types of motion and presents two mechanisms for converting between rotational and linear motion. Students will construct and compare the two different mechanisms.\n",
    "\n",
    "> [Section 2.2](../Module%202%20--%20The%20Elevator/2.2%20-%20Designing%20an%20Elevator.ipynb) outlines the construction of a SPIKE Prime elevator. Students will employ their knowledge of linear and rotational motion to create a mechanism that moves a minifigure between two platforms. \n",
    "\n",
    "> [Section 2.3](../Module%202%20--%20The%20Elevator/2.3%20-%20Coding%20the%20Elevator%20Using%20Variables%20and%20Conditionals.ipynb) teaches students about variables and conditionals. They will utilize these concepts to program their elevator to respond to input from the hub's buttons.\n",
    "\n",
    "> [Section 2.4](../Module%202%20--%20The%20Elevator/2.4%20-%20Customizing%20the%20Elevator.ipynb) expands on the engineering and programming-related topics covered in earlier sections by providing students an opportunity to add a unique element to their elevator and code it accordingly.\n",
    "\n",
    "\n",
    "> Concepts Include: Variables, Lists, Conditionals, Types of Motion, Slider Crank Mechanism, Rack & Pinion Mechanism"
   ]
  },
  {
   "cell_type": "markdown",
   "id": "e5cf08df",
   "metadata": {},
   "source": [
    "### [Module 3 -- The Amusement Park Ride](../Module%203%20--%20The%20Amusement%20Park%20Ride)\n",
    "\n",
    "> [Section 3.1](../Module%203%20--%20The%20Amusement%20Park%20Ride/3.1%20-%20Using%20a%20Light%20Sensor.ipynb) experiments with reading input from the light sensor. Students will work to interpret RGB values and display results using the hub's pixels. \n",
    "\n",
    "> [Section 3.2](../Module%203%20--%20The%20Amusement%20Park%20Ride/3.2%20-%20Designing%20an%20Amusement%20Park%20Ride.ipynb) prompts students to design and construct an amusement park style ride. \n",
    "\n",
    "> [Section 3.3](../Module%203%20--%20The%20Amusement%20Park%20Ride/3.3%20-%20Programming%20the%20Ride%20Using%20For-Loops%20and%20While-Loops.ipynb) introduces loops. Students will then implement these concepts in programming the movement of their ride.\n",
    "\n",
    "> [Section 3.4](../Module%203%20--%20The%20Amusement%20Park%20Ride/3.4%20-%20Incorporating%20the%20Color%20Sensor.ipynb) expands on the programming-related topics covered in earlier sections by asking students to incorperate the light sensor into the control of their ride.\n",
    "\n",
    "> The [Code Challenge](../Module%203%20--%20The%20Amusement%20Park%20Ride/Code%20Challenge%20(Optional)%20-%20Line%20Follower.ipynb) challenges students to utilize their knowledge of loops and conditionals to program a line-follower.\n",
    "\n",
    "> Concepts Include: Light Sensor, Responding to Input, RGB Values, For-Loops, While-Loops"
   ]
  },
  {
   "cell_type": "markdown",
   "id": "93938dcb",
   "metadata": {},
   "source": [
    "### [Module 4 -- The Drawing Machine](../Module%204%20--%20The%20Drawing%20Machine)\n",
    "> [Section 4.1](../Module%204%20--%20The%20Drawing%20Machine/4.1%20-%20Constructing%20Linkages.ipynb) explores more complex ways of generating linear (and non-linear) motion and presents three different types of linkages. Students will construct and compare the three different mechanisms.\n",
    "\n",
    "> [Section 4.2](../Module%204%20--%20The%20Drawing%20Machine/4.2%20-%20Constructing%20a%20Drawing%20Machine.ipynb) asks students to construct a drawing machine. Students will utilize mechanisms introduced in either section 4.1 or section 2.1 to construct a machine that will control a marker's movement.\n",
    "\n",
    "> [Section 4.3](../Module%204%20--%20The%20Drawing%20Machine/4.3%20-%20Programming%20the%20Drawing%20Machine%20Using%20Functions.ipynb) acquaints students with creating functions. They will use this concept to create shape-drawing functions for their machine and then program it to produce a simple picture.\n",
    "\n",
    "> [Section 4.4](../Module%204%20--%20The%20Drawing%20Machine/4.4%20-%20Customizing%20the%20Drawing%20Machine.ipynb) expands on the engineering and programming-related topics covered in earlier sections by providing students an opportunity to add a unique element to their drawing machine and code it accordingly.\n",
    "\n",
    "> Concepts Include: Functions, Linkages, Scissor-Linkage, 4-Bar Linkage, 5-Bar Linkage"
   ]
  },
  {
   "cell_type": "markdown",
   "id": "7e5e4043",
   "metadata": {},
   "source": [
    "### [Module 5 -- The Self-Balancing Robot](../Module%205%20--%20The%20Self-Balancing%20Robot)\n",
    "\n",
    "> [Section 5.1](../Module%205%20--%20The%20Self-Balancing%20Robot/5.1%20-%20Using%20the%20Gyroscope.ipynb) familiarizes students with the hub's built-in gyroscope. They will explore interpeting gyroscope data and playing sounds from the hub.\n",
    "\n",
    "> [Section 5.2](../Module%205%20--%20The%20Self-Balancing%20Robot/5.2%20-%20Designing%20the%20Self-Balancing%20Robot.ipynb) prompts students to construct a robot to balance.\n",
    "\n",
    "> [Section 5.3](../Module%205%20--%20The%20Self-Balancing%20Robot/5.3%20-%20Programming%20the%20Self-Balancing%20Robot%20Using%20Fuzzy%20Logic.ipynb) walks students through using Fuzzy Logic to create a self-balancing algorithm for their robot. Students are challenged to explore various math and physics concepts that relate to their robot.\n",
    "\n",
    "> [Section 5.4](../Module%205%20--%20The%20Self-Balancing%20Robot/5.4%20-%20Advancing%20the%20Self-Balancing%20Robot.ipynb) expands on the engineering and programming-related topics covered in earlier sections by providing students an opportunity to add a unique element to their self-balancing robot and code it accordingly.\n",
    "\n",
    "> Concepts Include: Gyroscope, Fuzzy Logic, Center-of-Gravity, Linear/Exponential/Quadratic functions *(extension)*, Center of Gravity *(extension)*, Integrals *(extension)*"
   ]
  },
  {
   "cell_type": "markdown",
   "id": "59723b1e",
   "metadata": {},
   "source": [
    "### [Module 6 -- The Rubik's Cube Solver](../Module%206%20--%20The%20Rubik's%20Cube%20Solver)\n",
    "> [Section 6.1](../Module%206%20--%20The%20Rubik's%20Cube%20Solver/6.1%20-%20Solving%20a%20Rubik's%20Cube.ipynb) introduces some resources for learning how to solve a rubik's cube. Students may use this section as a reference when programming their robot. \n",
    "\n",
    "> [Section 6.2](../Module%206%20--%20The%20Rubik's%20Cube%20Solver/6.2%20-%20Constructing%20the%20Rubik's%20Cube%20Solver.ipynb) guides students in creating a robot that can manipulate a rubik's cube. They will create functions for buttons to turn each of the faces. \n",
    "\n",
    "> [Section 6.3](../Module%206%20--%20The%20Rubik's%20Cube%20Solver/6.3%20-%20Programming%20the%20Rubik's%20Cube%20Solver.ipynb) engages students in coding their cube-solving robot. They first update their functions to track the configuration of the cube, and then they design an algorithm for the rubik's cube.\n",
    "\n",
    "> [Section 6.4](../Module%206%20--%20The%20Rubik's%20Cube%20Solver/6.4%20-%20Adding%20the%20Light%20Sensor.ipynb) allows students to complete the final aspect of their rubik's cube solver by incorperating a light sensor into their design.\n",
    "\n",
    "> Rather than introducing new ideas, module six acts as a chance for students to showcase all of the skills that they have learned -- it is designed as a final challenge, rather than another exploration."
   ]
  }
 ],
 "metadata": {
  "kernelspec": {
   "display_name": "Python 3 (ipykernel)",
   "language": "python",
   "name": "python3"
  },
  "language_info": {
   "codemirror_mode": {
    "name": "ipython",
    "version": 3
   },
   "file_extension": ".py",
   "mimetype": "text/x-python",
   "name": "python",
   "nbconvert_exporter": "python",
   "pygments_lexer": "ipython3",
   "version": "3.9.1"
  }
 },
 "nbformat": 4,
 "nbformat_minor": 5
}
