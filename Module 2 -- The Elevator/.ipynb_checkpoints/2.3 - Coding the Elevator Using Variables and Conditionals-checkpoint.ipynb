{
 "cells": [
  {
   "cell_type": "markdown",
   "id": "47d25338",
   "metadata": {},
   "source": [
    "# Module 2.3: Coding the Elevator!\n",
    "In this section, we will learn about and utilize variables and conditionals to program the elevator. You will need to edit and write code directly in the notebook's cells -- if you would like to show or hide a cell, double click the space to its left; to edit a cell, simply double click it. "
   ]
  },
  {
   "cell_type": "markdown",
   "id": "15679b55",
   "metadata": {},
   "source": [
    "Run the following code and connect to your SPIKE hub. You do not need to modify it or understand how it works."
   ]
  },
  {
   "cell_type": "code",
   "execution_count": null,
   "id": "52834b3c",
   "metadata": {},
   "outputs": [],
   "source": [
    "%run ./module_2_helper_functions.ipynb\n",
    "updatedPortList = search_for_ports()\n",
    "dropdown = widgets.Select(\n",
    "            options=updatedPortList,\n",
    "            description='Select Port:',\n",
    "            disabled=False)\n",
    "output2 = widgets.Output()\n",
    "display(dropdown, output2)\n",
    "dropdown.observe(on_value_change, names='value')"
   ]
  },
  {
   "cell_type": "markdown",
   "id": "9af72c33",
   "metadata": {},
   "source": [
    "Now, run the cell to load the motion function that will allow us to control your SPIKE hub. The move function turns a motor for a specified number of rotations, taking the port letter, number of motor rotations, and speed (between -100 and 100) as parameters. For example, *move ('A', 0.5, 15)* would rotate the motor at port A by half a rotation at a speed of 15."
   ]
  },
  {
   "cell_type": "code",
   "execution_count": null,
   "id": "fbd6563e",
   "metadata": {},
   "outputs": [],
   "source": [
    "def move(port,rotations,speed):\n",
    "    moveCode = \"\"\"hub.port.\"\"\"+str(port)+\"\"\".motor.run_for_degrees(\"\"\"+str(360*rotations)+\"\"\", \"\"\"+str(speed)+\"\"\")\"\"\"\n",
    "    WriteSerial('\\x05')\n",
    "    WriteSerial(moveCode)\n",
    "    WriteSerial('\\x04')"
   ]
  },
  {
   "cell_type": "markdown",
   "id": "9cf2d0e5",
   "metadata": {},
   "source": [
    "In the cell below, write a line of code that will move the elevator from the first floor to the second floor."
   ]
  },
  {
   "cell_type": "code",
   "execution_count": null,
   "id": "169ec251",
   "metadata": {},
   "outputs": [],
   "source": [
    "# write and run your code here!"
   ]
  },
  {
   "cell_type": "markdown",
   "id": "3f91db9e",
   "metadata": {},
   "source": [
    "However, we may not always want to spin the motor at the same speed. In that case, we can create a variable to store the speed value that we wish to use. Variables can store whole numbers (called integers), decimals (called floats), words or phrases (called strings), single characters (called chars), or true/false values (called booleans). The code below creates an integer named Frank and prints its value. Change the value of Frank and see what happens."
   ]
  },
  {
   "cell_type": "code",
   "execution_count": null,
   "id": "c56abcf2",
   "metadata": {},
   "outputs": [],
   "source": [
    "frank = 15\n",
    "print(frank)"
   ]
  },
  {
   "cell_type": "markdown",
   "id": "409cd39c",
   "metadata": {},
   "source": [
    "If we want to store multiple variables in the same place, we can use a list. To select an item from a list by it's position (called index), we use square brackets to indicate which item we'd like. In coding, we start counting at zero instead of one, so the index of a list's first item would be zero. Modify the code below so that it just prints \"sheep\". Can you get it to print \"chicken\"?"
   ]
  },
  {
   "cell_type": "code",
   "execution_count": null,
   "id": "0d2a030d",
   "metadata": {},
   "outputs": [],
   "source": [
    "farmAnimals = [\"cow\",\"pig\",\"sheep\",\"cat\",(\"duck\",\"chicken\")]\n",
    "print(farmAnimals)"
   ]
  },
  {
   "cell_type": "markdown",
   "id": "9178b949",
   "metadata": {},
   "source": [
    "Next, create a variable for speed and move the elevator from the first floor to the second floor at the specified speed. Then, by changing only the value of the speed variable, can you get the elevator to move down from the second floor to the first?"
   ]
  },
  {
   "cell_type": "code",
   "execution_count": null,
   "id": "49a00f32",
   "metadata": {},
   "outputs": [],
   "source": [
    "# write and run your code here!"
   ]
  },
  {
   "cell_type": "markdown",
   "id": "a983fac4",
   "metadata": {},
   "source": [
    "What if we want to change the speed according to the elevator's position? In order to do so, we need to use a conditional. Examine the if statement below. How can you change the value of the boolean so that the cell prints out a message?"
   ]
  },
  {
   "cell_type": "code",
   "execution_count": null,
   "id": "486419af",
   "metadata": {},
   "outputs": [],
   "source": [
    "isTrue = True\n",
    "if(isTrue):\n",
    "    print(\"Yay! It's True!!\")"
   ]
  },
  {
   "cell_type": "markdown",
   "id": "6a75e602",
   "metadata": {},
   "source": [
    "If we want additional conditions to the conditional, we can use \"elif\" or \"else\". Edit the cell below to add a condition for if the topping value is pineapple."
   ]
  },
  {
   "cell_type": "code",
   "execution_count": null,
   "id": "d6be57f8",
   "metadata": {},
   "outputs": [],
   "source": [
    "topping = \"pepperoni\"\n",
    "if(topping == \"cheese\"):\n",
    "    print(\"It might sound cheesy but cheese is a great pizza topping.\")\n",
    "elif(topping == \"pepperoni\"):\n",
    "    print(\"Pepperoni will always have a pizza my heart.\")\n",
    "else:\n",
    "    print(\"Anyone who doesn't like pizza is probably a weirdough.\")"
   ]
  },
  {
   "cell_type": "markdown",
   "id": "cef56ae5",
   "metadata": {},
   "source": [
    "Now, using a conditional, program the elevator to move up or down depending on a boolean variable."
   ]
  },
  {
   "cell_type": "code",
   "execution_count": null,
   "id": "efbed5bf",
   "metadata": {},
   "outputs": [],
   "source": [
    "# write and run your code here!"
   ]
  },
  {
   "cell_type": "markdown",
   "id": "d6612332",
   "metadata": {},
   "source": [
    "Load the following function to enable you to use the hub's left and right buttons in controlling the elevator. The buttonPressed function returns a boolean (true/false) depending on whether or not the button has been pressed recently. The button takes the button type (\"left\" or \"right\") as a parameter. For example, the value of *buttonPressed(\"left\")* would be True if the button has been pressed."
   ]
  },
  {
   "cell_type": "code",
   "execution_count": null,
   "id": "64a922be",
   "metadata": {},
   "outputs": [],
   "source": [
    "def buttonPressed(buttonType): # only parameter is the button (\"left\" or \"right\")\n",
    "    if(buttonType==\"right\"):\n",
    "        buttonCode = \"\"\"print(hub.button.right.was_pressed())\"\"\"\n",
    "    elif(buttonType==\"left\"):\n",
    "        buttonCode = \"\"\"print(hub.button.left.was_pressed())\"\"\"\n",
    "    WriteSerial('\\x05')\n",
    "    WriteSerial(buttonCode)\n",
    "    WriteSerial('\\x04')\n",
    "    responses = ReadSerial()\n",
    "    if(\"True\" in responses):\n",
    "        return True\n",
    "    else:\n",
    "        return False"
   ]
  },
  {
   "cell_type": "markdown",
   "id": "5e39b4a8",
   "metadata": {},
   "source": [
    "Putting everything that you have learned together, use the following cell to program the elevator to move up or down, depending on which button has been pressed."
   ]
  },
  {
   "cell_type": "code",
   "execution_count": null,
   "id": "601a0e49",
   "metadata": {},
   "outputs": [],
   "source": [
    "# write and run your code here!"
   ]
  },
  {
   "cell_type": "markdown",
   "id": "85953403",
   "metadata": {},
   "source": [
    "Running the cell after you have pressed the left button should cause the elevator to move up, running the cell after you have pressed the right button should cause the elevator to move down, and running the cell after you have pressed neither button should cause the elevator to not move at all. Once you feel that your elevator accomplishes this goal, you are ready to move to the next section."
   ]
  }
 ],
 "metadata": {
  "kernelspec": {
   "display_name": "Python 3 (ipykernel)",
   "language": "python",
   "name": "python3"
  },
  "language_info": {
   "codemirror_mode": {
    "name": "ipython",
    "version": 3
   },
   "file_extension": ".py",
   "mimetype": "text/x-python",
   "name": "python",
   "nbconvert_exporter": "python",
   "pygments_lexer": "ipython3",
   "version": "3.9.1"
  }
 },
 "nbformat": 4,
 "nbformat_minor": 5
}
