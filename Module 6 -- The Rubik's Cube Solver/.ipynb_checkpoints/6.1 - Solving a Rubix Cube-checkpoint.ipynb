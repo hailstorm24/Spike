{
 "cells": [
  {
   "cell_type": "markdown",
   "id": "ff974b65",
   "metadata": {},
   "source": [
    "# Module 6.1: Solving a Rubix Cube!\n",
    "\n",
    "In Module 6, you will construct and program a rubix-cube robot. To do this, we first must learn the steps required in solving a rubix cube. While you do not need to memorize any of the steps in this section, it will help you to follow along with your cube and keep this notebook handy as a reference. Then, you may pick any of several tasks for your machine to accomplish:\n",
    "* \"Donutting\" a solved rubix cube\n",
    "* \"Crossing\" a solved rubix cube\n",
    "* Solving the first layer of a rubix cube\n",
    "* Completing the second layer of a rubix cube\n",
    "* Finishing the third layer of a rubix cube\n",
    "* Solving an entire cube from its scrambled state"
   ]
  },
  {
   "cell_type": "markdown",
   "id": "7a7af966",
   "metadata": {},
   "source": [
    "### Creating the First Cross:\n",
    "\n",
    "* Find edges\n",
    "* Align edges\n"
   ]
  },
  {
   "cell_type": "markdown",
   "id": "72152e03",
   "metadata": {},
   "source": [
    "### Solving the First Corners:\n",
    "* find corners\n",
    "* place corners"
   ]
  },
  {
   "cell_type": "markdown",
   "id": "260d7ef8",
   "metadata": {},
   "source": [
    "### Solving the Second Layer:\n",
    "\n",
    "* align the middles\n",
    "* fill sides algorithm left\n",
    "* fill sides algorithm right"
   ]
  },
  {
   "cell_type": "markdown",
   "id": "157d66c7",
   "metadata": {},
   "source": [
    "### Creating the Final Cross:\n",
    "* positioning (4)\n",
    "* steps"
   ]
  },
  {
   "cell_type": "markdown",
   "id": "ac54ba73",
   "metadata": {},
   "source": [
    "### Algining the Final Cross:\n",
    "\n",
    "* positioning (2)\n",
    "* steps"
   ]
  },
  {
   "cell_type": "markdown",
   "id": "6f157e21",
   "metadata": {},
   "source": [
    "### Placing the Final Corners:\n",
    "* positioning\n",
    "* steps"
   ]
  },
  {
   "cell_type": "markdown",
   "id": "9c6d5bc4",
   "metadata": {},
   "source": [
    "### Aligning the Final Corners:\n",
    "* positioning\n",
    "* steps"
   ]
  }
 ],
 "metadata": {
  "kernelspec": {
   "display_name": "Python 3 (ipykernel)",
   "language": "python",
   "name": "python3"
  },
  "language_info": {
   "codemirror_mode": {
    "name": "ipython",
    "version": 3
   },
   "file_extension": ".py",
   "mimetype": "text/x-python",
   "name": "python",
   "nbconvert_exporter": "python",
   "pygments_lexer": "ipython3",
   "version": "3.9.1"
  }
 },
 "nbformat": 4,
 "nbformat_minor": 5
}
