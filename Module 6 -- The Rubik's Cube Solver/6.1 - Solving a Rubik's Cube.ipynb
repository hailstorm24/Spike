{
 "cells": [
  {
   "cell_type": "markdown",
   "id": "ff974b65",
   "metadata": {},
   "source": [
    "# Module 6.1: Solving a Rubik's Cube!\n",
    "\n",
    "In Module 6, you will construct and program a rubik's-cube robot. To do this, we first must learn the steps required in solving a rubik's cube. Then, you may pick any of several tasks for your machine to accomplish:\n",
    "* Solving the first layer of a rubik's cube\n",
    "* Completing the second layer of a rubik's cube\n",
    "* Finishing the third layer of a rubik's cube\n",
    "* Solving an entire cube from its scrambled state\n",
    "* Making a pattern from a solved rubik's cube\n",
    "\n",
    "The following cells load videos from the official Rubik's solution guide. While you do not need to memorize any of the steps in this section, it will help you to follow along with your cube and keep this notebook handy as a reference. "
   ]
  },
  {
   "cell_type": "markdown",
   "id": "72e1c69c",
   "metadata": {},
   "source": [
    "### Full Rubik's Cube Tutorial:"
   ]
  },
  {
   "cell_type": "code",
   "execution_count": 3,
   "id": "deb3bd41",
   "metadata": {},
   "outputs": [
    {
     "data": {
      "text/html": [
       "<IFrame width=\"560\" height=\"315\" src=\"https://www.youtube.com/embed/fGBwq2ALGPw?start=32\" title=\"YouTube video player\" frameborder=\"0\" allow=\"accelerometer; autoplay; clipboard-write; encrypted-media; gyroscope; picture-in-picture; web-share\" allowfullscreen></iframe>"
      ],
      "text/plain": [
       "<IPython.core.display.HTML object>"
      ]
     },
     "execution_count": 3,
     "metadata": {},
     "output_type": "execute_result"
    }
   ],
   "source": [
    "from IPython.display import HTML\n",
    "HTML('<IFrame width=\"560\" height=\"315\" src=\"https://www.youtube.com/embed/fGBwq2ALGPw?start=32\" title=\"YouTube video player\" frameborder=\"0\" allow=\"accelerometer; autoplay; clipboard-write; encrypted-media; gyroscope; picture-in-picture; web-share\" allowfullscreen></iframe>')"
   ]
  },
  {
   "cell_type": "markdown",
   "id": "7a7af966",
   "metadata": {},
   "source": [
    "### Solving the First Layer:"
   ]
  },
  {
   "cell_type": "code",
   "execution_count": 10,
   "id": "d7fcb242",
   "metadata": {},
   "outputs": [
    {
     "data": {
      "text/html": [
       "<IFrame width=\"560\" height=\"315\" src=\"https://www.youtube.com/embed/2mgtMpoAd8c\" title=\"YouTube video player\" frameborder=\"0\" allow=\"accelerometer; autoplay; clipboard-write; encrypted-media; gyroscope; picture-in-picture; web-share\" allowfullscreen></iframe>"
      ],
      "text/plain": [
       "<IPython.core.display.HTML object>"
      ]
     },
     "execution_count": 10,
     "metadata": {},
     "output_type": "execute_result"
    }
   ],
   "source": [
    "HTML('<IFrame width=\"560\" height=\"315\" src=\"https://www.youtube.com/embed/2mgtMpoAd8c\" title=\"YouTube video player\" frameborder=\"0\" allow=\"accelerometer; autoplay; clipboard-write; encrypted-media; gyroscope; picture-in-picture; web-share\" allowfullscreen></iframe>')"
   ]
  },
  {
   "cell_type": "code",
   "execution_count": 11,
   "id": "d4eb73b9",
   "metadata": {},
   "outputs": [
    {
     "data": {
      "text/html": [
       "<IFrame width=\"560\" height=\"315\" src=\"https://www.youtube.com/embed/wkyCH2DKCsQ\" title=\"YouTube video player\" frameborder=\"0\" allow=\"accelerometer; autoplay; clipboard-write; encrypted-media; gyroscope; picture-in-picture; web-share\" allowfullscreen></iframe>"
      ],
      "text/plain": [
       "<IPython.core.display.HTML object>"
      ]
     },
     "execution_count": 11,
     "metadata": {},
     "output_type": "execute_result"
    }
   ],
   "source": [
    "HTML('<IFrame width=\"560\" height=\"315\" src=\"https://www.youtube.com/embed/wkyCH2DKCsQ\" title=\"YouTube video player\" frameborder=\"0\" allow=\"accelerometer; autoplay; clipboard-write; encrypted-media; gyroscope; picture-in-picture; web-share\" allowfullscreen></iframe>')"
   ]
  },
  {
   "cell_type": "code",
   "execution_count": 9,
   "id": "8f8404d5",
   "metadata": {},
   "outputs": [
    {
     "data": {
      "text/html": [
       "<IFrame width=\"560\" height=\"315\" src=\"https://www.youtube.com/embed/wkyCH2DKCsQ\" title=\"YouTube video player\" frameborder=\"0\" allow=\"accelerometer; autoplay; clipboard-write; encrypted-media; gyroscope; picture-in-picture; web-share\" allowfullscreen></iframe>"
      ],
      "text/plain": [
       "<IPython.core.display.HTML object>"
      ]
     },
     "execution_count": 9,
     "metadata": {},
     "output_type": "execute_result"
    }
   ],
   "source": [
    "HTML('<IFrame width=\"560\" height=\"315\" src=\"https://www.youtube.com/embed/wkyCH2DKCsQ\" title=\"YouTube video player\" frameborder=\"0\" allow=\"accelerometer; autoplay; clipboard-write; encrypted-media; gyroscope; picture-in-picture; web-share\" allowfullscreen></iframe>')"
   ]
  },
  {
   "cell_type": "markdown",
   "id": "72152e03",
   "metadata": {},
   "source": [
    "### Solving the Second Layer:"
   ]
  },
  {
   "cell_type": "code",
   "execution_count": 8,
   "id": "824c51f8",
   "metadata": {},
   "outputs": [
    {
     "data": {
      "text/html": [
       "<IFrame width=\"560\" height=\"315\" src=\"https://www.youtube.com/embed/hZ70g8HvIOo\" title=\"YouTube video player\" frameborder=\"0\" allow=\"accelerometer; autoplay; clipboard-write; encrypted-media; gyroscope; picture-in-picture; web-share\" allowfullscreen></iframe>"
      ],
      "text/plain": [
       "<IPython.core.display.HTML object>"
      ]
     },
     "execution_count": 8,
     "metadata": {},
     "output_type": "execute_result"
    }
   ],
   "source": [
    "HTML('<IFrame width=\"560\" height=\"315\" src=\"https://www.youtube.com/embed/hZ70g8HvIOo\" title=\"YouTube video player\" frameborder=\"0\" allow=\"accelerometer; autoplay; clipboard-write; encrypted-media; gyroscope; picture-in-picture; web-share\" allowfullscreen></iframe>')"
   ]
  },
  {
   "cell_type": "markdown",
   "id": "157d66c7",
   "metadata": {},
   "source": [
    "### Solving the Final Layer:"
   ]
  },
  {
   "cell_type": "code",
   "execution_count": 7,
   "id": "af28cd12",
   "metadata": {},
   "outputs": [
    {
     "data": {
      "text/html": [
       "<IFrame width=\"560\" height=\"315\" src=\"https://www.youtube.com/embed/IlDiR1ItVfw\" title=\"YouTube video player\" frameborder=\"0\" allow=\"accelerometer; autoplay; clipboard-write; encrypted-media; gyroscope; picture-in-picture; web-share\" allowfullscreen></iframe>"
      ],
      "text/plain": [
       "<IPython.core.display.HTML object>"
      ]
     },
     "execution_count": 7,
     "metadata": {},
     "output_type": "execute_result"
    }
   ],
   "source": [
    "HTML('<IFrame width=\"560\" height=\"315\" src=\"https://www.youtube.com/embed/IlDiR1ItVfw\" title=\"YouTube video player\" frameborder=\"0\" allow=\"accelerometer; autoplay; clipboard-write; encrypted-media; gyroscope; picture-in-picture; web-share\" allowfullscreen></iframe>')"
   ]
  },
  {
   "cell_type": "code",
   "execution_count": 6,
   "id": "46cbf310",
   "metadata": {},
   "outputs": [
    {
     "data": {
      "text/html": [
       "<IFrame width=\"560\" height=\"315\" src=\"https://www.youtube.com/embed/xby6INEmrwI\" title=\"YouTube video player\" frameborder=\"0\" allow=\"accelerometer; autoplay; clipboard-write; encrypted-media; gyroscope; picture-in-picture; web-share\" allowfullscreen></iframe>"
      ],
      "text/plain": [
       "<IPython.core.display.HTML object>"
      ]
     },
     "execution_count": 6,
     "metadata": {},
     "output_type": "execute_result"
    }
   ],
   "source": [
    "HTML('<IFrame width=\"560\" height=\"315\" src=\"https://www.youtube.com/embed/xby6INEmrwI\" title=\"YouTube video player\" frameborder=\"0\" allow=\"accelerometer; autoplay; clipboard-write; encrypted-media; gyroscope; picture-in-picture; web-share\" allowfullscreen></iframe>')"
   ]
  },
  {
   "cell_type": "code",
   "execution_count": 5,
   "id": "0e8637e0",
   "metadata": {},
   "outputs": [
    {
     "data": {
      "text/html": [
       "<IFrame width=\"560\" height=\"315\" src=\"https://www.youtube.com/embed/4C0lrqPq4ig\" title=\"YouTube video player\" frameborder=\"0\" allow=\"accelerometer; autoplay; clipboard-write; encrypted-media; gyroscope; picture-in-picture; web-share\" allowfullscreen></iframe>"
      ],
      "text/plain": [
       "<IPython.core.display.HTML object>"
      ]
     },
     "execution_count": 5,
     "metadata": {},
     "output_type": "execute_result"
    }
   ],
   "source": [
    "HTML('<IFrame width=\"560\" height=\"315\" src=\"https://www.youtube.com/embed/4C0lrqPq4ig\" title=\"YouTube video player\" frameborder=\"0\" allow=\"accelerometer; autoplay; clipboard-write; encrypted-media; gyroscope; picture-in-picture; web-share\" allowfullscreen></iframe>')"
   ]
  },
  {
   "cell_type": "code",
   "execution_count": 4,
   "id": "a12f79a4",
   "metadata": {},
   "outputs": [
    {
     "data": {
      "text/html": [
       "<IFrame width=\"560\" height=\"315\" src=\"https://www.youtube.com/embed/5fq84H2UzuU\" title=\"YouTube video player\" frameborder=\"0\" allow=\"accelerometer; autoplay; clipboard-write; encrypted-media; gyroscope; picture-in-picture; web-share\" allowfullscreen></iframe>"
      ],
      "text/plain": [
       "<IPython.core.display.HTML object>"
      ]
     },
     "execution_count": 4,
     "metadata": {},
     "output_type": "execute_result"
    }
   ],
   "source": [
    "HTML('<IFrame width=\"560\" height=\"315\" src=\"https://www.youtube.com/embed/5fq84H2UzuU\" title=\"YouTube video player\" frameborder=\"0\" allow=\"accelerometer; autoplay; clipboard-write; encrypted-media; gyroscope; picture-in-picture; web-share\" allowfullscreen></iframe>')"
   ]
  }
 ],
 "metadata": {
  "kernelspec": {
   "display_name": "Python 3 (ipykernel)",
   "language": "python",
   "name": "python3"
  },
  "language_info": {
   "codemirror_mode": {
    "name": "ipython",
    "version": 3
   },
   "file_extension": ".py",
   "mimetype": "text/x-python",
   "name": "python",
   "nbconvert_exporter": "python",
   "pygments_lexer": "ipython3",
   "version": "3.9.1"
  }
 },
 "nbformat": 4,
 "nbformat_minor": 5
}
