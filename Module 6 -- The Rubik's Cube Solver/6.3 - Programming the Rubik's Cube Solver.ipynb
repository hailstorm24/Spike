{
 "cells": [
  {
   "cell_type": "markdown",
   "id": "9a27a136",
   "metadata": {},
   "source": [
    "# Module 6.3: Programming the Rubik's Cube Solver!"
   ]
  },
  {
   "cell_type": "markdown",
   "id": "6f690906",
   "metadata": {},
   "source": [
    "Run the cell below to load the functions that you will use in this module. In addition to the move function, you can now use:\n",
    "* display(*image*) -- takes the image as a parameter and displays it below\n",
    "* cubeImage(*cube*) -- takes a 6x9 list of charachters (r, o, y, g, b, w) as a parameter and returns the image of the resulting cube\n",
    "\n",
    "Mess around with the cubeValues list -- can you figure out which values correspond to which squares on the rubik's cube?"
   ]
  },
  {
   "cell_type": "code",
   "execution_count": null,
   "id": "5684387b",
   "metadata": {},
   "outputs": [],
   "source": [
    "from IPython.display import clear_output\n",
    "%run ./module_6_helper_functions.ipynb\n",
    "installs()\n",
    "clear_output()\n",
    "\n",
    "cubeValues = [[r,r,r,r,r,r,r,r,r],\n",
    "              [w,w,w,w,w,w,w,w,w],\n",
    "              [b,b,b,b,b,b,b,b,b],\n",
    "              [y,y,y,y,y,y,y,y,y],\n",
    "              [g,g,g,g,g,g,g,g,g],\n",
    "              [o,o,o,o,o,o,o,o,o]]\n",
    "\n",
    "display(cubeImage(cubeValues))"
   ]
  },
  {
   "cell_type": "markdown",
   "id": "d9f8e093",
   "metadata": {},
   "source": [
    "Copy and paste the code for the functions you programmed in Module 6.2. Modify each of the functions so that they update cubeValues accordingly. When this is completed, you should be able to manually input the configuration of a cube into cubeValues, press any sequence of the buttons, and see the resulting cube configuration displayed."
   ]
  },
  {
   "cell_type": "code",
   "execution_count": null,
   "id": "ecaf0d19",
   "metadata": {},
   "outputs": [],
   "source": [
    "cubeValues = [[r,w,r,w,r,w,r,w,r],\n",
    "              [w,w,w,w,w,w,w,w,w],\n",
    "              [b,b,b,b,b,b,b,b,b],\n",
    "              [y,y,y,y,y,y,y,y,y],\n",
    "              [g,g,g,g,g,g,g,g,g],\n",
    "              [o,o,o,o,o,o,o,o,o]]"
   ]
  },
  {
   "cell_type": "code",
   "execution_count": null,
   "id": "96b80a36",
   "metadata": {},
   "outputs": [],
   "source": [
    "def turnFace():\n",
    "    global cubeValues   \n",
    "    \n",
    "    # add code here\n",
    "    \n",
    "def rotateX():\n",
    "    global cubeValues   \n",
    "    \n",
    "    # add code here\n",
    "    \n",
    "def rotateY():\n",
    "    global cubeValues   \n",
    "    \n",
    "    # add code here\n"
   ]
  },
  {
   "cell_type": "markdown",
   "id": "4338dedb",
   "metadata": {},
   "source": [
    "To test out your code, connect and use the buttons below:"
   ]
  },
  {
   "cell_type": "code",
   "execution_count": null,
   "id": "785ac5b4",
   "metadata": {},
   "outputs": [],
   "source": [
    "%run ./module_6_helper_functions.ipynb\n",
    "updatedPortList = search_for_ports()\n",
    "dropdown = widgets.Select(\n",
    "            options=updatedPortList,\n",
    "            description='Select Port:',\n",
    "            disabled=False)\n",
    "output2 = widgets.Output()\n",
    "dropdown.observe(on_value_change, names='value')\n",
    "controls()\n",
    "def rotateFaceButtonFunction(b):\n",
    "    turnFace()\n",
    "    displayAll()\n",
    "def xAxisButtonFunction(b):\n",
    "    rotateX()\n",
    "    displayAll()\n",
    "def yAxisFaceButtonFunction(b):\n",
    "    rotateY()\n",
    "    displayAll()\n",
    "def displayAll():\n",
    "    clear_output()\n",
    "    display(dropdown, output2)\n",
    "    display((widgets.HBox((rotateFaceButton,xAxisButton,yAxisButton))))\n",
    "    display(cubeImage(cubeValues))\n",
    "rotateFaceButton.on_click(rotateFaceButtonFunction)\n",
    "xAxisButton.on_click(xAxisButtonFunction)\n",
    "yAxisButton.on_click(yAxisFaceButtonFunction)\n",
    "displayAll()"
   ]
  },
  {
   "cell_type": "markdown",
   "id": "424e58d1",
   "metadata": {},
   "source": [
    "Following the steps outlined in 6.1 (or any preexisting knowledge you have about how to solve a rubiks cube), program your machine! Consider when and in what sequence you want to call the rotateX, rotateY, and turnFace functions. You may want to create additional functions to help you organize sequences of moves."
   ]
  },
  {
   "cell_type": "code",
   "execution_count": null,
   "id": "0323e291",
   "metadata": {},
   "outputs": [],
   "source": [
    "cubeValues = [[r,r,r,r,r,r,r,r,r],\n",
    "              [w,w,w,w,w,w,w,w,w],\n",
    "              [b,b,b,b,b,b,b,b,b],\n",
    "              [y,y,y,y,y,y,y,y,y],\n",
    "              [g,g,g,g,g,g,g,g,g],\n",
    "              [o,o,o,o,o,o,o,o,o]]"
   ]
  },
  {
   "cell_type": "code",
   "execution_count": null,
   "id": "fd759b0e",
   "metadata": {},
   "outputs": [],
   "source": [
    "# Add code here!"
   ]
  },
  {
   "cell_type": "markdown",
   "id": "fc5f96db",
   "metadata": {},
   "source": [
    "When you are finished, you should be able to manually input the configuration of the cube, run your code, and then see your cube-solving algorithm perform as desired. If this is the case, you are ready to move on to the final section!"
   ]
  }
 ],
 "metadata": {
  "kernelspec": {
   "display_name": "Python 3 (ipykernel)",
   "language": "python",
   "name": "python3"
  },
  "language_info": {
   "codemirror_mode": {
    "name": "ipython",
    "version": 3
   },
   "file_extension": ".py",
   "mimetype": "text/x-python",
   "name": "python",
   "nbconvert_exporter": "python",
   "pygments_lexer": "ipython3",
   "version": "3.9.1"
  }
 },
 "nbformat": 4,
 "nbformat_minor": 5
}
