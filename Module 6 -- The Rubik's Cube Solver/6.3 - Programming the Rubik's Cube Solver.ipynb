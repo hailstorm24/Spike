{
 "cells": [
  {
   "cell_type": "markdown",
   "id": "9a27a136",
   "metadata": {},
   "source": [
    "# Module 6.3: Programming the Rubik's Cube Solver!"
   ]
  },
  {
   "cell_type": "code",
   "execution_count": null,
   "id": "e94160ec",
   "metadata": {},
   "outputs": [],
   "source": []
  },
  {
   "cell_type": "code",
   "execution_count": 1,
   "id": "5684387b",
   "metadata": {},
   "outputs": [
    {
     "name": "stdout",
     "output_type": "stream",
     "text": [
      "Requirement already satisfied: Pillow in /Library/Frameworks/Python.framework/Versions/3.9/lib/python3.9/site-packages (8.2.0)\r\n"
     ]
    }
   ],
   "source": [
    "%run ./module_6_helper_functions.ipynb\n",
    "installs()"
   ]
  },
  {
   "cell_type": "markdown",
   "id": "424e58d1",
   "metadata": {},
   "source": [
    "#### this module should contain:\n",
    "1. copy/paste move code\n",
    "2. combine move code with an array such that it updates an array of cube data correctly with the move functions\n",
    "3. following the steps outlined in 6.1 (or any preexisting knowledge about how to solve a rubix cube), program your machine to solve the cube -- determine when/in what sequence your move functions are called.\n"
   ]
  }
 ],
 "metadata": {
  "kernelspec": {
   "display_name": "Python 3 (ipykernel)",
   "language": "python",
   "name": "python3"
  },
  "language_info": {
   "codemirror_mode": {
    "name": "ipython",
    "version": 3
   },
   "file_extension": ".py",
   "mimetype": "text/x-python",
   "name": "python",
   "nbconvert_exporter": "python",
   "pygments_lexer": "ipython3",
   "version": "3.9.1"
  }
 },
 "nbformat": 4,
 "nbformat_minor": 5
}
