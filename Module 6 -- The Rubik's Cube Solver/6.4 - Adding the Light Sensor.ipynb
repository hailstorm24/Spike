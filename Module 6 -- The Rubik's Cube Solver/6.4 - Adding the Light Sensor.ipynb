{
 "cells": [
  {
   "cell_type": "markdown",
   "id": "cfb3443f",
   "metadata": {},
   "source": [
    "# Module 6.2: Adding the Light Sensor!"
   ]
  },
  {
   "cell_type": "markdown",
   "id": "8c530186",
   "metadata": {},
   "source": [
    "Rather than manually inputing what the initial cube looks like, we to incorperate a light sensor to collect the data for us. Run the cell below to load the functions that you will use in this module. These include:\n",
    "\n",
    "* move(port,rotations,speed) -- takes the port letter (ex. 'A'), number of motor rotations, and speed (between -100 and 100) as parameters and turns the motor accordingly.\n",
    "* display(image) -- takes the image as a parameter and displays it below\n",
    "* cubeImage(cube) -- takes a 6x9 list of charachters (r, o, y, g, b, w) as a parameter and returns the image of the resulting cube\n",
    "* read() -- takes no parameters, returns the input from the serial port as a string.\n",
    "* setupLightSensor(port) -- takes the port letter (ex. 'A') as a parameter and connects to the sensor. It must be run before calling any function to get color sensor data.\n",
    "* color(num) -- takes an integer as a parameter (2 for red, 3 for blue, 4 for green) and returns the intensity of the corresponding color (between 0 and 1024)\n",
    "* getColors() -- returns red green and blue intensity values (between 0 and 1024) as a tuple\n",
    "* getRGB() -- returns RGB values (between 0 and 255) as a tuple\n",
    "* printColor(rgb) -- takes an array of integers as a parameter, returns the hex value, and prints the hex value as well as a swatch of the corresponding color."
   ]
  },
  {
   "cell_type": "code",
   "execution_count": 7,
   "id": "4e79e211",
   "metadata": {},
   "outputs": [],
   "source": [
    "from IPython.display import Markdown, clear_output\n",
    "%run ./module_6_helper_functions.ipynb\n",
    "clear_output()\n",
    "\n",
    "def read():\n",
    "    string1=''\n",
    "    string2 = '  '\n",
    "    while len(string2):\n",
    "        time.sleep(0.1)\n",
    "        string2 = ReadSerial()\n",
    "        string1 = string1+string2\n",
    "    return string1\n",
    "\n",
    "def setupLightSensor(port):\n",
    "    WriteSerial('import hub\\r\\n')\n",
    "    WriteSerial('light_sensor = hub.port.'+str(port)+'.device\\r\\n')\n",
    "\n",
    "def color(num):\n",
    "    WriteSerial('print(light_sensor.get()['+str(num)+'])\\r\\n')\n",
    "    try:\n",
    "        return(int(read().split('\\r\\n')[-2]))\n",
    "    except:\n",
    "        print(\"Are you sure the light sensor is connected correctly?\")\n",
    "\n",
    "def getColors():\n",
    "    return ((color(2),color(3),color(4)))\n",
    "\n",
    "def getRGB():\n",
    "    return(int(color(2)/1024*255),int(color(3)/1024*255),int(color(4)/1024*255))\n",
    "\n",
    "def printColor(rgb):\n",
    "    colors = [\"#\"+('%02x%02x%02x' %(rgb[0],rgb[1],rgb[2]))]\n",
    "    display(Markdown('<br>'.join(\n",
    "        f'<span style=\"font-family: monospace\">{color} <span style=\"color: {color}\">████████</span></span>'\n",
    "        for color in colors\n",
    "    )))\n",
    "    return colors[0][1:]"
   ]
  },
  {
   "cell_type": "markdown",
   "id": "5db8f71b",
   "metadata": {},
   "source": [
    "Copy and paste your cube-solving algorithm from module 6.3. Then, write code to interpret light sensor data, so that you can generate a cubeValues list simply by running the cell."
   ]
  },
  {
   "cell_type": "code",
   "execution_count": null,
   "id": "d23fc063",
   "metadata": {},
   "outputs": [],
   "source": [
    "# Add code here!"
   ]
  },
  {
   "cell_type": "markdown",
   "id": "22b64d8d",
   "metadata": {},
   "source": [
    "### Congratulations, you've completed the sixth and final module! \n",
    "That's it! You should be proud of all of the difficult tasks that you've accomplished and of all of the skills you've learned along the way :)"
   ]
  }
 ],
 "metadata": {
  "kernelspec": {
   "display_name": "Python 3 (ipykernel)",
   "language": "python",
   "name": "python3"
  },
  "language_info": {
   "codemirror_mode": {
    "name": "ipython",
    "version": 3
   },
   "file_extension": ".py",
   "mimetype": "text/x-python",
   "name": "python",
   "nbconvert_exporter": "python",
   "pygments_lexer": "ipython3",
   "version": "3.9.1"
  }
 },
 "nbformat": 4,
 "nbformat_minor": 5
}
