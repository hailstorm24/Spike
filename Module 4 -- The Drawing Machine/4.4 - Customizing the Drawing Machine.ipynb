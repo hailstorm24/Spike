{
 "cells": [
  {
   "cell_type": "markdown",
   "id": "cb711197",
   "metadata": {},
   "source": [
    "# Module 4.4: Customizing the Drawing Machine!"
   ]
  },
  {
   "cell_type": "markdown",
   "id": "28571119",
   "metadata": {},
   "source": [
    "## Adding a Unique Element to the Drawing Machine:\n",
    "It's now time to add a unique element to your drawing machine. You may choose to add additional motors, use color sensors, or add input from buttons, but you do not have to -- the only requirement is that you are doing *something* to make your creation more complex. Choose from the list of ideas below or come up with your own idea entirely!\n",
    "\n",
    "Some possible ideas include:\n",
    "* Adding a way to draw with multiple colors\n",
    "* Creating a mechanism to lift the pen up and down -- so that the drawing does not have to contain only one continuous line\n",
    "* Incorporating a color sensor so that the drawing machine can copy an image"
   ]
  },
  {
   "cell_type": "markdown",
   "id": "bf747ba5",
   "metadata": {},
   "source": [
    "## Updating the Drawing Machine's Code:\n",
    "\n",
    "Run the code to connect to SPIKE."
   ]
  },
  {
   "cell_type": "code",
   "execution_count": 5,
   "id": "2a0de91e",
   "metadata": {},
   "outputs": [
    {
     "data": {
      "application/vnd.jupyter.widget-view+json": {
       "model_id": "81167ee4d2b04c6a9d28dd186a59fd21",
       "version_major": 2,
       "version_minor": 0
      },
      "text/plain": [
       "Select(description='Select Port:', options=('/dev/cu.Bluetooth-Incoming-Port', '/dev/cu.LEGOHub30E283048E8E', …"
      ]
     },
     "metadata": {},
     "output_type": "display_data"
    },
    {
     "data": {
      "application/vnd.jupyter.widget-view+json": {
       "model_id": "ed0bf20c985c4750b81c2b357c4ecced",
       "version_major": 2,
       "version_minor": 0
      },
      "text/plain": [
       "Output()"
      ]
     },
     "metadata": {},
     "output_type": "display_data"
    }
   ],
   "source": [
    "%run ./module_4_helper_functions.ipynb\n",
    "updatedPortList = search_for_ports()\n",
    "dropdown = widgets.Select(\n",
    "            options=updatedPortList,\n",
    "            description='Select Port:',\n",
    "            disabled=False)\n",
    "output2 = widgets.Output()\n",
    "display(dropdown, output2)\n",
    "dropdown.observe(on_value_change, names='value')"
   ]
  },
  {
   "cell_type": "markdown",
   "id": "5ac56bad",
   "metadata": {},
   "source": [
    "Load the following functions, which include:\n",
    "* move(port,rotations,speed) -- takes the port letter (ex. 'A'), number of motor rotations, and speed (between -100 and 100) as parameters and turns the motor accordingly.\n",
    "* read() -- takes no parameters, returns the input from the serial port as a string. \n",
    "* setupColorSensor(port) -- takes the port letter (ex. 'A') as a parameter and connects to the sensor. It must be run before calling any function to get color sensor data.\n",
    "* color(num) -- takes an integer as a parameter (2 for red, 3 for blue, 4 for green) and returns the intensity of the corresponding color (between 0 and 1024)\n",
    "* getColors() -- returns red green and blue intensity values (between 0 and 1024) as a tuple\n",
    "* getRGB() -- returns RGB values (between 0 and 1024) as a tuple\n",
    "* printColor(rgb) -- takes an array of integers as a parameter and prints the hex value as well as a swatch of the corresponding color.\n",
    "* showPixel(x,y) -- takes the x and y values of a pixel and lights the corresponding pixel on the hub.\n",
    "* clearDisplay() -- turns off all pixels on the hub.\n",
    "* buttonPressed(buttonType) -- takes the button (\"left\" or \"right\") as a parameter and returns true/false depending on whether or not the button has been pressed recently\n"
   ]
  },
  {
   "cell_type": "code",
   "execution_count": 4,
   "id": "ad8e7333",
   "metadata": {},
   "outputs": [],
   "source": [
    "def move(port,rotations,speed):\n",
    "    moveCode = \"\"\"hub.port.\"\"\"+str(port)+\"\"\".motor.run_for_degrees(\"\"\"+str(360*rotations)+\"\"\", \"\"\"+str(speed)+\"\"\")\"\"\"\n",
    "    WriteSerial('\\x05')\n",
    "    WriteSerial(moveCode)\n",
    "    WriteSerial('\\x04')\n",
    "\n",
    "def read():\n",
    "    string1=''\n",
    "    string2 = '  '\n",
    "    while len(string2):\n",
    "        time.sleep(0.1)\n",
    "        string2 = ReadSerial()\n",
    "        string1 = string1+string2\n",
    "    return string1\n",
    "\n",
    "def setupColorSensor(port):\n",
    "    WriteSerial('import hub\\r\\n')\n",
    "    WriteSerial('light_sensor = hub.port.'+str(port)+'.device\\r\\n')\n",
    "\n",
    "def color(num):\n",
    "    WriteSerial('print(light_sensor.get()['+str(num)+'])\\r\\n')\n",
    "    return(int(read().split('\\r\\n')[-2]))\n",
    "\n",
    "def getColors():\n",
    "    return ((color(2),color(3),color(4)))\n",
    "\n",
    "def getRGB():\n",
    "    return(int(color(2)/1024*255),int(color(3)/1024*255),int(color(4)/1024*255))\n",
    "\n",
    "def printColor(rgb):\n",
    "    colors = [\"#\"+('%02x%02x%02x' %(rgb[0],rgb[1],rgb[2]))]\n",
    "    display(Markdown('<br>'.join(\n",
    "        f'<span style=\"font-family: monospace\">{color} <span style=\"color: {color}\">████████</span></span>'\n",
    "        for color in colors\n",
    "    )))\n",
    "\n",
    "def showPixel(x,y):\n",
    "    pixelCode = \"\"\"hub.display.pixel(\"\"\"+str(x)+\"\"\",\"\"\"+str(y)+\"\"\",9)\"\"\"\n",
    "    WriteSerial('\\x05')\n",
    "    WriteSerial(pixelCode)\n",
    "    WriteSerial('\\x04')\n",
    "\n",
    "def clearDisplay():\n",
    "    clearCode = \"\"\"hub.display.clear()\"\"\"\n",
    "    WriteSerial('\\x05')\n",
    "    WriteSerial(clearCode)\n",
    "    WriteSerial('\\x04')\n",
    "\n",
    "def buttonPressed(buttonType):\n",
    "    if(buttonType==\"right\"):\n",
    "        buttonCode = \"\"\"print(hub.button.right.was_pressed())\"\"\"\n",
    "    elif(buttonType==\"left\"):\n",
    "        buttonCode = \"\"\"print(hub.button.left.was_pressed())\"\"\"\n",
    "    WriteSerial('\\x05')\n",
    "    WriteSerial(buttonCode)\n",
    "    WriteSerial('\\x04')\n",
    "    responses = ReadSerial()\n",
    "    if(\"True\" in responses):\n",
    "        return True\n",
    "    else:\n",
    "        return False"
   ]
  },
  {
   "cell_type": "markdown",
   "id": "5d073b6d",
   "metadata": {},
   "source": [
    "Use the cell below to program your machine. You should draw (haha, get it?) from the functions you created in section 4.3. If you wish to organize your code, you may split it across multiple cells."
   ]
  },
  {
   "cell_type": "code",
   "execution_count": null,
   "id": "e0eb39e4",
   "metadata": {},
   "outputs": [],
   "source": []
  },
  {
   "cell_type": "markdown",
   "id": "2ecd3e5b",
   "metadata": {},
   "source": [
    "### Congratulations, you've completed the fourth module! \n",
    "When you are finished with your drawing machine, disassemble it. You're now ready to move on to the next module! "
   ]
  }
 ],
 "metadata": {
  "kernelspec": {
   "display_name": "Python 3 (ipykernel)",
   "language": "python",
   "name": "python3"
  },
  "language_info": {
   "codemirror_mode": {
    "name": "ipython",
    "version": 3
   },
   "file_extension": ".py",
   "mimetype": "text/x-python",
   "name": "python",
   "nbconvert_exporter": "python",
   "pygments_lexer": "ipython3",
   "version": "3.9.1"
  }
 },
 "nbformat": 4,
 "nbformat_minor": 5
}
