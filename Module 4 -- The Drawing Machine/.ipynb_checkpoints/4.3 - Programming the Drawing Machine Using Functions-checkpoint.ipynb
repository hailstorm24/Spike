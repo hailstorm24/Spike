{
 "cells": [
  {
   "cell_type": "markdown",
   "id": "7e90a43e",
   "metadata": {},
   "source": [
    "# Module 4.3: Programming the Drawing Machine Using Functions"
   ]
  },
  {
   "cell_type": "markdown",
   "id": "0ed96b96",
   "metadata": {},
   "source": [
    "In this section, we will learn about how to create and utilize functions to program the machine. While we have called functions in previous modules (ex. the move function, or the getRGB function), this section will walk us through creating our own functions. As always, you will need to edit and write code directly in the notebook's cells -- if you would like to show or hide a cell, double click the space to it's left; to edit a cell, simply double click it. "
   ]
  },
  {
   "cell_type": "markdown",
   "id": "9a07f9c1",
   "metadata": {},
   "source": [
    "Run the following code and connect to your SPIKE hub. Again, you do not need to modify it or understand how it works."
   ]
  },
  {
   "cell_type": "code",
   "execution_count": null,
   "id": "e8850b0b",
   "metadata": {},
   "outputs": [],
   "source": [
    "%run ./module_4_helper_functions.ipynb\n",
    "updatedPortList = search_for_ports()\n",
    "dropdown = widgets.Select(\n",
    "            options=updatedPortList,\n",
    "            description='Select Port:',\n",
    "            disabled=False)\n",
    "output2 = widgets.Output()\n",
    "display(dropdown, output2)\n",
    "dropdown.observe(on_value_change, names='value')"
   ]
  },
  {
   "cell_type": "markdown",
   "id": "30eba49f",
   "metadata": {},
   "source": [
    "Run the cell to load the motion function that allows us to control your SPIKE hub. This is the same function we have been using in past modules -- it turns a motor for a specified number of rotations, taking the port letter, number of motor rotations, and speed (between -100 and 100) as parameters. For example, *move ('A', 0.5, 15)* would rotate the motor at port A by half a rotation at a speed of 15."
   ]
  },
  {
   "cell_type": "code",
   "execution_count": null,
   "id": "a66ac79a",
   "metadata": {},
   "outputs": [],
   "source": [
    "def move(port,rotations,speed):\n",
    "    moveCode = \"\"\"hub.port.\"\"\"+str(port)+\"\"\".motor.run_for_degrees(\"\"\"+str(360*rotations)+\"\"\", \"\"\"+str(speed)+\"\"\")\"\"\"\n",
    "    WriteSerial('\\x05')\n",
    "    WriteSerial(moveCode)\n",
    "    WriteSerial('\\x04')"
   ]
  },
  {
   "cell_type": "markdown",
   "id": "5015a793",
   "metadata": {},
   "source": [
    "In the cell below, use move statements to program your machine to draw a triangle. If you would like the program to wait at any point, use time.sleep(seconds)."
   ]
  },
  {
   "cell_type": "code",
   "execution_count": null,
   "id": "865044ab",
   "metadata": {},
   "outputs": [],
   "source": [
    "# write and run your code here!"
   ]
  },
  {
   "cell_type": "markdown",
   "id": "424de799",
   "metadata": {},
   "source": [
    "If we want to draw multiple squares, we can run the same code multiple times. However, a more efficent solution would be to create our own function. Edit the code below to call the sayHello function twice."
   ]
  },
  {
   "cell_type": "code",
   "execution_count": null,
   "id": "75b6aab0",
   "metadata": {},
   "outputs": [],
   "source": [
    "import random\n",
    "\n",
    "def sayHello():\n",
    "    greetings = [\"Hi!\",\"Helloooo\",\"Top of the Morning to You!\",\"Good Evening\",\"Good Afternoon\",\"Good Day\"]\n",
    "    print(greetings[random.randint(0,len(greetings)-1)])\n",
    "    \n",
    "sayHello()"
   ]
  },
  {
   "cell_type": "markdown",
   "id": "a1168f26",
   "metadata": {},
   "source": [
    "Using the cell below, create a function to draw a rectangle. Call the function."
   ]
  },
  {
   "cell_type": "code",
   "execution_count": null,
   "id": "e460cc4c",
   "metadata": {},
   "outputs": [],
   "source": [
    "# write and run your code here!"
   ]
  },
  {
   "cell_type": "markdown",
   "id": "9d65311b",
   "metadata": {},
   "source": [
    "Sometimes, we need a function to require parameters, or variables that will then be used by the function. Edit the code below to check whether seventeen is divisible by two."
   ]
  },
  {
   "cell_type": "code",
   "execution_count": null,
   "id": "48a73d6e",
   "metadata": {},
   "outputs": [],
   "source": [
    "def divisibility(number):\n",
    "    if(number%2==0): # if the remainder when divided by two is zero\n",
    "        print(\"Wow! The number is even!\")\n",
    "    else:\n",
    "        print(\"How odd... the number is not divisible by two.\")\n",
    "        \n",
    "divisibility(4)"
   ]
  },
  {
   "cell_type": "markdown",
   "id": "928f8b57",
   "metadata": {},
   "source": [
    "Adapt your rectangle function to draw a rectangle of a specific length and width. Call the function twice to draw two rectangles of different sizes."
   ]
  },
  {
   "cell_type": "code",
   "execution_count": null,
   "id": "2322f42d",
   "metadata": {},
   "outputs": [],
   "source": [
    "# write and run your code here!"
   ]
  },
  {
   "cell_type": "markdown",
   "id": "d865a0bc",
   "metadata": {},
   "source": [
    "We can also have a function that returns an object. This is useful if we want the function to run a calculation or return information, rather than performing a task. Adapt the function below to return the smallest number from the list."
   ]
  },
  {
   "cell_type": "code",
   "execution_count": null,
   "id": "574b14cf",
   "metadata": {},
   "outputs": [],
   "source": [
    "def biggestNumber(listOfNumbers):\n",
    "    biggestNumberYet = listOfNumbers[0] # first number from listOfNumbers\n",
    "    for number in listOfNumbers:\n",
    "        if number>biggestNumberYet:\n",
    "            biggestNumberYet = number\n",
    "    return biggestNumberYet\n",
    "\n",
    "numberList = [1,3,5,2,9,5]\n",
    "bigBigNumber = biggestNumber(numberList)\n",
    "print(bigBigNumber)"
   ]
  },
  {
   "cell_type": "markdown",
   "id": "808a396f",
   "metadata": {},
   "source": [
    "Write two functions for your drawing machine: \n",
    "* A rectangle function using the parameters X-position, Y-position, length, and width.  \n",
    "* A triangle function using the parameters X-position, Y-position, and size.\n",
    "\n",
    "Challenge: write an additional function to draw a circle."
   ]
  },
  {
   "cell_type": "code",
   "execution_count": null,
   "id": "c91b6811",
   "metadata": {},
   "outputs": [],
   "source": [
    "# write and run your code here!"
   ]
  },
  {
   "cell_type": "markdown",
   "id": "6d04c4f5",
   "metadata": {},
   "source": [
    "Using the functions that you created, can you write a program to draw a house? How about a tree? A robot? A lego brick? In the cell below, experiment with combining your functions to see what you can create."
   ]
  },
  {
   "cell_type": "code",
   "execution_count": null,
   "id": "a5e7b9e9",
   "metadata": {},
   "outputs": [],
   "source": [
    "# write and run your code here!"
   ]
  },
  {
   "cell_type": "markdown",
   "id": "a7815a7b",
   "metadata": {},
   "source": [
    "When you are satisfied with the pictures that you have drawn, you are ready to continue on to the next section!"
   ]
  }
 ],
 "metadata": {
  "kernelspec": {
   "display_name": "Python 3 (ipykernel)",
   "language": "python",
   "name": "python3"
  },
  "language_info": {
   "codemirror_mode": {
    "name": "ipython",
    "version": 3
   },
   "file_extension": ".py",
   "mimetype": "text/x-python",
   "name": "python",
   "nbconvert_exporter": "python",
   "pygments_lexer": "ipython3",
   "version": "3.9.1"
  }
 },
 "nbformat": 4,
 "nbformat_minor": 5
}
