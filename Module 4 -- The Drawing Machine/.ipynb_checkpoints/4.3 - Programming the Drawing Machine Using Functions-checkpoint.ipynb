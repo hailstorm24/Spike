{
 "cells": [
  {
   "cell_type": "markdown",
   "id": "7e90a43e",
   "metadata": {},
   "source": [
    "# Module 4.3: Programming the Drawing Machine Using Functions"
   ]
  },
  {
   "cell_type": "markdown",
   "id": "0ed96b96",
   "metadata": {},
   "source": [
    "In this section, we will learn about how to create and utilize functions to program the machine. While we have used functions in previous modules (ex. the move function, or the getRGB function), this section will walk us through creating our own functions. As always, you will need to edit and write code directly in the notebook's cells -- if you would like to show or hide a cell, double click the space to it's left; to edit a cell, simply double click it. "
   ]
  },
  {
   "cell_type": "markdown",
   "id": "9a07f9c1",
   "metadata": {},
   "source": [
    "Run the following code and connect to your SPIKE hub. Again, you do not need to modify it or understand how it works."
   ]
  },
  {
   "cell_type": "code",
   "execution_count": 1,
   "id": "e8850b0b",
   "metadata": {},
   "outputs": [
    {
     "data": {
      "application/vnd.jupyter.widget-view+json": {
       "model_id": "11d628b6612546489c89152364241c92",
       "version_major": 2,
       "version_minor": 0
      },
      "text/plain": [
       "Select(description='Select Port:', options=('/dev/cu.Bluetooth-Incoming-Port', '/dev/cu.LEGOHub30E283048E8E', …"
      ]
     },
     "metadata": {},
     "output_type": "display_data"
    },
    {
     "data": {
      "application/vnd.jupyter.widget-view+json": {
       "model_id": "282f3c4fc0de4c978cf0641c3b20c767",
       "version_major": 2,
       "version_minor": 0
      },
      "text/plain": [
       "Output()"
      ]
     },
     "metadata": {},
     "output_type": "display_data"
    }
   ],
   "source": [
    "import serial\n",
    "import sys\n",
    "import glob\n",
    "import time\n",
    "import serial.tools.list_ports\n",
    "import ipywidgets as widgets\n",
    "from IPython.display import display\n",
    "from IPython.display import clear_output\n",
    "\n",
    "\n",
    "ser = None\n",
    "\n",
    "def serial_ports():\n",
    "     result = []\n",
    "     ports = serial.tools.list_ports.comports()\n",
    "     for port, desc, hwid in sorted(ports):\n",
    "          comm =  \"{}: {}\".format(port, desc)\n",
    "          result.append(comm) \n",
    "     return result\n",
    "\n",
    "def InitSerial(port, bps = 9600, to = 0):\n",
    "    global ser\n",
    "    try:\n",
    "        ser = serial.Serial(port, bps, timeout = to)  # open serial port\n",
    "        ser.flushInput()\n",
    "        ser.flushOutput()\n",
    "        return ser.name\n",
    "    except Exception as e:\n",
    "        return 'ERR: ' + str(e)\n",
    "\n",
    "def CloseSerial():\n",
    "    return('done')\n",
    "    try:\n",
    "        ser.flush()\n",
    "        ser.close()\n",
    "        return 'done'\n",
    "    except Exception as e:\n",
    "        return 'ERR: ' + str(e)    \n",
    "\n",
    "def WriteSerial(string):\n",
    "    try:\n",
    "        reply = ser.write(string.encode())\n",
    "        return str(reply)\n",
    "    except Exception as e:\n",
    "        return 'ERR: ' + str(e)    \n",
    "\n",
    "def ReadSerial():\n",
    "    try:\n",
    "        reply = ''\n",
    "        while ser.in_waiting:\n",
    "            reply = reply + ser.readline().decode()\n",
    "        return reply\n",
    "    except Exception as e:\n",
    "        return 'ERR: ' +  str(e)\n",
    "    \n",
    "def SendRead(string):\n",
    "    if WriteSerial(string):\n",
    "        time.sleep(0.1)\n",
    "        return ReadSerial()\n",
    "    \n",
    "updatedPortList = []\n",
    "\n",
    "def search_for_ports():\n",
    "#     updatedPortList = []\n",
    "    serialPortList = serial_ports()\n",
    "    for x in serialPortList:\n",
    "        updatedPortList.append(x[:x.index(':')])\n",
    "        \n",
    "def on_value_change(change):\n",
    "    with output2:\n",
    "        InitSerial(change['new'],115200)\n",
    "        WriteSerial('\\x03')\n",
    "        run_some_code()\n",
    "        \n",
    "def run_some_code():\n",
    "    code = '''\n",
    "import hub,utime\n",
    "    '''\n",
    "    WriteSerial('\\x05')\n",
    "    WriteSerial(code)\n",
    "    WriteSerial('\\x04')\n",
    "    WriteSerial('\\x03')\n",
    "    \n",
    "    time.sleep(1) #wait for everything to get over there and read all the replies\n",
    "    words = ReadSerial()\n",
    "#     print(words)\n",
    "    if (\">>>\" in words):\n",
    "        print(\"You are now connected to SPIKE Prime!\")\n",
    "    else:\n",
    "        print(\"Error, try reconnecting or connecting to a different serial port.\")\n",
    "\n",
    "updatedPortList = []\n",
    "search_for_ports()\n",
    "dropdown = widgets.Select(\n",
    "            options=updatedPortList,\n",
    "            description='Select Port:',\n",
    "            disabled=False)\n",
    "output2 = widgets.Output()\n",
    "display(dropdown, output2)\n",
    "dropdown.observe(on_value_change, names='value')"
   ]
  },
  {
   "cell_type": "markdown",
   "id": "30eba49f",
   "metadata": {},
   "source": [
    "Run the cell to load the motion function that allows us to control your SPIKE hub. This is the same function we have been using in past modules -- it turns a motor for a specified number of rotations, taking the port letter, number of motor rotations, and speed (between -100 and 100) as parameters. For example, *move ('A', 0.5, 15)* would rotate the motor at port A by half a rotation at a speed of 15."
   ]
  },
  {
   "cell_type": "code",
   "execution_count": null,
   "id": "a66ac79a",
   "metadata": {},
   "outputs": [],
   "source": [
    "def move(port,rotations,speed):\n",
    "    moveCode = \"\"\"hub.port.\"\"\"+str(port)+\"\"\".motor.run_for_degrees(\"\"\"+str(360*rotations)+\"\"\", \"\"\"+str(speed)+\"\"\")\"\"\"\n",
    "    WriteSerial('\\x05')\n",
    "    WriteSerial(moveCode)\n",
    "    WriteSerial('\\x04')"
   ]
  },
  {
   "cell_type": "markdown",
   "id": "5015a793",
   "metadata": {},
   "source": [
    "In the cell below, use move functions to program your machine to draw a triangle."
   ]
  },
  {
   "cell_type": "code",
   "execution_count": null,
   "id": "865044ab",
   "metadata": {},
   "outputs": [],
   "source": []
  },
  {
   "cell_type": "markdown",
   "id": "424de799",
   "metadata": {},
   "source": [
    "If we want to draw multiple squares, we can run the same code multiple times. However, a more efficent solution would be to create a function. Edit the code below to call the sayHello function twice."
   ]
  },
  {
   "cell_type": "code",
   "execution_count": 39,
   "id": "75b6aab0",
   "metadata": {},
   "outputs": [
    {
     "name": "stdout",
     "output_type": "stream",
     "text": [
      "Good Day\n"
     ]
    }
   ],
   "source": [
    "import random\n",
    "def sayHello():\n",
    "    greetings = [\"Hi!\",\"Helloooo\",\"Top of the Morning to You!\",\"Good Evening\",\"Good Afternoon\",\"Good Day\"]\n",
    "    print(greetings[random.randint(0,len(greetings)-1)])\n",
    "sayHello()"
   ]
  },
  {
   "cell_type": "markdown",
   "id": "a1168f26",
   "metadata": {},
   "source": [
    "Using the cell below, create a function to draw a rectangle. Call the function."
   ]
  },
  {
   "cell_type": "code",
   "execution_count": null,
   "id": "e460cc4c",
   "metadata": {},
   "outputs": [],
   "source": []
  },
  {
   "cell_type": "markdown",
   "id": "9d65311b",
   "metadata": {},
   "source": [
    "Sometimes, we need a function to require parameters, or variables that will then be used by the function. Edit the code below to check whether seventeen is divisible by two."
   ]
  },
  {
   "cell_type": "code",
   "execution_count": 6,
   "id": "48a73d6e",
   "metadata": {},
   "outputs": [
    {
     "name": "stdout",
     "output_type": "stream",
     "text": [
      "Wow! The number is even!\n"
     ]
    }
   ],
   "source": [
    "def divisibility(number):\n",
    "    if(number%2==0): # if the remainder when divided by two is zero\n",
    "        print(\"Wow! The number is even!\")\n",
    "    else:\n",
    "        print(\"How odd... the number is not divisible by two.\")\n",
    "        \n",
    "divisibility(4)"
   ]
  },
  {
   "cell_type": "markdown",
   "id": "928f8b57",
   "metadata": {},
   "source": [
    "Adapt your rectangle function to draw a rectangle of a specific length and width. Call the function twice to draw two rectangles of different sizes."
   ]
  },
  {
   "cell_type": "code",
   "execution_count": null,
   "id": "2322f42d",
   "metadata": {},
   "outputs": [],
   "source": []
  },
  {
   "cell_type": "markdown",
   "id": "d865a0bc",
   "metadata": {},
   "source": [
    "We can also have a function that returns an object. This is useful if we want the function to run a calculation or return information, rather than performing a task. Adapt the function below to return the smallest number from the list."
   ]
  },
  {
   "cell_type": "code",
   "execution_count": 12,
   "id": "574b14cf",
   "metadata": {},
   "outputs": [
    {
     "name": "stdout",
     "output_type": "stream",
     "text": [
      "9\n"
     ]
    }
   ],
   "source": [
    "def biggestNumber(listOfNumbers):\n",
    "    biggestNumberYet = listOfNumbers[0] # first number from listOfNumbers\n",
    "    for number in listOfNumbers:\n",
    "        if number>biggestNumberYet:\n",
    "            biggestNumberYet = number\n",
    "    return biggestNumberYet\n",
    "\n",
    "numberList = [1,3,5,2,9,5]\n",
    "bigBigNumber = biggestNumber(numberList)\n",
    "print(bigBigNumber)"
   ]
  },
  {
   "cell_type": "markdown",
   "id": "808a396f",
   "metadata": {},
   "source": [
    "Write two functions for your drawing machine: \n",
    "* A rectangle function using the parameters X-position, Y-position, length, and width.  \n",
    "* A triangle function using the parameters X-position, Y-position, and size.\n",
    "\n",
    "Challenge: write an additional function to draw a circle."
   ]
  },
  {
   "cell_type": "code",
   "execution_count": null,
   "id": "c91b6811",
   "metadata": {},
   "outputs": [],
   "source": []
  },
  {
   "cell_type": "markdown",
   "id": "6d04c4f5",
   "metadata": {},
   "source": [
    "Using the functions that you created, can you write a program to draw a house? How about a tree? A robot? A lego brick? In the cell below, experiment with combining your functions to see what you can create."
   ]
  },
  {
   "cell_type": "code",
   "execution_count": null,
   "id": "a5e7b9e9",
   "metadata": {},
   "outputs": [],
   "source": []
  },
  {
   "cell_type": "markdown",
   "id": "a7815a7b",
   "metadata": {},
   "source": [
    "When you are satisfied with the pictures that you have drawn, you are ready to continue on to the next section!"
   ]
  }
 ],
 "metadata": {
  "kernelspec": {
   "display_name": "Python 3 (ipykernel)",
   "language": "python",
   "name": "python3"
  },
  "language_info": {
   "codemirror_mode": {
    "name": "ipython",
    "version": 3
   },
   "file_extension": ".py",
   "mimetype": "text/x-python",
   "name": "python",
   "nbconvert_exporter": "python",
   "pygments_lexer": "ipython3",
   "version": "3.9.1"
  }
 },
 "nbformat": 4,
 "nbformat_minor": 5
}
