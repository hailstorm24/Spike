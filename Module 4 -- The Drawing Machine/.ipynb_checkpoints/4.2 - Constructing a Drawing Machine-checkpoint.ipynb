{
 "cells": [
  {
   "cell_type": "markdown",
   "id": "9ff30ea0",
   "metadata": {},
   "source": [
    "# Module 4.2: Constructing a Drawing Machine!"
   ]
  },
  {
   "cell_type": "markdown",
   "id": "f7334d69",
   "metadata": {},
   "source": [
    "### Constructing the Machine:\n",
    "\n",
    "Combining any of the engineering principles you have learned in section 4.1 or in past modules, construct a machine that will control a marker to draw shapes on a piece of paper.\n",
    "\n",
    "Some specifics:\n",
    "\n",
    "* You should use two motors. \n",
    "* You may move the paper, the marker, or both.\n",
    "* You must be able to control both axes -- you should be able to move the position of the marker to any point within a section that is at least 2.5\" x 2.5\". \n",
    "* You may use any of the parts in your SPIKE kit, as well as any common household items (such as string) if you wish."
   ]
  },
  {
   "cell_type": "markdown",
   "id": "0cea8444",
   "metadata": {},
   "source": [
    "### Controlling the Machine:\n",
    "\n",
    "Plug the motors into ports A and B and control using the buttons below."
   ]
  },
  {
   "cell_type": "code",
   "execution_count": null,
   "id": "bb4af3af",
   "metadata": {},
   "outputs": [],
   "source": [
    "%run ./module_4_helper_functions.ipynb\n",
    "updatedPortList = search_for_ports()\n",
    "dropdown = widgets.Select(\n",
    "            options=updatedPortList,\n",
    "            description='Select Port:',\n",
    "            disabled=False)\n",
    "output2 = widgets.Output()\n",
    "display(dropdown, output2)\n",
    "dropdown.observe(on_value_change, names='value')\n",
    "drawingMachineButtons()"
   ]
  },
  {
   "cell_type": "markdown",
   "id": "90e790e2",
   "metadata": {},
   "source": [
    "When you are ready to program your machine, you may move on to the next section."
   ]
  }
 ],
 "metadata": {
  "kernelspec": {
   "display_name": "Python 3 (ipykernel)",
   "language": "python",
   "name": "python3"
  },
  "language_info": {
   "codemirror_mode": {
    "name": "ipython",
    "version": 3
   },
   "file_extension": ".py",
   "mimetype": "text/x-python",
   "name": "python",
   "nbconvert_exporter": "python",
   "pygments_lexer": "ipython3",
   "version": "3.9.1"
  }
 },
 "nbformat": 4,
 "nbformat_minor": 5
}
